{
  "nbformat": 4,
  "nbformat_minor": 0,
  "metadata": {
    "kernelspec": {
      "display_name": "Python 3",
      "language": "python",
      "name": "python3"
    },
    "language_info": {
      "codemirror_mode": {
        "name": "ipython",
        "version": 3
      },
      "file_extension": ".py",
      "mimetype": "text/x-python",
      "name": "python",
      "nbconvert_exporter": "python",
      "pygments_lexer": "ipython3",
      "version": "3.7.6"
    },
    "colab": {
      "name": "Practica3_Scrap_EDAWoAns.ipynb",
      "provenance": [],
      "collapsed_sections": [
        "dpyF5RYww834"
      ],
      "toc_visible": true,
      "include_colab_link": true
    }
  },
  "cells": [
    {
      "cell_type": "markdown",
      "metadata": {
        "id": "view-in-github",
        "colab_type": "text"
      },
      "source": [
        "<a href=\"https://colab.research.google.com/github/AxlSyr/MachineLearning/blob/main/Practica3_Scrap_EDAWoAns.ipynb\" target=\"_parent\"><img src=\"https://colab.research.google.com/assets/colab-badge.svg\" alt=\"Open In Colab\"/></a>"
      ]
    },
    {
      "cell_type": "markdown",
      "metadata": {
        "id": "kY-YKblWw83p"
      },
      "source": [
        "<img src=\"https://raw.githubusercontent.com/jhermosillo/DIPLOMADO_CDP/main/02_Analisis_Estadistico/images/logos/ColorLogo.png\">"
      ]
    },
    {
      "cell_type": "markdown",
      "metadata": {
        "id": "Vcb7mRGaw83w"
      },
      "source": [
        "[![Open In Colab](https://colab.research.google.com/assets/colab-badge.svg)](https://colab.research.google.com/github/jhermosillo/DIPLOMADO_CDP/blob/master/02_Analisis_Estadistico/notebook/practices/Practica3_Scrap_EDAWoAns.ipynb)"
      ]
    },
    {
      "cell_type": "markdown",
      "metadata": {
        "id": "Uon2aGegw83x"
      },
      "source": [
        "<h1><center>Práctica 3 de Módulo 2</center><h1>"
      ]
    },
    {
      "cell_type": "markdown",
      "metadata": {
        "id": "uoe5Vw5Hw83x"
      },
      "source": [
        "## ¿Qué es web scrapping?\n",
        "\n",
        "Es una técnica para recuperar grandes cantidades de datos de Internet.\n",
        "\n",
        "-----\n",
        "\n",
        "Existen diferentes técnicas como Scrappy, BeautifulSoup, etc. La librería más común es BeautifulSoup. \n",
        "\n",
        "Extrae la página Html de cualquier sitio web. Los datos almacenados por web Scrapping son un formato no estructurado. Convertimos los datos no estructurados en estructurados para el análisis y la exploración de datos.\n",
        "\n",
        "------\n",
        "\n",
        "### Bibliotecas utilizadas para Web Scraping\n",
        "\n",
        "Como sabemos, Python se usa para varias aplicaciones y existen diferentes bibliotecas para diferentes propósitos. En nuestra demostración adicional, usaremos las siguientes bibliotecas:\n",
        "\n",
        "   * BeautifulSoup: Beautiful Soup es un paquete de Python para analizar documentos HTML y XML. Crea árboles de análisis que son útiles para extraer los datos fácilmente.\n",
        "   * Pandas: Pandas es una biblioteca que se utiliza para la manipulación y el análisis de datos. Se utiliza para extraer los datos y almacenarlos en el formato deseado.\n",
        "   * Utilice matplotlib y seaborn para la visualización de datos"
      ]
    },
    {
      "cell_type": "markdown",
      "metadata": {
        "id": "4IL8EYzjw83y"
      },
      "source": [
        "------\n",
        "### ¿Cómo funciona el Web Scraping?\n",
        "\n",
        "Cuando ejecuta el código para web scraping, se envía una solicitud a la URL que ha mencionado. Como respuesta a la solicitud, el servidor envía los datos y le permite leer la página HTML o XML. Luego, el código analiza la página HTML o XML, encuentra los datos y los extrae.\n",
        "\n",
        "Para extraer datos utilizando web scraping con Python, debe seguir estos pasos básicos:\n",
        "\n",
        "   * Busque la URL que desea raspar\n",
        "   * Inspecciona la página\n",
        "   * Encuentra los datos que quieres extraer\n",
        "   * Escribe el codigo\n",
        "   * Ejecute el código y extraiga los datos\n",
        "   * Almacene los datos en el formato requerido\n",
        "\n",
        "------"
      ]
    },
    {
      "cell_type": "markdown",
      "metadata": {
        "id": "G0yPncMAw83y"
      },
      "source": [
        "-------\n",
        "\n",
        "### Datos del sitio web de Flipkart\n",
        "\n",
        "Para comprobar cuál debería ser el precio óptimo de nuestro producto, estos precios pueden variar mucho. Entonces, vamos a mostrar cómo podemos obtener información relacionada con un producto en particular (computadora portátil).\n",
        "\n",
        "Primero, importemos todas las bibliotecas necesarias:"
      ]
    },
    {
      "cell_type": "code",
      "metadata": {
        "id": "_mlN9DhGw83z"
      },
      "source": [
        "import requests\n",
        "import pandas as pd\n",
        "from bs4 import BeautifulSoup"
      ],
      "execution_count": 1,
      "outputs": []
    },
    {
      "cell_type": "markdown",
      "metadata": {
        "id": "330vWvMgw83z"
      },
      "source": [
        "Los datos que extraemos son datos no estructurados. Por eso, crearemos listas vacías para almacenarlas de forma estructurada"
      ]
    },
    {
      "cell_type": "code",
      "metadata": {
        "id": "Jm6TXrwKw830"
      },
      "source": [
        "name=[]\n",
        "prices=[]\n",
        "ratings=[]\n",
        "df = pd.DataFrame()"
      ],
      "execution_count": 2,
      "outputs": []
    },
    {
      "cell_type": "markdown",
      "metadata": {
        "id": "WdESDuiaw830"
      },
      "source": [
        "## Paso 1: busque la URL\n",
        "\n",
        "Para este ejemplo, vamos a **raspar** (Scrap) el sitio web de **Flipkart** para extraer el nombre, el precio y la calificación de las computadoras portátiles. La URL de esta página es:\n",
        "\n",
        "[Flipkart](https://www.flipkart.com/search?q=laptops&otracker=search&otracker1=search&marketplace=FLIPKART&as-show=on&as=off&as-pos=1&as-type=HISTORY.)"
      ]
    },
    {
      "cell_type": "code",
      "metadata": {
        "id": "DM7qbBbUw830",
        "colab": {
          "base_uri": "https://localhost:8080/"
        },
        "outputId": "570891ec-3c5d-4425-caa7-78e0b645dc65"
      },
      "source": [
        "r = requests.get('https://www.flipkart.com/search?q=laptops&otracker=search&otracker1=search&marketplace=FLIPKART&as-show=on&as=off&as-pos=1&as-type=HISTORY.')\n",
        "r"
      ],
      "execution_count": 3,
      "outputs": [
        {
          "output_type": "execute_result",
          "data": {
            "text/plain": [
              "<Response [200]>"
            ]
          },
          "metadata": {
            "tags": []
          },
          "execution_count": 3
        }
      ]
    },
    {
      "cell_type": "code",
      "metadata": {
        "id": "au687TUow830"
      },
      "source": [
        "html = r.text"
      ],
      "execution_count": 4,
      "outputs": []
    },
    {
      "cell_type": "code",
      "metadata": {
        "id": "hOoaq7bqw831",
        "colab": {
          "base_uri": "https://localhost:8080/"
        },
        "outputId": "97860c30-61f5-4c6a-f2d0-29bc215bfb7d"
      },
      "source": [
        "r"
      ],
      "execution_count": 5,
      "outputs": [
        {
          "output_type": "execute_result",
          "data": {
            "text/plain": [
              "<Response [200]>"
            ]
          },
          "metadata": {
            "tags": []
          },
          "execution_count": 5
        }
      ]
    },
    {
      "cell_type": "markdown",
      "metadata": {
        "id": "8y_PAzDLw832"
      },
      "source": [
        "## Paso 2: inspección de la página\n",
        "\n",
        "Los datos suelen estar anidados en etiquetas. Entonces, inspeccionamos la página para ver, bajo qué etiqueta están anidados los datos que queremos raspar. Para inspeccionar la página, simplemente haga clic derecho en el elemento y haga clic en \"Inspeccionar\" (o F12)."
      ]
    },
    {
      "cell_type": "markdown",
      "metadata": {
        "id": "UKzO0u0fw833"
      },
      "source": [
        "![img](https://miro.medium.com/max/571/0*TF2VBxPanqhxb-hY.png)"
      ]
    },
    {
      "cell_type": "markdown",
      "metadata": {
        "id": "dpyF5RYww834"
      },
      "source": [
        "## Paso 3: busque los datos que desea extraer\n",
        "\n",
        "Extraigamos el nombre, precio y calificación que están anidados en la etiqueta \"div\" respectivamente.\n",
        "\n",
        "Por lo general, nos confundiremos sobre qué etiqueta necesitamos copiar para esta computadora portátil. Podemos usar https://webformatter.com/ para filtrar la etiqueta por el nombre, el precio y la calificación, y podemos copiar fácilmente con esta herramienta.\n",
        "\n",
        "Ahora que hemos escrito el código para abrir la URL, es hora de extraer los datos del sitio web. Como se mencionó anteriormente, los datos que queremos extraer están anidados en etiquetas <div>. Entonces, encontraremos las etiquetas div con esos respectivos nombres de clase, extraeremos y almacenaremos los datos en una variable. Consulte el código a continuación:"
      ]
    },
    {
      "cell_type": "code",
      "metadata": {
        "id": "yw9GGSLcw835"
      },
      "source": [
        "parsed = BeautifulSoup(r.text, \"html.parser\")"
      ],
      "execution_count": 6,
      "outputs": []
    },
    {
      "cell_type": "code",
      "metadata": {
        "id": "TXbfQnudw836"
      },
      "source": [
        "main_box=parsed.find_all(\"div\", {\"class\":\"_13oc-S\"})"
      ],
      "execution_count": 7,
      "outputs": []
    },
    {
      "cell_type": "code",
      "metadata": {
        "id": "Ml4NL7jew836",
        "colab": {
          "base_uri": "https://localhost:8080/"
        },
        "outputId": "339f573f-4639-4fb2-81a0-799098b34940"
      },
      "source": [
        "len(main_box)"
      ],
      "execution_count": 8,
      "outputs": [
        {
          "output_type": "execute_result",
          "data": {
            "text/plain": [
              "24"
            ]
          },
          "metadata": {
            "tags": []
          },
          "execution_count": 8
        }
      ]
    },
    {
      "cell_type": "code",
      "metadata": {
        "id": "3igHQaphw836"
      },
      "source": [
        "box=main_box[0]"
      ],
      "execution_count": 9,
      "outputs": []
    },
    {
      "cell_type": "code",
      "metadata": {
        "id": "Oc9O9VPsw837",
        "colab": {
          "base_uri": "https://localhost:8080/"
        },
        "outputId": "1a48d418-4e9d-425f-bd38-d40664819305"
      },
      "source": [
        "box"
      ],
      "execution_count": 10,
      "outputs": [
        {
          "output_type": "execute_result",
          "data": {
            "text/plain": [
              "<div class=\"_13oc-S\"><div data-id=\"COMFYHT7FZYTWEPV\" style=\"width:100%\"><div class=\"_2kHMtA\"><div class=\"_2tfzpE\"><span>Ad</span></div><a class=\"_1fQZEK\" href=\"/vaio-se-series-core-i5-8th-gen-8-gb-512-gb-ssd-windows-10-home-np14v1in004p-thin-light-laptop/p/itmb243391b412c9?pid=COMFYHT7FZYTWEPV&amp;lid=LSTCOMFYHT7FZYTWEPVO5BBOD&amp;marketplace=FLIPKART&amp;q=laptops&amp;store=6bo%2Fb5g&amp;srno=s_1_1&amp;otracker=search&amp;otracker1=search&amp;fm=organic&amp;iid=en_AdyJUjMpC4xMtGEeFiBcNm3WLfO8gtUmiO74AIDgSQA6eahCb0DJUcYq1PErWDpQAYX7O8OdcaPCrQr6nRIMlw%3D%3D&amp;ppt=None&amp;ppn=None&amp;ssid=4qw5fyviyo0000001619713459949&amp;qH=c06ea84a1e3dc3c6\" rel=\"noopener noreferrer\" target=\"_blank\"><div class=\"MIXNux\"><div class=\"_2QcLo-\"><div><div class=\"CXW8mj\" style=\"height:200px;width:200px\"><img alt=\"Vaio SE Series Core i5 8th Gen - (8 GB/512 GB SSD/Windows 10 Home) NP14V1IN004P Thin and Light Laptop\" class=\"_396cs4\" src=\"//static-assets-web.flixcart.com/www/linchpin/fk-cp-zion/img/placeholder_fcebae.svg\"/></div></div></div><div class=\"_3wLduG\"><div class=\"_3PzNI-\"><span class=\"f3A4_V\"><label class=\"_2iDkf8\"><input class=\"_30VH1S\" readonly=\"\" type=\"checkbox\"/><div class=\"_24_Dny\"></div></label></span><label class=\"_6Up2sF\"><span>Add to Compare</span></label></div></div><div class=\"_2hVSre _3nq8ih\"><div class=\"_36FSn5\"><svg class=\"_1l0elc\" height=\"16\" viewbox=\"0 0 20 16\" width=\"16\" xmlns=\"http://www.w3.org/2000/svg\"><path class=\"eX72wL\" d=\"M8.695 16.682C4.06 12.382 1 9.536 1 6.065 1 3.219 3.178 1 5.95 1c1.566 0 3.069.746 4.05 1.915C10.981 1.745 12.484 1 14.05 1 16.822 1 19 3.22 19 6.065c0 3.471-3.06 6.316-7.695 10.617L10 17.897l-1.305-1.215z\" fill=\"#2874F0\" fill-rule=\"evenodd\" opacity=\".9\" stroke=\"#FFF\"></path></svg></div></div></div><div class=\"_3pLy-c row\"><div class=\"col col-7-12\"><div class=\"_4rR01T\">Vaio SE Series Core i5 8th Gen - (8 GB/512 GB SSD/Windows 10 Home) NP14V1IN004P Thin and Light Laptop</div><div class=\"gUuXy-\"><span class=\"_1lRcqv\" id=\"productRating_LSTCOMFYHT7FZYTWEPVO5BBOD_COMFYHT7FZYTWEPV_\"><div class=\"_3LWZlK\">4<img class=\"_1wB99o\" src=\"data:image/svg+xml;base64,PHN2ZyB4bWxucz0iaHR0cDovL3d3dy53My5vcmcvMjAwMC9zdmciIHdpZHRoPSIxMyIgaGVpZ2h0PSIxMiI+PHBhdGggZmlsbD0iI0ZGRiIgZD0iTTYuNSA5LjQzOWwtMy42NzQgMi4yMy45NC00LjI2LTMuMjEtMi44ODMgNC4yNTQtLjQwNEw2LjUuMTEybDEuNjkgNC4wMSA0LjI1NC40MDQtMy4yMSAyLjg4Mi45NCA0LjI2eiIvPjwvc3ZnPg==\"/></div></span><span class=\"_2_R_DZ\"><span><span>15 Ratings </span><span class=\"_13vcmD\">&amp;</span><span> 7 Reviews</span></span></span></div><div class=\"fMghEO\"><ul class=\"_1xgFaf\"><li class=\"rgWa7D\">Intel Core i5 Processor (8th Gen)</li><li class=\"rgWa7D\">8 GB DDR4 RAM</li><li class=\"rgWa7D\">64 bit Windows 10 Operating System</li><li class=\"rgWa7D\">512 GB SSD</li><li class=\"rgWa7D\">35.56 cm (14 inch) Display</li><li class=\"rgWa7D\">Microsoft Office 365</li><li class=\"rgWa7D\">2 Years Onsite Warranty</li></ul></div></div><div class=\"col col-5-12 nlI3QM\"><div class=\"_3tbKJL\"><div class=\"_25b18c\"><div class=\"_30jeq3 _1_WHN1\">₹62,990</div><div class=\"_3I9_wc _27UcVY\">₹<!-- -->84,690</div><div class=\"_3Ay6Sb\"><span>25% off</span></div></div><div class=\"_3tcB5a p8ucoS\"><div><div class=\"_2Tpdn3\" style=\"color:#000000;font-size:14px;font-style:normal;font-weight:400\">Or Pay ₹62,890 + </div><div class=\"CXW8mj _1lT03L\" style=\"height:12px;width:12px\"><img alt=\"\" class=\"_396cs4\" src=\"//static-assets-web.flixcart.com/www/linchpin/fk-cp-zion/img/placeholder_fcebae.svg\"/></div><div class=\"_2Tpdn3\" style=\"color:#000000;font-size:14px;font-style:normal;font-weight:400\"> 100</div></div></div></div><div class=\"_13J9qT\"><img height=\"21\" src=\"//static-assets-web.flixcart.com/www/linchpin/fk-cp-zion/img/fa_62673a.png\"/></div><div class=\"_2ZdXDB\"><div class=\"_18hQoS\" style=\"color:#000000;font-size:14px;font-family:inherit;font-weight:normal\">Upto </div><div class=\"_18hQoS\" style=\"color:#000000;font-size:14px;font-family:inherit;font-weight:bold\">₹15,650</div><div class=\"_18hQoS\" style=\"color:#000000;font-size:14px;font-family:inherit;font-weight:normal\"> Off on Exchange</div></div><div class=\"_2ZdXDB\"><div class=\"_18hQoS\" style=\"color:#000000;font-size:12px;font-family:inherit;font-weight:normal\">No Cost EMI</div></div></div></div></a></div></div></div>"
            ]
          },
          "metadata": {
            "tags": []
          },
          "execution_count": 10
        }
      ]
    },
    {
      "cell_type": "code",
      "metadata": {
        "id": "RyYpaJh5w837"
      },
      "source": [
        "title = box.find('div', {'class':'_4rR01T'}).text.strip()\n",
        "rating = box.find('div', {'class':'_3LWZlK'}).text.strip()\n",
        "price = box.find('div', {'class':'_30jeq3 _1_WHN1'}).text.replace('₹','').strip()"
      ],
      "execution_count": 11,
      "outputs": []
    },
    {
      "cell_type": "code",
      "metadata": {
        "id": "EH4yO8M0w837",
        "colab": {
          "base_uri": "https://localhost:8080/"
        },
        "outputId": "4448a174-237c-4eb5-958e-0361402d0353"
      },
      "source": [
        "print(title,price,rating)"
      ],
      "execution_count": 12,
      "outputs": [
        {
          "output_type": "stream",
          "text": [
            "Vaio SE Series Core i5 8th Gen - (8 GB/512 GB SSD/Windows 10 Home) NP14V1IN004P Thin and Light Laptop 62,990 4\n"
          ],
          "name": "stdout"
        }
      ]
    },
    {
      "cell_type": "code",
      "metadata": {
        "id": "xKCEDpB2w837"
      },
      "source": [
        "data_list=[]\n",
        "for box in main_box:\n",
        "    temp_dict={\n",
        "      'title': box.find('div', {'class':'_4rR01T'}).text.strip(),\n",
        "      'rating': box.find('div', {'class':'_3LWZlK'}).text.strip() if box.find('div', {'class':'_3LWZlK'}) is not None else 'None',\n",
        "      'price': box.find('div', {'class':'_30jeq3 _1_WHN1'}).text.replace('₹','').strip()\n",
        "    }\n",
        "    \n",
        "    data_list.append(temp_dict)"
      ],
      "execution_count": 13,
      "outputs": []
    },
    {
      "cell_type": "code",
      "metadata": {
        "id": "zclBxFIR4z__",
        "colab": {
          "base_uri": "https://localhost:8080/"
        },
        "outputId": "8f3e2b72-00d3-4b6a-e5f8-1e1ac43cadca"
      },
      "source": [
        "data_list"
      ],
      "execution_count": 14,
      "outputs": [
        {
          "output_type": "execute_result",
          "data": {
            "text/plain": [
              "[{'price': '62,990',\n",
              "  'rating': '4',\n",
              "  'title': 'Vaio SE Series Core i5 8th Gen - (8 GB/512 GB SSD/Windows 10 Home) NP14V1IN004P Thin and Light Laptop'},\n",
              " {'price': '51,490',\n",
              "  'rating': '4.2',\n",
              "  'title': 'HP Pavilion Gaming Ryzen 5 Quad Core 3550H - (8 GB/1 TB HDD/Windows 10 Home/4 GB Graphics/NVIDIA GeFor...'},\n",
              " {'price': '27,990',\n",
              "  'rating': '4',\n",
              "  'title': 'Lenovo Ideapad S145 Ryzen 3 Dual Core 3200U - (4 GB/1 TB HDD/Windows 10 Home) S145-15API Laptop'},\n",
              " {'price': '36,990',\n",
              "  'rating': '4.2',\n",
              "  'title': 'HP 14s Core i3 10th Gen - (8 GB/256 GB SSD/Windows 10 Home) 14s-cf3074TU Thin and Light Laptop'},\n",
              " {'price': '42,990',\n",
              "  'rating': '4.2',\n",
              "  'title': 'Lenovo Ideapad S145 Ryzen 5 Quad Core 3500U - (8 GB/512 GB SSD/Windows 10 Home) S145-15API Laptop'},\n",
              " {'price': '55,990',\n",
              "  'rating': '4.5',\n",
              "  'title': 'acer Aspire 7 Ryzen 5 Hexa Core 5500U - (8 GB/512 GB SSD/Windows 10 Home/4 GB Graphics/NVIDIA GeForce ...'},\n",
              " {'price': '23,990',\n",
              "  'rating': '4',\n",
              "  'title': 'HP 15s Celeron Dual Core - (4 GB/1 TB HDD/Windows 10 Home) 15s-du1044tu Thin and Light Laptop'},\n",
              " {'price': '54,990',\n",
              "  'rating': '4.5',\n",
              "  'title': 'MSI GF63 Thin Core i5 9th Gen - (8 GB/512 GB SSD/Windows 10 Home/4 GB Graphics/NVIDIA GeForce GTX 1650...'},\n",
              " {'price': '1,16,990',\n",
              "  'rating': '4.7',\n",
              "  'title': 'acer Predator Helios 300 Core i7 10th Gen - (16 GB/1 TB HDD/256 GB SSD/Windows 10 Home/6 GB Graphics/N...'},\n",
              " {'price': '50,990',\n",
              "  'rating': '4.4',\n",
              "  'title': 'acer Aspire 7 Ryzen 5 Quad Core 3550H - (8 GB/512 GB SSD/Windows 10 Home/4 GB Graphics/NVIDIA GeForce ...'},\n",
              " {'price': '66,990',\n",
              "  'rating': '4.6',\n",
              "  'title': 'Lenovo Legion 5 Ryzen 5 Hexa Core 4600H - (8 GB/512 GB SSD/Windows 10 Home/4 GB Graphics/NVIDIA GeForc...'},\n",
              " {'price': '59,990',\n",
              "  'rating': '4.5',\n",
              "  'title': 'Lenovo Ideapad Gaming 3 Ryzen 5 Hexa Core 4600H - (8 GB/1 TB HDD/256 GB SSD/Windows 10 Home/4 GB Graph...'},\n",
              " {'price': '33,990',\n",
              "  'rating': '4.1',\n",
              "  'title': 'Lenovo Ideapad S145 Core i3 10th Gen - (4 GB/256 GB SSD/Windows 10 Home) S145-15IIL Thin and Light Lap...'},\n",
              " {'price': '59,990',\n",
              "  'rating': '4.5',\n",
              "  'title': 'HP Pavilion Gaming Ryzen 5 Quad Core 3550H - (8 GB/512 GB SSD/Windows 10 Home/4 GB Graphics/NVIDIA GeF...'},\n",
              " {'price': '54,990',\n",
              "  'rating': '4.4',\n",
              "  'title': 'acer Aspire 7 Core i5 9th Gen - (8 GB/512 GB SSD/Windows 10 Home/4 GB Graphics/NVIDIA GeForce GTX 1650...'},\n",
              " {'price': '49,990',\n",
              "  'rating': '4.4',\n",
              "  'title': 'HP Pavilion x360 Core i3 10th Gen - (8 GB/512 GB SSD/Windows 10 Home) 14-dh1178TU 2 in 1 Laptop'},\n",
              " {'price': '79,990',\n",
              "  'rating': '4.7',\n",
              "  'title': 'HP Pavilion Core i7 10th Gen - (16 GB + 32 GB Optane/512 GB SSD/Windows 10 Home/4 GB Graphics/NVIDIA G...'},\n",
              " {'price': '96,990',\n",
              "  'rating': '4.2',\n",
              "  'title': 'ASUS ZenBook 14 Core i7 11th Gen - (16 GB/512 GB SSD/Windows 10 Home) UX425EA-BM701TS Thin and Light L...'},\n",
              " {'price': '45,990',\n",
              "  'rating': '4.4',\n",
              "  'title': 'HP Pavilion x360 Core i3 10th Gen - (8 GB/256 GB SSD/Windows 10 Home) 14-dh1181TU 2 in 1 Laptop'},\n",
              " {'price': '1,21,990',\n",
              "  'rating': '4.6',\n",
              "  'title': 'HP Omen 15 Ryzen 7 Octa Core 4800H - (16 GB/1 TB SSD/Windows 10 Home/6 GB Graphics/NVIDIA GeForce RTX ...'},\n",
              " {'price': '23,990',\n",
              "  'rating': '4',\n",
              "  'title': 'HP 15s Dual Core 3020e - (4 GB/1 TB HDD/Windows 10 Home) 15s-GY0003AU Thin and Light Laptop'},\n",
              " {'price': '43,999',\n",
              "  'rating': '4.3',\n",
              "  'title': 'Mi Notebook 14 Core i5 10th Gen - (8 GB/256 GB SSD/Windows 10 Home) JYU4298IN Thin and Light Laptop'},\n",
              " {'price': '49,990',\n",
              "  'rating': '4.4',\n",
              "  'title': 'ASUS VivoBook 14 Ryzen 5 Hexa Core 4500U - (8 GB/512 GB SSD/Windows 10 Home) M413IA-EK584T Thin and Li...'},\n",
              " {'price': '44,990',\n",
              "  'rating': '4.5',\n",
              "  'title': 'ASUS VivoBook Ultra 14 Core i3 11th Gen - (8 GB/512 GB SSD/Windows 10 Home) X413EA-EB322TS Thin and Li...'}]"
            ]
          },
          "metadata": {
            "tags": []
          },
          "execution_count": 14
        }
      ]
    },
    {
      "cell_type": "code",
      "metadata": {
        "colab": {
          "base_uri": "https://localhost:8080/"
        },
        "id": "r1fzTU0helAJ",
        "outputId": "a00ffeac-ec25-41a6-ea49-a07c318b7346"
      },
      "source": [
        "len(data_list)"
      ],
      "execution_count": 15,
      "outputs": [
        {
          "output_type": "execute_result",
          "data": {
            "text/plain": [
              "24"
            ]
          },
          "metadata": {
            "tags": []
          },
          "execution_count": 15
        }
      ]
    },
    {
      "cell_type": "markdown",
      "metadata": {
        "id": "3lQ40WoSw838"
      },
      "source": [
        "## Paso 4: Crear un dataframe y guardar los datos en csv\n",
        "\n",
        "Después de extraer los datos, es posible que desee almacenarlos en un formato. Este formato varía según sus necesidades. Para este ejemplo, almacenaremos los datos extraídos en formato CSV (valores separados por comas). Para hacer esto, agregaré las siguientes líneas a mi código:"
      ]
    },
    {
      "cell_type": "code",
      "metadata": {
        "id": "Os8KKHJIw838"
      },
      "source": [
        "df = pd.DataFrame(data_list)"
      ],
      "execution_count": 16,
      "outputs": []
    },
    {
      "cell_type": "code",
      "metadata": {
        "id": "p3i9gQqBw838",
        "colab": {
          "base_uri": "https://localhost:8080/",
          "height": 768
        },
        "outputId": "dad78f13-5a53-45a3-8a84-473ce4810303"
      },
      "source": [
        "df"
      ],
      "execution_count": 17,
      "outputs": [
        {
          "output_type": "execute_result",
          "data": {
            "text/html": [
              "<div>\n",
              "<style scoped>\n",
              "    .dataframe tbody tr th:only-of-type {\n",
              "        vertical-align: middle;\n",
              "    }\n",
              "\n",
              "    .dataframe tbody tr th {\n",
              "        vertical-align: top;\n",
              "    }\n",
              "\n",
              "    .dataframe thead th {\n",
              "        text-align: right;\n",
              "    }\n",
              "</style>\n",
              "<table border=\"1\" class=\"dataframe\">\n",
              "  <thead>\n",
              "    <tr style=\"text-align: right;\">\n",
              "      <th></th>\n",
              "      <th>title</th>\n",
              "      <th>rating</th>\n",
              "      <th>price</th>\n",
              "    </tr>\n",
              "  </thead>\n",
              "  <tbody>\n",
              "    <tr>\n",
              "      <th>0</th>\n",
              "      <td>Vaio SE Series Core i5 8th Gen - (8 GB/512 GB ...</td>\n",
              "      <td>4</td>\n",
              "      <td>62,990</td>\n",
              "    </tr>\n",
              "    <tr>\n",
              "      <th>1</th>\n",
              "      <td>HP Pavilion Gaming Ryzen 5 Quad Core 3550H - (...</td>\n",
              "      <td>4.2</td>\n",
              "      <td>51,490</td>\n",
              "    </tr>\n",
              "    <tr>\n",
              "      <th>2</th>\n",
              "      <td>Lenovo Ideapad S145 Ryzen 3 Dual Core 3200U - ...</td>\n",
              "      <td>4</td>\n",
              "      <td>27,990</td>\n",
              "    </tr>\n",
              "    <tr>\n",
              "      <th>3</th>\n",
              "      <td>HP 14s Core i3 10th Gen - (8 GB/256 GB SSD/Win...</td>\n",
              "      <td>4.2</td>\n",
              "      <td>36,990</td>\n",
              "    </tr>\n",
              "    <tr>\n",
              "      <th>4</th>\n",
              "      <td>Lenovo Ideapad S145 Ryzen 5 Quad Core 3500U - ...</td>\n",
              "      <td>4.2</td>\n",
              "      <td>42,990</td>\n",
              "    </tr>\n",
              "    <tr>\n",
              "      <th>5</th>\n",
              "      <td>acer Aspire 7 Ryzen 5 Hexa Core 5500U - (8 GB/...</td>\n",
              "      <td>4.5</td>\n",
              "      <td>55,990</td>\n",
              "    </tr>\n",
              "    <tr>\n",
              "      <th>6</th>\n",
              "      <td>HP 15s Celeron Dual Core - (4 GB/1 TB HDD/Wind...</td>\n",
              "      <td>4</td>\n",
              "      <td>23,990</td>\n",
              "    </tr>\n",
              "    <tr>\n",
              "      <th>7</th>\n",
              "      <td>MSI GF63 Thin Core i5 9th Gen - (8 GB/512 GB S...</td>\n",
              "      <td>4.5</td>\n",
              "      <td>54,990</td>\n",
              "    </tr>\n",
              "    <tr>\n",
              "      <th>8</th>\n",
              "      <td>acer Predator Helios 300 Core i7 10th Gen - (1...</td>\n",
              "      <td>4.7</td>\n",
              "      <td>1,16,990</td>\n",
              "    </tr>\n",
              "    <tr>\n",
              "      <th>9</th>\n",
              "      <td>acer Aspire 7 Ryzen 5 Quad Core 3550H - (8 GB/...</td>\n",
              "      <td>4.4</td>\n",
              "      <td>50,990</td>\n",
              "    </tr>\n",
              "    <tr>\n",
              "      <th>10</th>\n",
              "      <td>Lenovo Legion 5 Ryzen 5 Hexa Core 4600H - (8 G...</td>\n",
              "      <td>4.6</td>\n",
              "      <td>66,990</td>\n",
              "    </tr>\n",
              "    <tr>\n",
              "      <th>11</th>\n",
              "      <td>Lenovo Ideapad Gaming 3 Ryzen 5 Hexa Core 4600...</td>\n",
              "      <td>4.5</td>\n",
              "      <td>59,990</td>\n",
              "    </tr>\n",
              "    <tr>\n",
              "      <th>12</th>\n",
              "      <td>Lenovo Ideapad S145 Core i3 10th Gen - (4 GB/2...</td>\n",
              "      <td>4.1</td>\n",
              "      <td>33,990</td>\n",
              "    </tr>\n",
              "    <tr>\n",
              "      <th>13</th>\n",
              "      <td>HP Pavilion Gaming Ryzen 5 Quad Core 3550H - (...</td>\n",
              "      <td>4.5</td>\n",
              "      <td>59,990</td>\n",
              "    </tr>\n",
              "    <tr>\n",
              "      <th>14</th>\n",
              "      <td>acer Aspire 7 Core i5 9th Gen - (8 GB/512 GB S...</td>\n",
              "      <td>4.4</td>\n",
              "      <td>54,990</td>\n",
              "    </tr>\n",
              "    <tr>\n",
              "      <th>15</th>\n",
              "      <td>HP Pavilion x360 Core i3 10th Gen - (8 GB/512 ...</td>\n",
              "      <td>4.4</td>\n",
              "      <td>49,990</td>\n",
              "    </tr>\n",
              "    <tr>\n",
              "      <th>16</th>\n",
              "      <td>HP Pavilion Core i7 10th Gen - (16 GB + 32 GB ...</td>\n",
              "      <td>4.7</td>\n",
              "      <td>79,990</td>\n",
              "    </tr>\n",
              "    <tr>\n",
              "      <th>17</th>\n",
              "      <td>ASUS ZenBook 14 Core i7 11th Gen - (16 GB/512 ...</td>\n",
              "      <td>4.2</td>\n",
              "      <td>96,990</td>\n",
              "    </tr>\n",
              "    <tr>\n",
              "      <th>18</th>\n",
              "      <td>HP Pavilion x360 Core i3 10th Gen - (8 GB/256 ...</td>\n",
              "      <td>4.4</td>\n",
              "      <td>45,990</td>\n",
              "    </tr>\n",
              "    <tr>\n",
              "      <th>19</th>\n",
              "      <td>HP Omen 15 Ryzen 7 Octa Core 4800H - (16 GB/1 ...</td>\n",
              "      <td>4.6</td>\n",
              "      <td>1,21,990</td>\n",
              "    </tr>\n",
              "    <tr>\n",
              "      <th>20</th>\n",
              "      <td>HP 15s Dual Core 3020e - (4 GB/1 TB HDD/Window...</td>\n",
              "      <td>4</td>\n",
              "      <td>23,990</td>\n",
              "    </tr>\n",
              "    <tr>\n",
              "      <th>21</th>\n",
              "      <td>Mi Notebook 14 Core i5 10th Gen - (8 GB/256 GB...</td>\n",
              "      <td>4.3</td>\n",
              "      <td>43,999</td>\n",
              "    </tr>\n",
              "    <tr>\n",
              "      <th>22</th>\n",
              "      <td>ASUS VivoBook 14 Ryzen 5 Hexa Core 4500U - (8 ...</td>\n",
              "      <td>4.4</td>\n",
              "      <td>49,990</td>\n",
              "    </tr>\n",
              "    <tr>\n",
              "      <th>23</th>\n",
              "      <td>ASUS VivoBook Ultra 14 Core i3 11th Gen - (8 G...</td>\n",
              "      <td>4.5</td>\n",
              "      <td>44,990</td>\n",
              "    </tr>\n",
              "  </tbody>\n",
              "</table>\n",
              "</div>"
            ],
            "text/plain": [
              "                                                title rating     price\n",
              "0   Vaio SE Series Core i5 8th Gen - (8 GB/512 GB ...      4    62,990\n",
              "1   HP Pavilion Gaming Ryzen 5 Quad Core 3550H - (...    4.2    51,490\n",
              "2   Lenovo Ideapad S145 Ryzen 3 Dual Core 3200U - ...      4    27,990\n",
              "3   HP 14s Core i3 10th Gen - (8 GB/256 GB SSD/Win...    4.2    36,990\n",
              "4   Lenovo Ideapad S145 Ryzen 5 Quad Core 3500U - ...    4.2    42,990\n",
              "5   acer Aspire 7 Ryzen 5 Hexa Core 5500U - (8 GB/...    4.5    55,990\n",
              "6   HP 15s Celeron Dual Core - (4 GB/1 TB HDD/Wind...      4    23,990\n",
              "7   MSI GF63 Thin Core i5 9th Gen - (8 GB/512 GB S...    4.5    54,990\n",
              "8   acer Predator Helios 300 Core i7 10th Gen - (1...    4.7  1,16,990\n",
              "9   acer Aspire 7 Ryzen 5 Quad Core 3550H - (8 GB/...    4.4    50,990\n",
              "10  Lenovo Legion 5 Ryzen 5 Hexa Core 4600H - (8 G...    4.6    66,990\n",
              "11  Lenovo Ideapad Gaming 3 Ryzen 5 Hexa Core 4600...    4.5    59,990\n",
              "12  Lenovo Ideapad S145 Core i3 10th Gen - (4 GB/2...    4.1    33,990\n",
              "13  HP Pavilion Gaming Ryzen 5 Quad Core 3550H - (...    4.5    59,990\n",
              "14  acer Aspire 7 Core i5 9th Gen - (8 GB/512 GB S...    4.4    54,990\n",
              "15  HP Pavilion x360 Core i3 10th Gen - (8 GB/512 ...    4.4    49,990\n",
              "16  HP Pavilion Core i7 10th Gen - (16 GB + 32 GB ...    4.7    79,990\n",
              "17  ASUS ZenBook 14 Core i7 11th Gen - (16 GB/512 ...    4.2    96,990\n",
              "18  HP Pavilion x360 Core i3 10th Gen - (8 GB/256 ...    4.4    45,990\n",
              "19  HP Omen 15 Ryzen 7 Octa Core 4800H - (16 GB/1 ...    4.6  1,21,990\n",
              "20  HP 15s Dual Core 3020e - (4 GB/1 TB HDD/Window...      4    23,990\n",
              "21  Mi Notebook 14 Core i5 10th Gen - (8 GB/256 GB...    4.3    43,999\n",
              "22  ASUS VivoBook 14 Ryzen 5 Hexa Core 4500U - (8 ...    4.4    49,990\n",
              "23  ASUS VivoBook Ultra 14 Core i3 11th Gen - (8 G...    4.5    44,990"
            ]
          },
          "metadata": {
            "tags": []
          },
          "execution_count": 17
        }
      ]
    },
    {
      "cell_type": "code",
      "metadata": {
        "id": "3BXoD51_w838"
      },
      "source": [
        "df.to_csv(\"datos_compus.csv\", index=False, encoding='utf-8')"
      ],
      "execution_count": 18,
      "outputs": []
    },
    {
      "cell_type": "markdown",
      "metadata": {
        "id": "qw20fMSNw838"
      },
      "source": [
        "## Paso 5: Un poco de EDA y visualización de este archivo"
      ]
    },
    {
      "cell_type": "code",
      "metadata": {
        "id": "oukRJID9w839"
      },
      "source": [
        "laptop_df = pd.read_csv(\"datos_compus.csv\", sep=None, thousands=',', engine='python')"
      ],
      "execution_count": 19,
      "outputs": []
    },
    {
      "cell_type": "code",
      "metadata": {
        "id": "VOghAmKjw839",
        "colab": {
          "base_uri": "https://localhost:8080/",
          "height": 768
        },
        "outputId": "5e2783ae-3fd9-4b8e-dfc8-e94ef4eeea1c"
      },
      "source": [
        "laptop_df"
      ],
      "execution_count": 20,
      "outputs": [
        {
          "output_type": "execute_result",
          "data": {
            "text/html": [
              "<div>\n",
              "<style scoped>\n",
              "    .dataframe tbody tr th:only-of-type {\n",
              "        vertical-align: middle;\n",
              "    }\n",
              "\n",
              "    .dataframe tbody tr th {\n",
              "        vertical-align: top;\n",
              "    }\n",
              "\n",
              "    .dataframe thead th {\n",
              "        text-align: right;\n",
              "    }\n",
              "</style>\n",
              "<table border=\"1\" class=\"dataframe\">\n",
              "  <thead>\n",
              "    <tr style=\"text-align: right;\">\n",
              "      <th></th>\n",
              "      <th>title</th>\n",
              "      <th>rating</th>\n",
              "      <th>price</th>\n",
              "    </tr>\n",
              "  </thead>\n",
              "  <tbody>\n",
              "    <tr>\n",
              "      <th>0</th>\n",
              "      <td>Vaio SE Series Core i5 8th Gen - (8 GB/512 GB ...</td>\n",
              "      <td>4.0</td>\n",
              "      <td>62990</td>\n",
              "    </tr>\n",
              "    <tr>\n",
              "      <th>1</th>\n",
              "      <td>HP Pavilion Gaming Ryzen 5 Quad Core 3550H - (...</td>\n",
              "      <td>4.2</td>\n",
              "      <td>51490</td>\n",
              "    </tr>\n",
              "    <tr>\n",
              "      <th>2</th>\n",
              "      <td>Lenovo Ideapad S145 Ryzen 3 Dual Core 3200U - ...</td>\n",
              "      <td>4.0</td>\n",
              "      <td>27990</td>\n",
              "    </tr>\n",
              "    <tr>\n",
              "      <th>3</th>\n",
              "      <td>HP 14s Core i3 10th Gen - (8 GB/256 GB SSD/Win...</td>\n",
              "      <td>4.2</td>\n",
              "      <td>36990</td>\n",
              "    </tr>\n",
              "    <tr>\n",
              "      <th>4</th>\n",
              "      <td>Lenovo Ideapad S145 Ryzen 5 Quad Core 3500U - ...</td>\n",
              "      <td>4.2</td>\n",
              "      <td>42990</td>\n",
              "    </tr>\n",
              "    <tr>\n",
              "      <th>5</th>\n",
              "      <td>acer Aspire 7 Ryzen 5 Hexa Core 5500U - (8 GB/...</td>\n",
              "      <td>4.5</td>\n",
              "      <td>55990</td>\n",
              "    </tr>\n",
              "    <tr>\n",
              "      <th>6</th>\n",
              "      <td>HP 15s Celeron Dual Core - (4 GB/1 TB HDD/Wind...</td>\n",
              "      <td>4.0</td>\n",
              "      <td>23990</td>\n",
              "    </tr>\n",
              "    <tr>\n",
              "      <th>7</th>\n",
              "      <td>MSI GF63 Thin Core i5 9th Gen - (8 GB/512 GB S...</td>\n",
              "      <td>4.5</td>\n",
              "      <td>54990</td>\n",
              "    </tr>\n",
              "    <tr>\n",
              "      <th>8</th>\n",
              "      <td>acer Predator Helios 300 Core i7 10th Gen - (1...</td>\n",
              "      <td>4.7</td>\n",
              "      <td>116990</td>\n",
              "    </tr>\n",
              "    <tr>\n",
              "      <th>9</th>\n",
              "      <td>acer Aspire 7 Ryzen 5 Quad Core 3550H - (8 GB/...</td>\n",
              "      <td>4.4</td>\n",
              "      <td>50990</td>\n",
              "    </tr>\n",
              "    <tr>\n",
              "      <th>10</th>\n",
              "      <td>Lenovo Legion 5 Ryzen 5 Hexa Core 4600H - (8 G...</td>\n",
              "      <td>4.6</td>\n",
              "      <td>66990</td>\n",
              "    </tr>\n",
              "    <tr>\n",
              "      <th>11</th>\n",
              "      <td>Lenovo Ideapad Gaming 3 Ryzen 5 Hexa Core 4600...</td>\n",
              "      <td>4.5</td>\n",
              "      <td>59990</td>\n",
              "    </tr>\n",
              "    <tr>\n",
              "      <th>12</th>\n",
              "      <td>Lenovo Ideapad S145 Core i3 10th Gen - (4 GB/2...</td>\n",
              "      <td>4.1</td>\n",
              "      <td>33990</td>\n",
              "    </tr>\n",
              "    <tr>\n",
              "      <th>13</th>\n",
              "      <td>HP Pavilion Gaming Ryzen 5 Quad Core 3550H - (...</td>\n",
              "      <td>4.5</td>\n",
              "      <td>59990</td>\n",
              "    </tr>\n",
              "    <tr>\n",
              "      <th>14</th>\n",
              "      <td>acer Aspire 7 Core i5 9th Gen - (8 GB/512 GB S...</td>\n",
              "      <td>4.4</td>\n",
              "      <td>54990</td>\n",
              "    </tr>\n",
              "    <tr>\n",
              "      <th>15</th>\n",
              "      <td>HP Pavilion x360 Core i3 10th Gen - (8 GB/512 ...</td>\n",
              "      <td>4.4</td>\n",
              "      <td>49990</td>\n",
              "    </tr>\n",
              "    <tr>\n",
              "      <th>16</th>\n",
              "      <td>HP Pavilion Core i7 10th Gen - (16 GB + 32 GB ...</td>\n",
              "      <td>4.7</td>\n",
              "      <td>79990</td>\n",
              "    </tr>\n",
              "    <tr>\n",
              "      <th>17</th>\n",
              "      <td>ASUS ZenBook 14 Core i7 11th Gen - (16 GB/512 ...</td>\n",
              "      <td>4.2</td>\n",
              "      <td>96990</td>\n",
              "    </tr>\n",
              "    <tr>\n",
              "      <th>18</th>\n",
              "      <td>HP Pavilion x360 Core i3 10th Gen - (8 GB/256 ...</td>\n",
              "      <td>4.4</td>\n",
              "      <td>45990</td>\n",
              "    </tr>\n",
              "    <tr>\n",
              "      <th>19</th>\n",
              "      <td>HP Omen 15 Ryzen 7 Octa Core 4800H - (16 GB/1 ...</td>\n",
              "      <td>4.6</td>\n",
              "      <td>121990</td>\n",
              "    </tr>\n",
              "    <tr>\n",
              "      <th>20</th>\n",
              "      <td>HP 15s Dual Core 3020e - (4 GB/1 TB HDD/Window...</td>\n",
              "      <td>4.0</td>\n",
              "      <td>23990</td>\n",
              "    </tr>\n",
              "    <tr>\n",
              "      <th>21</th>\n",
              "      <td>Mi Notebook 14 Core i5 10th Gen - (8 GB/256 GB...</td>\n",
              "      <td>4.3</td>\n",
              "      <td>43999</td>\n",
              "    </tr>\n",
              "    <tr>\n",
              "      <th>22</th>\n",
              "      <td>ASUS VivoBook 14 Ryzen 5 Hexa Core 4500U - (8 ...</td>\n",
              "      <td>4.4</td>\n",
              "      <td>49990</td>\n",
              "    </tr>\n",
              "    <tr>\n",
              "      <th>23</th>\n",
              "      <td>ASUS VivoBook Ultra 14 Core i3 11th Gen - (8 G...</td>\n",
              "      <td>4.5</td>\n",
              "      <td>44990</td>\n",
              "    </tr>\n",
              "  </tbody>\n",
              "</table>\n",
              "</div>"
            ],
            "text/plain": [
              "                                                title  rating   price\n",
              "0   Vaio SE Series Core i5 8th Gen - (8 GB/512 GB ...     4.0   62990\n",
              "1   HP Pavilion Gaming Ryzen 5 Quad Core 3550H - (...     4.2   51490\n",
              "2   Lenovo Ideapad S145 Ryzen 3 Dual Core 3200U - ...     4.0   27990\n",
              "3   HP 14s Core i3 10th Gen - (8 GB/256 GB SSD/Win...     4.2   36990\n",
              "4   Lenovo Ideapad S145 Ryzen 5 Quad Core 3500U - ...     4.2   42990\n",
              "5   acer Aspire 7 Ryzen 5 Hexa Core 5500U - (8 GB/...     4.5   55990\n",
              "6   HP 15s Celeron Dual Core - (4 GB/1 TB HDD/Wind...     4.0   23990\n",
              "7   MSI GF63 Thin Core i5 9th Gen - (8 GB/512 GB S...     4.5   54990\n",
              "8   acer Predator Helios 300 Core i7 10th Gen - (1...     4.7  116990\n",
              "9   acer Aspire 7 Ryzen 5 Quad Core 3550H - (8 GB/...     4.4   50990\n",
              "10  Lenovo Legion 5 Ryzen 5 Hexa Core 4600H - (8 G...     4.6   66990\n",
              "11  Lenovo Ideapad Gaming 3 Ryzen 5 Hexa Core 4600...     4.5   59990\n",
              "12  Lenovo Ideapad S145 Core i3 10th Gen - (4 GB/2...     4.1   33990\n",
              "13  HP Pavilion Gaming Ryzen 5 Quad Core 3550H - (...     4.5   59990\n",
              "14  acer Aspire 7 Core i5 9th Gen - (8 GB/512 GB S...     4.4   54990\n",
              "15  HP Pavilion x360 Core i3 10th Gen - (8 GB/512 ...     4.4   49990\n",
              "16  HP Pavilion Core i7 10th Gen - (16 GB + 32 GB ...     4.7   79990\n",
              "17  ASUS ZenBook 14 Core i7 11th Gen - (16 GB/512 ...     4.2   96990\n",
              "18  HP Pavilion x360 Core i3 10th Gen - (8 GB/256 ...     4.4   45990\n",
              "19  HP Omen 15 Ryzen 7 Octa Core 4800H - (16 GB/1 ...     4.6  121990\n",
              "20  HP 15s Dual Core 3020e - (4 GB/1 TB HDD/Window...     4.0   23990\n",
              "21  Mi Notebook 14 Core i5 10th Gen - (8 GB/256 GB...     4.3   43999\n",
              "22  ASUS VivoBook 14 Ryzen 5 Hexa Core 4500U - (8 ...     4.4   49990\n",
              "23  ASUS VivoBook Ultra 14 Core i3 11th Gen - (8 G...     4.5   44990"
            ]
          },
          "metadata": {
            "tags": []
          },
          "execution_count": 20
        }
      ]
    },
    {
      "cell_type": "code",
      "metadata": {
        "id": "UHvWauoZw839",
        "colab": {
          "base_uri": "https://localhost:8080/"
        },
        "outputId": "5c498721-519e-4ab2-f239-43b7ba16d799"
      },
      "source": [
        "laptop_df.shape"
      ],
      "execution_count": 21,
      "outputs": [
        {
          "output_type": "execute_result",
          "data": {
            "text/plain": [
              "(24, 3)"
            ]
          },
          "metadata": {
            "tags": []
          },
          "execution_count": 21
        }
      ]
    },
    {
      "cell_type": "code",
      "metadata": {
        "id": "GhJR-f2Pw83-",
        "colab": {
          "base_uri": "https://localhost:8080/"
        },
        "outputId": "ddd839e6-2b0d-4ff9-b0e0-854310b7f70c"
      },
      "source": [
        "laptop_df.dtypes"
      ],
      "execution_count": 22,
      "outputs": [
        {
          "output_type": "execute_result",
          "data": {
            "text/plain": [
              "title      object\n",
              "rating    float64\n",
              "price       int64\n",
              "dtype: object"
            ]
          },
          "metadata": {
            "tags": []
          },
          "execution_count": 22
        }
      ]
    },
    {
      "cell_type": "markdown",
      "metadata": {
        "id": "gUc1jjo2w83-"
      },
      "source": [
        "Quiero dividir el título debido a todas las especificaciones y nombres de portátiles en una fila.\n",
        "\n",
        "Lo dividiremos en diferentes columnas por separado usando la opción split ()"
      ]
    },
    {
      "cell_type": "code",
      "metadata": {
        "id": "_m1i6HZKivzw"
      },
      "source": [
        "laptop_df = pd.read_csv(\"datos_compus.csv\", sep=None, thousands=',', engine='python')"
      ],
      "execution_count": 23,
      "outputs": []
    },
    {
      "cell_type": "code",
      "metadata": {
        "id": "pS70Vf20w83-",
        "colab": {
          "base_uri": "https://localhost:8080/",
          "height": 235
        },
        "outputId": "eaefe18f-e2c2-4711-ce41-10ebc22f9ce4"
      },
      "source": [
        "laptop_df['model'], laptop_df['spec'] = laptop_df['title'].str.split('-', 1).str\n",
        "del laptop_df['title']\n",
        "laptop_df.head()"
      ],
      "execution_count": 24,
      "outputs": [
        {
          "output_type": "stream",
          "text": [
            "/usr/local/lib/python3.7/dist-packages/ipykernel_launcher.py:1: FutureWarning: Columnar iteration over characters will be deprecated in future releases.\n",
            "  \"\"\"Entry point for launching an IPython kernel.\n"
          ],
          "name": "stderr"
        },
        {
          "output_type": "execute_result",
          "data": {
            "text/html": [
              "<div>\n",
              "<style scoped>\n",
              "    .dataframe tbody tr th:only-of-type {\n",
              "        vertical-align: middle;\n",
              "    }\n",
              "\n",
              "    .dataframe tbody tr th {\n",
              "        vertical-align: top;\n",
              "    }\n",
              "\n",
              "    .dataframe thead th {\n",
              "        text-align: right;\n",
              "    }\n",
              "</style>\n",
              "<table border=\"1\" class=\"dataframe\">\n",
              "  <thead>\n",
              "    <tr style=\"text-align: right;\">\n",
              "      <th></th>\n",
              "      <th>rating</th>\n",
              "      <th>price</th>\n",
              "      <th>model</th>\n",
              "      <th>spec</th>\n",
              "    </tr>\n",
              "  </thead>\n",
              "  <tbody>\n",
              "    <tr>\n",
              "      <th>0</th>\n",
              "      <td>4.0</td>\n",
              "      <td>62990</td>\n",
              "      <td>Vaio SE Series Core i5 8th Gen</td>\n",
              "      <td>(8 GB/512 GB SSD/Windows 10 Home) NP14V1IN004...</td>\n",
              "    </tr>\n",
              "    <tr>\n",
              "      <th>1</th>\n",
              "      <td>4.2</td>\n",
              "      <td>51490</td>\n",
              "      <td>HP Pavilion Gaming Ryzen 5 Quad Core 3550H</td>\n",
              "      <td>(8 GB/1 TB HDD/Windows 10 Home/4 GB Graphics/...</td>\n",
              "    </tr>\n",
              "    <tr>\n",
              "      <th>2</th>\n",
              "      <td>4.0</td>\n",
              "      <td>27990</td>\n",
              "      <td>Lenovo Ideapad S145 Ryzen 3 Dual Core 3200U</td>\n",
              "      <td>(4 GB/1 TB HDD/Windows 10 Home) S145-15API La...</td>\n",
              "    </tr>\n",
              "    <tr>\n",
              "      <th>3</th>\n",
              "      <td>4.2</td>\n",
              "      <td>36990</td>\n",
              "      <td>HP 14s Core i3 10th Gen</td>\n",
              "      <td>(8 GB/256 GB SSD/Windows 10 Home) 14s-cf3074T...</td>\n",
              "    </tr>\n",
              "    <tr>\n",
              "      <th>4</th>\n",
              "      <td>4.2</td>\n",
              "      <td>42990</td>\n",
              "      <td>Lenovo Ideapad S145 Ryzen 5 Quad Core 3500U</td>\n",
              "      <td>(8 GB/512 GB SSD/Windows 10 Home) S145-15API ...</td>\n",
              "    </tr>\n",
              "  </tbody>\n",
              "</table>\n",
              "</div>"
            ],
            "text/plain": [
              "   rating  ...                                               spec\n",
              "0     4.0  ...   (8 GB/512 GB SSD/Windows 10 Home) NP14V1IN004...\n",
              "1     4.2  ...   (8 GB/1 TB HDD/Windows 10 Home/4 GB Graphics/...\n",
              "2     4.0  ...   (4 GB/1 TB HDD/Windows 10 Home) S145-15API La...\n",
              "3     4.2  ...   (8 GB/256 GB SSD/Windows 10 Home) 14s-cf3074T...\n",
              "4     4.2  ...   (8 GB/512 GB SSD/Windows 10 Home) S145-15API ...\n",
              "\n",
              "[5 rows x 4 columns]"
            ]
          },
          "metadata": {
            "tags": []
          },
          "execution_count": 24
        }
      ]
    },
    {
      "cell_type": "markdown",
      "metadata": {
        "id": "J8Bf3jwpw83_"
      },
      "source": [
        "Usamos esta opción dividida (split \"-\") para separar del título y crear una columna separada como modelo y especificación y eliminar el título"
      ]
    },
    {
      "cell_type": "code",
      "metadata": {
        "id": "NQ30Jzj0w83_",
        "colab": {
          "base_uri": "https://localhost:8080/",
          "height": 1000
        },
        "outputId": "5c030e8c-b5ad-441a-a9fa-ba80c5494b86"
      },
      "source": [
        "laptop_df['RAM'], laptop_df['Storage'] = laptop_df['spec'].str.split('(', 1).str\n",
        "laptop_df['RAM'], laptop_df['Storage'] = laptop_df['Storage'].str.split('/', 1).str\n",
        "laptop_df['Storage'], laptop_df['OS'] = laptop_df['Storage'].str.split('/', 1).str\n",
        "laptop_df"
      ],
      "execution_count": 25,
      "outputs": [
        {
          "output_type": "stream",
          "text": [
            "/usr/local/lib/python3.7/dist-packages/ipykernel_launcher.py:1: FutureWarning: Columnar iteration over characters will be deprecated in future releases.\n",
            "  \"\"\"Entry point for launching an IPython kernel.\n",
            "/usr/local/lib/python3.7/dist-packages/ipykernel_launcher.py:2: FutureWarning: Columnar iteration over characters will be deprecated in future releases.\n",
            "  \n",
            "/usr/local/lib/python3.7/dist-packages/ipykernel_launcher.py:3: FutureWarning: Columnar iteration over characters will be deprecated in future releases.\n",
            "  This is separate from the ipykernel package so we can avoid doing imports until\n"
          ],
          "name": "stderr"
        },
        {
          "output_type": "execute_result",
          "data": {
            "text/html": [
              "<div>\n",
              "<style scoped>\n",
              "    .dataframe tbody tr th:only-of-type {\n",
              "        vertical-align: middle;\n",
              "    }\n",
              "\n",
              "    .dataframe tbody tr th {\n",
              "        vertical-align: top;\n",
              "    }\n",
              "\n",
              "    .dataframe thead th {\n",
              "        text-align: right;\n",
              "    }\n",
              "</style>\n",
              "<table border=\"1\" class=\"dataframe\">\n",
              "  <thead>\n",
              "    <tr style=\"text-align: right;\">\n",
              "      <th></th>\n",
              "      <th>rating</th>\n",
              "      <th>price</th>\n",
              "      <th>model</th>\n",
              "      <th>spec</th>\n",
              "      <th>RAM</th>\n",
              "      <th>Storage</th>\n",
              "      <th>OS</th>\n",
              "    </tr>\n",
              "  </thead>\n",
              "  <tbody>\n",
              "    <tr>\n",
              "      <th>0</th>\n",
              "      <td>4.0</td>\n",
              "      <td>62990</td>\n",
              "      <td>Vaio SE Series Core i5 8th Gen</td>\n",
              "      <td>(8 GB/512 GB SSD/Windows 10 Home) NP14V1IN004...</td>\n",
              "      <td>8 GB</td>\n",
              "      <td>512 GB SSD</td>\n",
              "      <td>Windows 10 Home) NP14V1IN004P Thin and Light L...</td>\n",
              "    </tr>\n",
              "    <tr>\n",
              "      <th>1</th>\n",
              "      <td>4.2</td>\n",
              "      <td>51490</td>\n",
              "      <td>HP Pavilion Gaming Ryzen 5 Quad Core 3550H</td>\n",
              "      <td>(8 GB/1 TB HDD/Windows 10 Home/4 GB Graphics/...</td>\n",
              "      <td>8 GB</td>\n",
              "      <td>1 TB HDD</td>\n",
              "      <td>Windows 10 Home/4 GB Graphics/NVIDIA GeFor...</td>\n",
              "    </tr>\n",
              "    <tr>\n",
              "      <th>2</th>\n",
              "      <td>4.0</td>\n",
              "      <td>27990</td>\n",
              "      <td>Lenovo Ideapad S145 Ryzen 3 Dual Core 3200U</td>\n",
              "      <td>(4 GB/1 TB HDD/Windows 10 Home) S145-15API La...</td>\n",
              "      <td>4 GB</td>\n",
              "      <td>1 TB HDD</td>\n",
              "      <td>Windows 10 Home) S145-15API Laptop</td>\n",
              "    </tr>\n",
              "    <tr>\n",
              "      <th>3</th>\n",
              "      <td>4.2</td>\n",
              "      <td>36990</td>\n",
              "      <td>HP 14s Core i3 10th Gen</td>\n",
              "      <td>(8 GB/256 GB SSD/Windows 10 Home) 14s-cf3074T...</td>\n",
              "      <td>8 GB</td>\n",
              "      <td>256 GB SSD</td>\n",
              "      <td>Windows 10 Home) 14s-cf3074TU Thin and Light L...</td>\n",
              "    </tr>\n",
              "    <tr>\n",
              "      <th>4</th>\n",
              "      <td>4.2</td>\n",
              "      <td>42990</td>\n",
              "      <td>Lenovo Ideapad S145 Ryzen 5 Quad Core 3500U</td>\n",
              "      <td>(8 GB/512 GB SSD/Windows 10 Home) S145-15API ...</td>\n",
              "      <td>8 GB</td>\n",
              "      <td>512 GB SSD</td>\n",
              "      <td>Windows 10 Home) S145-15API Laptop</td>\n",
              "    </tr>\n",
              "    <tr>\n",
              "      <th>5</th>\n",
              "      <td>4.5</td>\n",
              "      <td>55990</td>\n",
              "      <td>acer Aspire 7 Ryzen 5 Hexa Core 5500U</td>\n",
              "      <td>(8 GB/512 GB SSD/Windows 10 Home/4 GB Graphic...</td>\n",
              "      <td>8 GB</td>\n",
              "      <td>512 GB SSD</td>\n",
              "      <td>Windows 10 Home/4 GB Graphics/NVIDIA GeForce ...</td>\n",
              "    </tr>\n",
              "    <tr>\n",
              "      <th>6</th>\n",
              "      <td>4.0</td>\n",
              "      <td>23990</td>\n",
              "      <td>HP 15s Celeron Dual Core</td>\n",
              "      <td>(4 GB/1 TB HDD/Windows 10 Home) 15s-du1044tu ...</td>\n",
              "      <td>4 GB</td>\n",
              "      <td>1 TB HDD</td>\n",
              "      <td>Windows 10 Home) 15s-du1044tu Thin and Light L...</td>\n",
              "    </tr>\n",
              "    <tr>\n",
              "      <th>7</th>\n",
              "      <td>4.5</td>\n",
              "      <td>54990</td>\n",
              "      <td>MSI GF63 Thin Core i5 9th Gen</td>\n",
              "      <td>(8 GB/512 GB SSD/Windows 10 Home/4 GB Graphic...</td>\n",
              "      <td>8 GB</td>\n",
              "      <td>512 GB SSD</td>\n",
              "      <td>Windows 10 Home/4 GB Graphics/NVIDIA GeForce G...</td>\n",
              "    </tr>\n",
              "    <tr>\n",
              "      <th>8</th>\n",
              "      <td>4.7</td>\n",
              "      <td>116990</td>\n",
              "      <td>acer Predator Helios 300 Core i7 10th Gen</td>\n",
              "      <td>(16 GB/1 TB HDD/256 GB SSD/Windows 10 Home/6 ...</td>\n",
              "      <td>16 GB</td>\n",
              "      <td>1 TB HDD</td>\n",
              "      <td>256 GB SSD/Windows 10 Home/6 GB Graphics/N...</td>\n",
              "    </tr>\n",
              "    <tr>\n",
              "      <th>9</th>\n",
              "      <td>4.4</td>\n",
              "      <td>50990</td>\n",
              "      <td>acer Aspire 7 Ryzen 5 Quad Core 3550H</td>\n",
              "      <td>(8 GB/512 GB SSD/Windows 10 Home/4 GB Graphic...</td>\n",
              "      <td>8 GB</td>\n",
              "      <td>512 GB SSD</td>\n",
              "      <td>Windows 10 Home/4 GB Graphics/NVIDIA GeForce ...</td>\n",
              "    </tr>\n",
              "    <tr>\n",
              "      <th>10</th>\n",
              "      <td>4.6</td>\n",
              "      <td>66990</td>\n",
              "      <td>Lenovo Legion 5 Ryzen 5 Hexa Core 4600H</td>\n",
              "      <td>(8 GB/512 GB SSD/Windows 10 Home/4 GB Graphic...</td>\n",
              "      <td>8 GB</td>\n",
              "      <td>512 GB SSD</td>\n",
              "      <td>Windows 10 Home/4 GB Graphics/NVIDIA GeForc...</td>\n",
              "    </tr>\n",
              "    <tr>\n",
              "      <th>11</th>\n",
              "      <td>4.5</td>\n",
              "      <td>59990</td>\n",
              "      <td>Lenovo Ideapad Gaming 3 Ryzen 5 Hexa Core 4600H</td>\n",
              "      <td>(8 GB/1 TB HDD/256 GB SSD/Windows 10 Home/4 G...</td>\n",
              "      <td>8 GB</td>\n",
              "      <td>1 TB HDD</td>\n",
              "      <td>256 GB SSD/Windows 10 Home/4 GB Graph...</td>\n",
              "    </tr>\n",
              "    <tr>\n",
              "      <th>12</th>\n",
              "      <td>4.1</td>\n",
              "      <td>33990</td>\n",
              "      <td>Lenovo Ideapad S145 Core i3 10th Gen</td>\n",
              "      <td>(4 GB/256 GB SSD/Windows 10 Home) S145-15IIL ...</td>\n",
              "      <td>4 GB</td>\n",
              "      <td>256 GB SSD</td>\n",
              "      <td>Windows 10 Home) S145-15IIL Thin and Light Lap...</td>\n",
              "    </tr>\n",
              "    <tr>\n",
              "      <th>13</th>\n",
              "      <td>4.5</td>\n",
              "      <td>59990</td>\n",
              "      <td>HP Pavilion Gaming Ryzen 5 Quad Core 3550H</td>\n",
              "      <td>(8 GB/512 GB SSD/Windows 10 Home/4 GB Graphic...</td>\n",
              "      <td>8 GB</td>\n",
              "      <td>512 GB SSD</td>\n",
              "      <td>Windows 10 Home/4 GB Graphics/NVIDIA GeF...</td>\n",
              "    </tr>\n",
              "    <tr>\n",
              "      <th>14</th>\n",
              "      <td>4.4</td>\n",
              "      <td>54990</td>\n",
              "      <td>acer Aspire 7 Core i5 9th Gen</td>\n",
              "      <td>(8 GB/512 GB SSD/Windows 10 Home/4 GB Graphic...</td>\n",
              "      <td>8 GB</td>\n",
              "      <td>512 GB SSD</td>\n",
              "      <td>Windows 10 Home/4 GB Graphics/NVIDIA GeForce G...</td>\n",
              "    </tr>\n",
              "    <tr>\n",
              "      <th>15</th>\n",
              "      <td>4.4</td>\n",
              "      <td>49990</td>\n",
              "      <td>HP Pavilion x360 Core i3 10th Gen</td>\n",
              "      <td>(8 GB/512 GB SSD/Windows 10 Home) 14-dh1178TU...</td>\n",
              "      <td>8 GB</td>\n",
              "      <td>512 GB SSD</td>\n",
              "      <td>Windows 10 Home) 14-dh1178TU 2 in 1 Laptop</td>\n",
              "    </tr>\n",
              "    <tr>\n",
              "      <th>16</th>\n",
              "      <td>4.7</td>\n",
              "      <td>79990</td>\n",
              "      <td>HP Pavilion Core i7 10th Gen</td>\n",
              "      <td>(16 GB + 32 GB Optane/512 GB SSD/Windows 10 H...</td>\n",
              "      <td>16 GB + 32 GB Optane</td>\n",
              "      <td>512 GB SSD</td>\n",
              "      <td>Windows 10 Home/4 GB Graphics/NVIDIA G...</td>\n",
              "    </tr>\n",
              "    <tr>\n",
              "      <th>17</th>\n",
              "      <td>4.2</td>\n",
              "      <td>96990</td>\n",
              "      <td>ASUS ZenBook 14 Core i7 11th Gen</td>\n",
              "      <td>(16 GB/512 GB SSD/Windows 10 Home) UX425EA-BM...</td>\n",
              "      <td>16 GB</td>\n",
              "      <td>512 GB SSD</td>\n",
              "      <td>Windows 10 Home) UX425EA-BM701TS Thin and Ligh...</td>\n",
              "    </tr>\n",
              "    <tr>\n",
              "      <th>18</th>\n",
              "      <td>4.4</td>\n",
              "      <td>45990</td>\n",
              "      <td>HP Pavilion x360 Core i3 10th Gen</td>\n",
              "      <td>(8 GB/256 GB SSD/Windows 10 Home) 14-dh1181TU...</td>\n",
              "      <td>8 GB</td>\n",
              "      <td>256 GB SSD</td>\n",
              "      <td>Windows 10 Home) 14-dh1181TU 2 in 1 Laptop</td>\n",
              "    </tr>\n",
              "    <tr>\n",
              "      <th>19</th>\n",
              "      <td>4.6</td>\n",
              "      <td>121990</td>\n",
              "      <td>HP Omen 15 Ryzen 7 Octa Core 4800H</td>\n",
              "      <td>(16 GB/1 TB SSD/Windows 10 Home/6 GB Graphics...</td>\n",
              "      <td>16 GB</td>\n",
              "      <td>1 TB SSD</td>\n",
              "      <td>Windows 10 Home/6 GB Graphics/NVIDIA GeForce R...</td>\n",
              "    </tr>\n",
              "    <tr>\n",
              "      <th>20</th>\n",
              "      <td>4.0</td>\n",
              "      <td>23990</td>\n",
              "      <td>HP 15s Dual Core 3020e</td>\n",
              "      <td>(4 GB/1 TB HDD/Windows 10 Home) 15s-GY0003AU ...</td>\n",
              "      <td>4 GB</td>\n",
              "      <td>1 TB HDD</td>\n",
              "      <td>Windows 10 Home) 15s-GY0003AU Thin and Light L...</td>\n",
              "    </tr>\n",
              "    <tr>\n",
              "      <th>21</th>\n",
              "      <td>4.3</td>\n",
              "      <td>43999</td>\n",
              "      <td>Mi Notebook 14 Core i5 10th Gen</td>\n",
              "      <td>(8 GB/256 GB SSD/Windows 10 Home) JYU4298IN T...</td>\n",
              "      <td>8 GB</td>\n",
              "      <td>256 GB SSD</td>\n",
              "      <td>Windows 10 Home) JYU4298IN Thin and Light Laptop</td>\n",
              "    </tr>\n",
              "    <tr>\n",
              "      <th>22</th>\n",
              "      <td>4.4</td>\n",
              "      <td>49990</td>\n",
              "      <td>ASUS VivoBook 14 Ryzen 5 Hexa Core 4500U</td>\n",
              "      <td>(8 GB/512 GB SSD/Windows 10 Home) M413IA-EK58...</td>\n",
              "      <td>8 GB</td>\n",
              "      <td>512 GB SSD</td>\n",
              "      <td>Windows 10 Home) M413IA-EK584T Thin and Li...</td>\n",
              "    </tr>\n",
              "    <tr>\n",
              "      <th>23</th>\n",
              "      <td>4.5</td>\n",
              "      <td>44990</td>\n",
              "      <td>ASUS VivoBook Ultra 14 Core i3 11th Gen</td>\n",
              "      <td>(8 GB/512 GB SSD/Windows 10 Home) X413EA-EB32...</td>\n",
              "      <td>8 GB</td>\n",
              "      <td>512 GB SSD</td>\n",
              "      <td>Windows 10 Home) X413EA-EB322TS Thin and Li...</td>\n",
              "    </tr>\n",
              "  </tbody>\n",
              "</table>\n",
              "</div>"
            ],
            "text/plain": [
              "    rating  ...                                                 OS\n",
              "0      4.0  ...  Windows 10 Home) NP14V1IN004P Thin and Light L...\n",
              "1      4.2  ...      Windows 10 Home/4 GB Graphics/NVIDIA GeFor...\n",
              "2      4.0  ...                 Windows 10 Home) S145-15API Laptop\n",
              "3      4.2  ...  Windows 10 Home) 14s-cf3074TU Thin and Light L...\n",
              "4      4.2  ...                 Windows 10 Home) S145-15API Laptop\n",
              "5      4.5  ...   Windows 10 Home/4 GB Graphics/NVIDIA GeForce ...\n",
              "6      4.0  ...  Windows 10 Home) 15s-du1044tu Thin and Light L...\n",
              "7      4.5  ...  Windows 10 Home/4 GB Graphics/NVIDIA GeForce G...\n",
              "8      4.7  ...      256 GB SSD/Windows 10 Home/6 GB Graphics/N...\n",
              "9      4.4  ...   Windows 10 Home/4 GB Graphics/NVIDIA GeForce ...\n",
              "10     4.6  ...     Windows 10 Home/4 GB Graphics/NVIDIA GeForc...\n",
              "11     4.5  ...           256 GB SSD/Windows 10 Home/4 GB Graph...\n",
              "12     4.1  ...  Windows 10 Home) S145-15IIL Thin and Light Lap...\n",
              "13     4.5  ...        Windows 10 Home/4 GB Graphics/NVIDIA GeF...\n",
              "14     4.4  ...  Windows 10 Home/4 GB Graphics/NVIDIA GeForce G...\n",
              "15     4.4  ...         Windows 10 Home) 14-dh1178TU 2 in 1 Laptop\n",
              "16     4.7  ...          Windows 10 Home/4 GB Graphics/NVIDIA G...\n",
              "17     4.2  ...  Windows 10 Home) UX425EA-BM701TS Thin and Ligh...\n",
              "18     4.4  ...         Windows 10 Home) 14-dh1181TU 2 in 1 Laptop\n",
              "19     4.6  ...  Windows 10 Home/6 GB Graphics/NVIDIA GeForce R...\n",
              "20     4.0  ...  Windows 10 Home) 15s-GY0003AU Thin and Light L...\n",
              "21     4.3  ...   Windows 10 Home) JYU4298IN Thin and Light Laptop\n",
              "22     4.4  ...      Windows 10 Home) M413IA-EK584T Thin and Li...\n",
              "23     4.5  ...     Windows 10 Home) X413EA-EB322TS Thin and Li...\n",
              "\n",
              "[24 rows x 7 columns]"
            ]
          },
          "metadata": {
            "tags": []
          },
          "execution_count": 25
        }
      ]
    },
    {
      "cell_type": "markdown",
      "metadata": {
        "id": "zLSBSMhgw84A"
      },
      "source": [
        "Continuemos hasta conseguir lo siguiente..."
      ]
    },
    {
      "cell_type": "code",
      "metadata": {
        "colab": {
          "base_uri": "https://localhost:8080/",
          "height": 1000
        },
        "id": "YNse5R4ojNme",
        "outputId": "a676358a-c7e1-4801-bf16-b76040dff455"
      },
      "source": [
        "laptop_df['OS'], laptop_df['spec'] = laptop_df['OS'].str.split(')', 1).str\n",
        "laptop_df"
      ],
      "execution_count": 26,
      "outputs": [
        {
          "output_type": "stream",
          "text": [
            "/usr/local/lib/python3.7/dist-packages/ipykernel_launcher.py:1: FutureWarning: Columnar iteration over characters will be deprecated in future releases.\n",
            "  \"\"\"Entry point for launching an IPython kernel.\n"
          ],
          "name": "stderr"
        },
        {
          "output_type": "execute_result",
          "data": {
            "text/html": [
              "<div>\n",
              "<style scoped>\n",
              "    .dataframe tbody tr th:only-of-type {\n",
              "        vertical-align: middle;\n",
              "    }\n",
              "\n",
              "    .dataframe tbody tr th {\n",
              "        vertical-align: top;\n",
              "    }\n",
              "\n",
              "    .dataframe thead th {\n",
              "        text-align: right;\n",
              "    }\n",
              "</style>\n",
              "<table border=\"1\" class=\"dataframe\">\n",
              "  <thead>\n",
              "    <tr style=\"text-align: right;\">\n",
              "      <th></th>\n",
              "      <th>rating</th>\n",
              "      <th>price</th>\n",
              "      <th>model</th>\n",
              "      <th>spec</th>\n",
              "      <th>RAM</th>\n",
              "      <th>Storage</th>\n",
              "      <th>OS</th>\n",
              "    </tr>\n",
              "  </thead>\n",
              "  <tbody>\n",
              "    <tr>\n",
              "      <th>0</th>\n",
              "      <td>4.0</td>\n",
              "      <td>62990</td>\n",
              "      <td>Vaio SE Series Core i5 8th Gen</td>\n",
              "      <td>NP14V1IN004P Thin and Light Laptop</td>\n",
              "      <td>8 GB</td>\n",
              "      <td>512 GB SSD</td>\n",
              "      <td>Windows 10 Home</td>\n",
              "    </tr>\n",
              "    <tr>\n",
              "      <th>1</th>\n",
              "      <td>4.2</td>\n",
              "      <td>51490</td>\n",
              "      <td>HP Pavilion Gaming Ryzen 5 Quad Core 3550H</td>\n",
              "      <td>NaN</td>\n",
              "      <td>8 GB</td>\n",
              "      <td>1 TB HDD</td>\n",
              "      <td>Windows 10 Home/4 GB Graphics/NVIDIA GeFor...</td>\n",
              "    </tr>\n",
              "    <tr>\n",
              "      <th>2</th>\n",
              "      <td>4.0</td>\n",
              "      <td>27990</td>\n",
              "      <td>Lenovo Ideapad S145 Ryzen 3 Dual Core 3200U</td>\n",
              "      <td>S145-15API Laptop</td>\n",
              "      <td>4 GB</td>\n",
              "      <td>1 TB HDD</td>\n",
              "      <td>Windows 10 Home</td>\n",
              "    </tr>\n",
              "    <tr>\n",
              "      <th>3</th>\n",
              "      <td>4.2</td>\n",
              "      <td>36990</td>\n",
              "      <td>HP 14s Core i3 10th Gen</td>\n",
              "      <td>14s-cf3074TU Thin and Light Laptop</td>\n",
              "      <td>8 GB</td>\n",
              "      <td>256 GB SSD</td>\n",
              "      <td>Windows 10 Home</td>\n",
              "    </tr>\n",
              "    <tr>\n",
              "      <th>4</th>\n",
              "      <td>4.2</td>\n",
              "      <td>42990</td>\n",
              "      <td>Lenovo Ideapad S145 Ryzen 5 Quad Core 3500U</td>\n",
              "      <td>S145-15API Laptop</td>\n",
              "      <td>8 GB</td>\n",
              "      <td>512 GB SSD</td>\n",
              "      <td>Windows 10 Home</td>\n",
              "    </tr>\n",
              "    <tr>\n",
              "      <th>5</th>\n",
              "      <td>4.5</td>\n",
              "      <td>55990</td>\n",
              "      <td>acer Aspire 7 Ryzen 5 Hexa Core 5500U</td>\n",
              "      <td>NaN</td>\n",
              "      <td>8 GB</td>\n",
              "      <td>512 GB SSD</td>\n",
              "      <td>Windows 10 Home/4 GB Graphics/NVIDIA GeForce ...</td>\n",
              "    </tr>\n",
              "    <tr>\n",
              "      <th>6</th>\n",
              "      <td>4.0</td>\n",
              "      <td>23990</td>\n",
              "      <td>HP 15s Celeron Dual Core</td>\n",
              "      <td>15s-du1044tu Thin and Light Laptop</td>\n",
              "      <td>4 GB</td>\n",
              "      <td>1 TB HDD</td>\n",
              "      <td>Windows 10 Home</td>\n",
              "    </tr>\n",
              "    <tr>\n",
              "      <th>7</th>\n",
              "      <td>4.5</td>\n",
              "      <td>54990</td>\n",
              "      <td>MSI GF63 Thin Core i5 9th Gen</td>\n",
              "      <td>NaN</td>\n",
              "      <td>8 GB</td>\n",
              "      <td>512 GB SSD</td>\n",
              "      <td>Windows 10 Home/4 GB Graphics/NVIDIA GeForce G...</td>\n",
              "    </tr>\n",
              "    <tr>\n",
              "      <th>8</th>\n",
              "      <td>4.7</td>\n",
              "      <td>116990</td>\n",
              "      <td>acer Predator Helios 300 Core i7 10th Gen</td>\n",
              "      <td>NaN</td>\n",
              "      <td>16 GB</td>\n",
              "      <td>1 TB HDD</td>\n",
              "      <td>256 GB SSD/Windows 10 Home/6 GB Graphics/N...</td>\n",
              "    </tr>\n",
              "    <tr>\n",
              "      <th>9</th>\n",
              "      <td>4.4</td>\n",
              "      <td>50990</td>\n",
              "      <td>acer Aspire 7 Ryzen 5 Quad Core 3550H</td>\n",
              "      <td>NaN</td>\n",
              "      <td>8 GB</td>\n",
              "      <td>512 GB SSD</td>\n",
              "      <td>Windows 10 Home/4 GB Graphics/NVIDIA GeForce ...</td>\n",
              "    </tr>\n",
              "    <tr>\n",
              "      <th>10</th>\n",
              "      <td>4.6</td>\n",
              "      <td>66990</td>\n",
              "      <td>Lenovo Legion 5 Ryzen 5 Hexa Core 4600H</td>\n",
              "      <td>NaN</td>\n",
              "      <td>8 GB</td>\n",
              "      <td>512 GB SSD</td>\n",
              "      <td>Windows 10 Home/4 GB Graphics/NVIDIA GeForc...</td>\n",
              "    </tr>\n",
              "    <tr>\n",
              "      <th>11</th>\n",
              "      <td>4.5</td>\n",
              "      <td>59990</td>\n",
              "      <td>Lenovo Ideapad Gaming 3 Ryzen 5 Hexa Core 4600H</td>\n",
              "      <td>NaN</td>\n",
              "      <td>8 GB</td>\n",
              "      <td>1 TB HDD</td>\n",
              "      <td>256 GB SSD/Windows 10 Home/4 GB Graph...</td>\n",
              "    </tr>\n",
              "    <tr>\n",
              "      <th>12</th>\n",
              "      <td>4.1</td>\n",
              "      <td>33990</td>\n",
              "      <td>Lenovo Ideapad S145 Core i3 10th Gen</td>\n",
              "      <td>S145-15IIL Thin and Light Lap...</td>\n",
              "      <td>4 GB</td>\n",
              "      <td>256 GB SSD</td>\n",
              "      <td>Windows 10 Home</td>\n",
              "    </tr>\n",
              "    <tr>\n",
              "      <th>13</th>\n",
              "      <td>4.5</td>\n",
              "      <td>59990</td>\n",
              "      <td>HP Pavilion Gaming Ryzen 5 Quad Core 3550H</td>\n",
              "      <td>NaN</td>\n",
              "      <td>8 GB</td>\n",
              "      <td>512 GB SSD</td>\n",
              "      <td>Windows 10 Home/4 GB Graphics/NVIDIA GeF...</td>\n",
              "    </tr>\n",
              "    <tr>\n",
              "      <th>14</th>\n",
              "      <td>4.4</td>\n",
              "      <td>54990</td>\n",
              "      <td>acer Aspire 7 Core i5 9th Gen</td>\n",
              "      <td>NaN</td>\n",
              "      <td>8 GB</td>\n",
              "      <td>512 GB SSD</td>\n",
              "      <td>Windows 10 Home/4 GB Graphics/NVIDIA GeForce G...</td>\n",
              "    </tr>\n",
              "    <tr>\n",
              "      <th>15</th>\n",
              "      <td>4.4</td>\n",
              "      <td>49990</td>\n",
              "      <td>HP Pavilion x360 Core i3 10th Gen</td>\n",
              "      <td>14-dh1178TU 2 in 1 Laptop</td>\n",
              "      <td>8 GB</td>\n",
              "      <td>512 GB SSD</td>\n",
              "      <td>Windows 10 Home</td>\n",
              "    </tr>\n",
              "    <tr>\n",
              "      <th>16</th>\n",
              "      <td>4.7</td>\n",
              "      <td>79990</td>\n",
              "      <td>HP Pavilion Core i7 10th Gen</td>\n",
              "      <td>NaN</td>\n",
              "      <td>16 GB + 32 GB Optane</td>\n",
              "      <td>512 GB SSD</td>\n",
              "      <td>Windows 10 Home/4 GB Graphics/NVIDIA G...</td>\n",
              "    </tr>\n",
              "    <tr>\n",
              "      <th>17</th>\n",
              "      <td>4.2</td>\n",
              "      <td>96990</td>\n",
              "      <td>ASUS ZenBook 14 Core i7 11th Gen</td>\n",
              "      <td>UX425EA-BM701TS Thin and Light L...</td>\n",
              "      <td>16 GB</td>\n",
              "      <td>512 GB SSD</td>\n",
              "      <td>Windows 10 Home</td>\n",
              "    </tr>\n",
              "    <tr>\n",
              "      <th>18</th>\n",
              "      <td>4.4</td>\n",
              "      <td>45990</td>\n",
              "      <td>HP Pavilion x360 Core i3 10th Gen</td>\n",
              "      <td>14-dh1181TU 2 in 1 Laptop</td>\n",
              "      <td>8 GB</td>\n",
              "      <td>256 GB SSD</td>\n",
              "      <td>Windows 10 Home</td>\n",
              "    </tr>\n",
              "    <tr>\n",
              "      <th>19</th>\n",
              "      <td>4.6</td>\n",
              "      <td>121990</td>\n",
              "      <td>HP Omen 15 Ryzen 7 Octa Core 4800H</td>\n",
              "      <td>NaN</td>\n",
              "      <td>16 GB</td>\n",
              "      <td>1 TB SSD</td>\n",
              "      <td>Windows 10 Home/6 GB Graphics/NVIDIA GeForce R...</td>\n",
              "    </tr>\n",
              "    <tr>\n",
              "      <th>20</th>\n",
              "      <td>4.0</td>\n",
              "      <td>23990</td>\n",
              "      <td>HP 15s Dual Core 3020e</td>\n",
              "      <td>15s-GY0003AU Thin and Light Laptop</td>\n",
              "      <td>4 GB</td>\n",
              "      <td>1 TB HDD</td>\n",
              "      <td>Windows 10 Home</td>\n",
              "    </tr>\n",
              "    <tr>\n",
              "      <th>21</th>\n",
              "      <td>4.3</td>\n",
              "      <td>43999</td>\n",
              "      <td>Mi Notebook 14 Core i5 10th Gen</td>\n",
              "      <td>JYU4298IN Thin and Light Laptop</td>\n",
              "      <td>8 GB</td>\n",
              "      <td>256 GB SSD</td>\n",
              "      <td>Windows 10 Home</td>\n",
              "    </tr>\n",
              "    <tr>\n",
              "      <th>22</th>\n",
              "      <td>4.4</td>\n",
              "      <td>49990</td>\n",
              "      <td>ASUS VivoBook 14 Ryzen 5 Hexa Core 4500U</td>\n",
              "      <td>M413IA-EK584T Thin and Li...</td>\n",
              "      <td>8 GB</td>\n",
              "      <td>512 GB SSD</td>\n",
              "      <td>Windows 10 Home</td>\n",
              "    </tr>\n",
              "    <tr>\n",
              "      <th>23</th>\n",
              "      <td>4.5</td>\n",
              "      <td>44990</td>\n",
              "      <td>ASUS VivoBook Ultra 14 Core i3 11th Gen</td>\n",
              "      <td>X413EA-EB322TS Thin and Li...</td>\n",
              "      <td>8 GB</td>\n",
              "      <td>512 GB SSD</td>\n",
              "      <td>Windows 10 Home</td>\n",
              "    </tr>\n",
              "  </tbody>\n",
              "</table>\n",
              "</div>"
            ],
            "text/plain": [
              "    rating  ...                                                 OS\n",
              "0      4.0  ...                                    Windows 10 Home\n",
              "1      4.2  ...      Windows 10 Home/4 GB Graphics/NVIDIA GeFor...\n",
              "2      4.0  ...                                    Windows 10 Home\n",
              "3      4.2  ...                                    Windows 10 Home\n",
              "4      4.2  ...                                    Windows 10 Home\n",
              "5      4.5  ...   Windows 10 Home/4 GB Graphics/NVIDIA GeForce ...\n",
              "6      4.0  ...                                    Windows 10 Home\n",
              "7      4.5  ...  Windows 10 Home/4 GB Graphics/NVIDIA GeForce G...\n",
              "8      4.7  ...      256 GB SSD/Windows 10 Home/6 GB Graphics/N...\n",
              "9      4.4  ...   Windows 10 Home/4 GB Graphics/NVIDIA GeForce ...\n",
              "10     4.6  ...     Windows 10 Home/4 GB Graphics/NVIDIA GeForc...\n",
              "11     4.5  ...           256 GB SSD/Windows 10 Home/4 GB Graph...\n",
              "12     4.1  ...                                    Windows 10 Home\n",
              "13     4.5  ...        Windows 10 Home/4 GB Graphics/NVIDIA GeF...\n",
              "14     4.4  ...  Windows 10 Home/4 GB Graphics/NVIDIA GeForce G...\n",
              "15     4.4  ...                                    Windows 10 Home\n",
              "16     4.7  ...          Windows 10 Home/4 GB Graphics/NVIDIA G...\n",
              "17     4.2  ...                                    Windows 10 Home\n",
              "18     4.4  ...                                    Windows 10 Home\n",
              "19     4.6  ...  Windows 10 Home/6 GB Graphics/NVIDIA GeForce R...\n",
              "20     4.0  ...                                    Windows 10 Home\n",
              "21     4.3  ...                                    Windows 10 Home\n",
              "22     4.4  ...                                    Windows 10 Home\n",
              "23     4.5  ...                                    Windows 10 Home\n",
              "\n",
              "[24 rows x 7 columns]"
            ]
          },
          "metadata": {
            "tags": []
          },
          "execution_count": 26
        }
      ]
    },
    {
      "cell_type": "code",
      "metadata": {
        "id": "OkZSqABlw84A",
        "colab": {
          "base_uri": "https://localhost:8080/",
          "height": 805
        },
        "outputId": "e573fe76-a2f2-4eed-9dac-08c10992ed3b"
      },
      "source": [
        "laptop_df['OS'], laptop_df['Other_Info'] = laptop_df['OS'].str.split('/', 1).str\n",
        "laptop_df['Other_Info'] = laptop_df['spec'].astype(str) + ' ' + laptop_df['Other_Info'].astype(str)\n",
        "del laptop_df['spec']\n",
        "laptop_df"
      ],
      "execution_count": 27,
      "outputs": [
        {
          "output_type": "stream",
          "text": [
            "/usr/local/lib/python3.7/dist-packages/ipykernel_launcher.py:1: FutureWarning: Columnar iteration over characters will be deprecated in future releases.\n",
            "  \"\"\"Entry point for launching an IPython kernel.\n"
          ],
          "name": "stderr"
        },
        {
          "output_type": "execute_result",
          "data": {
            "text/html": [
              "<div>\n",
              "<style scoped>\n",
              "    .dataframe tbody tr th:only-of-type {\n",
              "        vertical-align: middle;\n",
              "    }\n",
              "\n",
              "    .dataframe tbody tr th {\n",
              "        vertical-align: top;\n",
              "    }\n",
              "\n",
              "    .dataframe thead th {\n",
              "        text-align: right;\n",
              "    }\n",
              "</style>\n",
              "<table border=\"1\" class=\"dataframe\">\n",
              "  <thead>\n",
              "    <tr style=\"text-align: right;\">\n",
              "      <th></th>\n",
              "      <th>rating</th>\n",
              "      <th>price</th>\n",
              "      <th>model</th>\n",
              "      <th>RAM</th>\n",
              "      <th>Storage</th>\n",
              "      <th>OS</th>\n",
              "      <th>Other_Info</th>\n",
              "    </tr>\n",
              "  </thead>\n",
              "  <tbody>\n",
              "    <tr>\n",
              "      <th>0</th>\n",
              "      <td>4.0</td>\n",
              "      <td>62990</td>\n",
              "      <td>Vaio SE Series Core i5 8th Gen</td>\n",
              "      <td>8 GB</td>\n",
              "      <td>512 GB SSD</td>\n",
              "      <td>Windows 10 Home</td>\n",
              "      <td>NP14V1IN004P Thin and Light Laptop nan</td>\n",
              "    </tr>\n",
              "    <tr>\n",
              "      <th>1</th>\n",
              "      <td>4.2</td>\n",
              "      <td>51490</td>\n",
              "      <td>HP Pavilion Gaming Ryzen 5 Quad Core 3550H</td>\n",
              "      <td>8 GB</td>\n",
              "      <td>1 TB HDD</td>\n",
              "      <td>Windows 10 Home</td>\n",
              "      <td>nan 4 GB Graphics/NVIDIA GeFor...</td>\n",
              "    </tr>\n",
              "    <tr>\n",
              "      <th>2</th>\n",
              "      <td>4.0</td>\n",
              "      <td>27990</td>\n",
              "      <td>Lenovo Ideapad S145 Ryzen 3 Dual Core 3200U</td>\n",
              "      <td>4 GB</td>\n",
              "      <td>1 TB HDD</td>\n",
              "      <td>Windows 10 Home</td>\n",
              "      <td>S145-15API Laptop nan</td>\n",
              "    </tr>\n",
              "    <tr>\n",
              "      <th>3</th>\n",
              "      <td>4.2</td>\n",
              "      <td>36990</td>\n",
              "      <td>HP 14s Core i3 10th Gen</td>\n",
              "      <td>8 GB</td>\n",
              "      <td>256 GB SSD</td>\n",
              "      <td>Windows 10 Home</td>\n",
              "      <td>14s-cf3074TU Thin and Light Laptop nan</td>\n",
              "    </tr>\n",
              "    <tr>\n",
              "      <th>4</th>\n",
              "      <td>4.2</td>\n",
              "      <td>42990</td>\n",
              "      <td>Lenovo Ideapad S145 Ryzen 5 Quad Core 3500U</td>\n",
              "      <td>8 GB</td>\n",
              "      <td>512 GB SSD</td>\n",
              "      <td>Windows 10 Home</td>\n",
              "      <td>S145-15API Laptop nan</td>\n",
              "    </tr>\n",
              "    <tr>\n",
              "      <th>5</th>\n",
              "      <td>4.5</td>\n",
              "      <td>55990</td>\n",
              "      <td>acer Aspire 7 Ryzen 5 Hexa Core 5500U</td>\n",
              "      <td>8 GB</td>\n",
              "      <td>512 GB SSD</td>\n",
              "      <td>Windows 10 Home</td>\n",
              "      <td>nan 4 GB Graphics/NVIDIA GeForce ...</td>\n",
              "    </tr>\n",
              "    <tr>\n",
              "      <th>6</th>\n",
              "      <td>4.0</td>\n",
              "      <td>23990</td>\n",
              "      <td>HP 15s Celeron Dual Core</td>\n",
              "      <td>4 GB</td>\n",
              "      <td>1 TB HDD</td>\n",
              "      <td>Windows 10 Home</td>\n",
              "      <td>15s-du1044tu Thin and Light Laptop nan</td>\n",
              "    </tr>\n",
              "    <tr>\n",
              "      <th>7</th>\n",
              "      <td>4.5</td>\n",
              "      <td>54990</td>\n",
              "      <td>MSI GF63 Thin Core i5 9th Gen</td>\n",
              "      <td>8 GB</td>\n",
              "      <td>512 GB SSD</td>\n",
              "      <td>Windows 10 Home</td>\n",
              "      <td>nan 4 GB Graphics/NVIDIA GeForce GTX 1650...</td>\n",
              "    </tr>\n",
              "    <tr>\n",
              "      <th>8</th>\n",
              "      <td>4.7</td>\n",
              "      <td>116990</td>\n",
              "      <td>acer Predator Helios 300 Core i7 10th Gen</td>\n",
              "      <td>16 GB</td>\n",
              "      <td>1 TB HDD</td>\n",
              "      <td>256 GB SSD</td>\n",
              "      <td>nan Windows 10 Home/6 GB Graphics/N...</td>\n",
              "    </tr>\n",
              "    <tr>\n",
              "      <th>9</th>\n",
              "      <td>4.4</td>\n",
              "      <td>50990</td>\n",
              "      <td>acer Aspire 7 Ryzen 5 Quad Core 3550H</td>\n",
              "      <td>8 GB</td>\n",
              "      <td>512 GB SSD</td>\n",
              "      <td>Windows 10 Home</td>\n",
              "      <td>nan 4 GB Graphics/NVIDIA GeForce ...</td>\n",
              "    </tr>\n",
              "    <tr>\n",
              "      <th>10</th>\n",
              "      <td>4.6</td>\n",
              "      <td>66990</td>\n",
              "      <td>Lenovo Legion 5 Ryzen 5 Hexa Core 4600H</td>\n",
              "      <td>8 GB</td>\n",
              "      <td>512 GB SSD</td>\n",
              "      <td>Windows 10 Home</td>\n",
              "      <td>nan 4 GB Graphics/NVIDIA GeForc...</td>\n",
              "    </tr>\n",
              "    <tr>\n",
              "      <th>11</th>\n",
              "      <td>4.5</td>\n",
              "      <td>59990</td>\n",
              "      <td>Lenovo Ideapad Gaming 3 Ryzen 5 Hexa Core 4600H</td>\n",
              "      <td>8 GB</td>\n",
              "      <td>1 TB HDD</td>\n",
              "      <td>256 GB SSD</td>\n",
              "      <td>nan Windows 10 Home/4 GB Graph...</td>\n",
              "    </tr>\n",
              "    <tr>\n",
              "      <th>12</th>\n",
              "      <td>4.1</td>\n",
              "      <td>33990</td>\n",
              "      <td>Lenovo Ideapad S145 Core i3 10th Gen</td>\n",
              "      <td>4 GB</td>\n",
              "      <td>256 GB SSD</td>\n",
              "      <td>Windows 10 Home</td>\n",
              "      <td>S145-15IIL Thin and Light Lap... nan</td>\n",
              "    </tr>\n",
              "    <tr>\n",
              "      <th>13</th>\n",
              "      <td>4.5</td>\n",
              "      <td>59990</td>\n",
              "      <td>HP Pavilion Gaming Ryzen 5 Quad Core 3550H</td>\n",
              "      <td>8 GB</td>\n",
              "      <td>512 GB SSD</td>\n",
              "      <td>Windows 10 Home</td>\n",
              "      <td>nan 4 GB Graphics/NVIDIA GeF...</td>\n",
              "    </tr>\n",
              "    <tr>\n",
              "      <th>14</th>\n",
              "      <td>4.4</td>\n",
              "      <td>54990</td>\n",
              "      <td>acer Aspire 7 Core i5 9th Gen</td>\n",
              "      <td>8 GB</td>\n",
              "      <td>512 GB SSD</td>\n",
              "      <td>Windows 10 Home</td>\n",
              "      <td>nan 4 GB Graphics/NVIDIA GeForce GTX 1650...</td>\n",
              "    </tr>\n",
              "    <tr>\n",
              "      <th>15</th>\n",
              "      <td>4.4</td>\n",
              "      <td>49990</td>\n",
              "      <td>HP Pavilion x360 Core i3 10th Gen</td>\n",
              "      <td>8 GB</td>\n",
              "      <td>512 GB SSD</td>\n",
              "      <td>Windows 10 Home</td>\n",
              "      <td>14-dh1178TU 2 in 1 Laptop nan</td>\n",
              "    </tr>\n",
              "    <tr>\n",
              "      <th>16</th>\n",
              "      <td>4.7</td>\n",
              "      <td>79990</td>\n",
              "      <td>HP Pavilion Core i7 10th Gen</td>\n",
              "      <td>16 GB + 32 GB Optane</td>\n",
              "      <td>512 GB SSD</td>\n",
              "      <td>Windows 10 Home</td>\n",
              "      <td>nan 4 GB Graphics/NVIDIA G...</td>\n",
              "    </tr>\n",
              "    <tr>\n",
              "      <th>17</th>\n",
              "      <td>4.2</td>\n",
              "      <td>96990</td>\n",
              "      <td>ASUS ZenBook 14 Core i7 11th Gen</td>\n",
              "      <td>16 GB</td>\n",
              "      <td>512 GB SSD</td>\n",
              "      <td>Windows 10 Home</td>\n",
              "      <td>UX425EA-BM701TS Thin and Light L... nan</td>\n",
              "    </tr>\n",
              "    <tr>\n",
              "      <th>18</th>\n",
              "      <td>4.4</td>\n",
              "      <td>45990</td>\n",
              "      <td>HP Pavilion x360 Core i3 10th Gen</td>\n",
              "      <td>8 GB</td>\n",
              "      <td>256 GB SSD</td>\n",
              "      <td>Windows 10 Home</td>\n",
              "      <td>14-dh1181TU 2 in 1 Laptop nan</td>\n",
              "    </tr>\n",
              "    <tr>\n",
              "      <th>19</th>\n",
              "      <td>4.6</td>\n",
              "      <td>121990</td>\n",
              "      <td>HP Omen 15 Ryzen 7 Octa Core 4800H</td>\n",
              "      <td>16 GB</td>\n",
              "      <td>1 TB SSD</td>\n",
              "      <td>Windows 10 Home</td>\n",
              "      <td>nan 6 GB Graphics/NVIDIA GeForce RTX ...</td>\n",
              "    </tr>\n",
              "    <tr>\n",
              "      <th>20</th>\n",
              "      <td>4.0</td>\n",
              "      <td>23990</td>\n",
              "      <td>HP 15s Dual Core 3020e</td>\n",
              "      <td>4 GB</td>\n",
              "      <td>1 TB HDD</td>\n",
              "      <td>Windows 10 Home</td>\n",
              "      <td>15s-GY0003AU Thin and Light Laptop nan</td>\n",
              "    </tr>\n",
              "    <tr>\n",
              "      <th>21</th>\n",
              "      <td>4.3</td>\n",
              "      <td>43999</td>\n",
              "      <td>Mi Notebook 14 Core i5 10th Gen</td>\n",
              "      <td>8 GB</td>\n",
              "      <td>256 GB SSD</td>\n",
              "      <td>Windows 10 Home</td>\n",
              "      <td>JYU4298IN Thin and Light Laptop nan</td>\n",
              "    </tr>\n",
              "    <tr>\n",
              "      <th>22</th>\n",
              "      <td>4.4</td>\n",
              "      <td>49990</td>\n",
              "      <td>ASUS VivoBook 14 Ryzen 5 Hexa Core 4500U</td>\n",
              "      <td>8 GB</td>\n",
              "      <td>512 GB SSD</td>\n",
              "      <td>Windows 10 Home</td>\n",
              "      <td>M413IA-EK584T Thin and Li... nan</td>\n",
              "    </tr>\n",
              "    <tr>\n",
              "      <th>23</th>\n",
              "      <td>4.5</td>\n",
              "      <td>44990</td>\n",
              "      <td>ASUS VivoBook Ultra 14 Core i3 11th Gen</td>\n",
              "      <td>8 GB</td>\n",
              "      <td>512 GB SSD</td>\n",
              "      <td>Windows 10 Home</td>\n",
              "      <td>X413EA-EB322TS Thin and Li... nan</td>\n",
              "    </tr>\n",
              "  </tbody>\n",
              "</table>\n",
              "</div>"
            ],
            "text/plain": [
              "    rating  ...                                    Other_Info\n",
              "0      4.0  ...        NP14V1IN004P Thin and Light Laptop nan\n",
              "1      4.2  ...             nan 4 GB Graphics/NVIDIA GeFor...\n",
              "2      4.0  ...                         S145-15API Laptop nan\n",
              "3      4.2  ...        14s-cf3074TU Thin and Light Laptop nan\n",
              "4      4.2  ...                         S145-15API Laptop nan\n",
              "5      4.5  ...          nan 4 GB Graphics/NVIDIA GeForce ...\n",
              "6      4.0  ...        15s-du1044tu Thin and Light Laptop nan\n",
              "7      4.5  ...  nan 4 GB Graphics/NVIDIA GeForce GTX 1650...\n",
              "8      4.7  ...        nan Windows 10 Home/6 GB Graphics/N...\n",
              "9      4.4  ...          nan 4 GB Graphics/NVIDIA GeForce ...\n",
              "10     4.6  ...            nan 4 GB Graphics/NVIDIA GeForc...\n",
              "11     4.5  ...             nan Windows 10 Home/4 GB Graph...\n",
              "12     4.1  ...          S145-15IIL Thin and Light Lap... nan\n",
              "13     4.5  ...               nan 4 GB Graphics/NVIDIA GeF...\n",
              "14     4.4  ...  nan 4 GB Graphics/NVIDIA GeForce GTX 1650...\n",
              "15     4.4  ...                 14-dh1178TU 2 in 1 Laptop nan\n",
              "16     4.7  ...                 nan 4 GB Graphics/NVIDIA G...\n",
              "17     4.2  ...       UX425EA-BM701TS Thin and Light L... nan\n",
              "18     4.4  ...                 14-dh1181TU 2 in 1 Laptop nan\n",
              "19     4.6  ...      nan 6 GB Graphics/NVIDIA GeForce RTX ...\n",
              "20     4.0  ...        15s-GY0003AU Thin and Light Laptop nan\n",
              "21     4.3  ...           JYU4298IN Thin and Light Laptop nan\n",
              "22     4.4  ...              M413IA-EK584T Thin and Li... nan\n",
              "23     4.5  ...             X413EA-EB322TS Thin and Li... nan\n",
              "\n",
              "[24 rows x 7 columns]"
            ]
          },
          "metadata": {
            "tags": []
          },
          "execution_count": 27
        }
      ]
    },
    {
      "cell_type": "markdown",
      "metadata": {
        "id": "3jxCVmyFw84A"
      },
      "source": [
        "## Paso 6: Identificación de valores perdidos\n",
        "\n",
        "Los métodos isnull () y notnull () son las formas más comunes de identificar valores perdidos.\n",
        "\n",
        "Mientras maneja los datos faltantes, primero debe identificar las filas y columnas que contienen los valores faltantes, contar el número de valores faltantes y luego decidir cómo desea tratarlos.\n",
        "\n",
        "Es importante que trate los valores faltantes en cada columna por separado, en lugar de implementar una única solución (por ejemplo, reemplazar los NaN por la media de una columna) para todas las columnas.\n",
        "\n",
        "isnull () devuelve un valor booleano (Verdadero / Falso) que luego se puede usar para encontrar las filas o columnas que contienen valores perdidos."
      ]
    },
    {
      "cell_type": "code",
      "metadata": {
        "id": "HoGnzBoDw84A",
        "colab": {
          "base_uri": "https://localhost:8080/",
          "height": 768
        },
        "outputId": "7fddf353-52fe-4957-a2f2-b0071174fa84"
      },
      "source": [
        "laptop_df.isnull()"
      ],
      "execution_count": 28,
      "outputs": [
        {
          "output_type": "execute_result",
          "data": {
            "text/html": [
              "<div>\n",
              "<style scoped>\n",
              "    .dataframe tbody tr th:only-of-type {\n",
              "        vertical-align: middle;\n",
              "    }\n",
              "\n",
              "    .dataframe tbody tr th {\n",
              "        vertical-align: top;\n",
              "    }\n",
              "\n",
              "    .dataframe thead th {\n",
              "        text-align: right;\n",
              "    }\n",
              "</style>\n",
              "<table border=\"1\" class=\"dataframe\">\n",
              "  <thead>\n",
              "    <tr style=\"text-align: right;\">\n",
              "      <th></th>\n",
              "      <th>rating</th>\n",
              "      <th>price</th>\n",
              "      <th>model</th>\n",
              "      <th>RAM</th>\n",
              "      <th>Storage</th>\n",
              "      <th>OS</th>\n",
              "      <th>Other_Info</th>\n",
              "    </tr>\n",
              "  </thead>\n",
              "  <tbody>\n",
              "    <tr>\n",
              "      <th>0</th>\n",
              "      <td>False</td>\n",
              "      <td>False</td>\n",
              "      <td>False</td>\n",
              "      <td>False</td>\n",
              "      <td>False</td>\n",
              "      <td>False</td>\n",
              "      <td>False</td>\n",
              "    </tr>\n",
              "    <tr>\n",
              "      <th>1</th>\n",
              "      <td>False</td>\n",
              "      <td>False</td>\n",
              "      <td>False</td>\n",
              "      <td>False</td>\n",
              "      <td>False</td>\n",
              "      <td>False</td>\n",
              "      <td>False</td>\n",
              "    </tr>\n",
              "    <tr>\n",
              "      <th>2</th>\n",
              "      <td>False</td>\n",
              "      <td>False</td>\n",
              "      <td>False</td>\n",
              "      <td>False</td>\n",
              "      <td>False</td>\n",
              "      <td>False</td>\n",
              "      <td>False</td>\n",
              "    </tr>\n",
              "    <tr>\n",
              "      <th>3</th>\n",
              "      <td>False</td>\n",
              "      <td>False</td>\n",
              "      <td>False</td>\n",
              "      <td>False</td>\n",
              "      <td>False</td>\n",
              "      <td>False</td>\n",
              "      <td>False</td>\n",
              "    </tr>\n",
              "    <tr>\n",
              "      <th>4</th>\n",
              "      <td>False</td>\n",
              "      <td>False</td>\n",
              "      <td>False</td>\n",
              "      <td>False</td>\n",
              "      <td>False</td>\n",
              "      <td>False</td>\n",
              "      <td>False</td>\n",
              "    </tr>\n",
              "    <tr>\n",
              "      <th>5</th>\n",
              "      <td>False</td>\n",
              "      <td>False</td>\n",
              "      <td>False</td>\n",
              "      <td>False</td>\n",
              "      <td>False</td>\n",
              "      <td>False</td>\n",
              "      <td>False</td>\n",
              "    </tr>\n",
              "    <tr>\n",
              "      <th>6</th>\n",
              "      <td>False</td>\n",
              "      <td>False</td>\n",
              "      <td>False</td>\n",
              "      <td>False</td>\n",
              "      <td>False</td>\n",
              "      <td>False</td>\n",
              "      <td>False</td>\n",
              "    </tr>\n",
              "    <tr>\n",
              "      <th>7</th>\n",
              "      <td>False</td>\n",
              "      <td>False</td>\n",
              "      <td>False</td>\n",
              "      <td>False</td>\n",
              "      <td>False</td>\n",
              "      <td>False</td>\n",
              "      <td>False</td>\n",
              "    </tr>\n",
              "    <tr>\n",
              "      <th>8</th>\n",
              "      <td>False</td>\n",
              "      <td>False</td>\n",
              "      <td>False</td>\n",
              "      <td>False</td>\n",
              "      <td>False</td>\n",
              "      <td>False</td>\n",
              "      <td>False</td>\n",
              "    </tr>\n",
              "    <tr>\n",
              "      <th>9</th>\n",
              "      <td>False</td>\n",
              "      <td>False</td>\n",
              "      <td>False</td>\n",
              "      <td>False</td>\n",
              "      <td>False</td>\n",
              "      <td>False</td>\n",
              "      <td>False</td>\n",
              "    </tr>\n",
              "    <tr>\n",
              "      <th>10</th>\n",
              "      <td>False</td>\n",
              "      <td>False</td>\n",
              "      <td>False</td>\n",
              "      <td>False</td>\n",
              "      <td>False</td>\n",
              "      <td>False</td>\n",
              "      <td>False</td>\n",
              "    </tr>\n",
              "    <tr>\n",
              "      <th>11</th>\n",
              "      <td>False</td>\n",
              "      <td>False</td>\n",
              "      <td>False</td>\n",
              "      <td>False</td>\n",
              "      <td>False</td>\n",
              "      <td>False</td>\n",
              "      <td>False</td>\n",
              "    </tr>\n",
              "    <tr>\n",
              "      <th>12</th>\n",
              "      <td>False</td>\n",
              "      <td>False</td>\n",
              "      <td>False</td>\n",
              "      <td>False</td>\n",
              "      <td>False</td>\n",
              "      <td>False</td>\n",
              "      <td>False</td>\n",
              "    </tr>\n",
              "    <tr>\n",
              "      <th>13</th>\n",
              "      <td>False</td>\n",
              "      <td>False</td>\n",
              "      <td>False</td>\n",
              "      <td>False</td>\n",
              "      <td>False</td>\n",
              "      <td>False</td>\n",
              "      <td>False</td>\n",
              "    </tr>\n",
              "    <tr>\n",
              "      <th>14</th>\n",
              "      <td>False</td>\n",
              "      <td>False</td>\n",
              "      <td>False</td>\n",
              "      <td>False</td>\n",
              "      <td>False</td>\n",
              "      <td>False</td>\n",
              "      <td>False</td>\n",
              "    </tr>\n",
              "    <tr>\n",
              "      <th>15</th>\n",
              "      <td>False</td>\n",
              "      <td>False</td>\n",
              "      <td>False</td>\n",
              "      <td>False</td>\n",
              "      <td>False</td>\n",
              "      <td>False</td>\n",
              "      <td>False</td>\n",
              "    </tr>\n",
              "    <tr>\n",
              "      <th>16</th>\n",
              "      <td>False</td>\n",
              "      <td>False</td>\n",
              "      <td>False</td>\n",
              "      <td>False</td>\n",
              "      <td>False</td>\n",
              "      <td>False</td>\n",
              "      <td>False</td>\n",
              "    </tr>\n",
              "    <tr>\n",
              "      <th>17</th>\n",
              "      <td>False</td>\n",
              "      <td>False</td>\n",
              "      <td>False</td>\n",
              "      <td>False</td>\n",
              "      <td>False</td>\n",
              "      <td>False</td>\n",
              "      <td>False</td>\n",
              "    </tr>\n",
              "    <tr>\n",
              "      <th>18</th>\n",
              "      <td>False</td>\n",
              "      <td>False</td>\n",
              "      <td>False</td>\n",
              "      <td>False</td>\n",
              "      <td>False</td>\n",
              "      <td>False</td>\n",
              "      <td>False</td>\n",
              "    </tr>\n",
              "    <tr>\n",
              "      <th>19</th>\n",
              "      <td>False</td>\n",
              "      <td>False</td>\n",
              "      <td>False</td>\n",
              "      <td>False</td>\n",
              "      <td>False</td>\n",
              "      <td>False</td>\n",
              "      <td>False</td>\n",
              "    </tr>\n",
              "    <tr>\n",
              "      <th>20</th>\n",
              "      <td>False</td>\n",
              "      <td>False</td>\n",
              "      <td>False</td>\n",
              "      <td>False</td>\n",
              "      <td>False</td>\n",
              "      <td>False</td>\n",
              "      <td>False</td>\n",
              "    </tr>\n",
              "    <tr>\n",
              "      <th>21</th>\n",
              "      <td>False</td>\n",
              "      <td>False</td>\n",
              "      <td>False</td>\n",
              "      <td>False</td>\n",
              "      <td>False</td>\n",
              "      <td>False</td>\n",
              "      <td>False</td>\n",
              "    </tr>\n",
              "    <tr>\n",
              "      <th>22</th>\n",
              "      <td>False</td>\n",
              "      <td>False</td>\n",
              "      <td>False</td>\n",
              "      <td>False</td>\n",
              "      <td>False</td>\n",
              "      <td>False</td>\n",
              "      <td>False</td>\n",
              "    </tr>\n",
              "    <tr>\n",
              "      <th>23</th>\n",
              "      <td>False</td>\n",
              "      <td>False</td>\n",
              "      <td>False</td>\n",
              "      <td>False</td>\n",
              "      <td>False</td>\n",
              "      <td>False</td>\n",
              "      <td>False</td>\n",
              "    </tr>\n",
              "  </tbody>\n",
              "</table>\n",
              "</div>"
            ],
            "text/plain": [
              "    rating  price  model    RAM  Storage     OS  Other_Info\n",
              "0    False  False  False  False    False  False       False\n",
              "1    False  False  False  False    False  False       False\n",
              "2    False  False  False  False    False  False       False\n",
              "3    False  False  False  False    False  False       False\n",
              "4    False  False  False  False    False  False       False\n",
              "5    False  False  False  False    False  False       False\n",
              "6    False  False  False  False    False  False       False\n",
              "7    False  False  False  False    False  False       False\n",
              "8    False  False  False  False    False  False       False\n",
              "9    False  False  False  False    False  False       False\n",
              "10   False  False  False  False    False  False       False\n",
              "11   False  False  False  False    False  False       False\n",
              "12   False  False  False  False    False  False       False\n",
              "13   False  False  False  False    False  False       False\n",
              "14   False  False  False  False    False  False       False\n",
              "15   False  False  False  False    False  False       False\n",
              "16   False  False  False  False    False  False       False\n",
              "17   False  False  False  False    False  False       False\n",
              "18   False  False  False  False    False  False       False\n",
              "19   False  False  False  False    False  False       False\n",
              "20   False  False  False  False    False  False       False\n",
              "21   False  False  False  False    False  False       False\n",
              "22   False  False  False  False    False  False       False\n",
              "23   False  False  False  False    False  False       False"
            ]
          },
          "metadata": {
            "tags": []
          },
          "execution_count": 28
        }
      ]
    },
    {
      "cell_type": "markdown",
      "metadata": {
        "id": "XiGO7tHuw84B"
      },
      "source": [
        "### Identificación de valores perdidos en columnas\n",
        "\n",
        "Primero calculemos el número total de valores faltantes en el marco de datos. Puede calcular el número de valores perdidos en cada columna mediante df.isnull().Sum()"
      ]
    },
    {
      "cell_type": "code",
      "metadata": {
        "id": "Vs5ZUe-Ow84B",
        "colab": {
          "base_uri": "https://localhost:8080/"
        },
        "outputId": "1a3325fd-0572-4f9f-a134-64ba9271e2f7"
      },
      "source": [
        "laptop_df.isnull().sum()"
      ],
      "execution_count": 29,
      "outputs": [
        {
          "output_type": "execute_result",
          "data": {
            "text/plain": [
              "rating        0\n",
              "price         0\n",
              "model         0\n",
              "RAM           0\n",
              "Storage       0\n",
              "OS            0\n",
              "Other_Info    0\n",
              "dtype: int64"
            ]
          },
          "metadata": {
            "tags": []
          },
          "execution_count": 29
        }
      ]
    },
    {
      "cell_type": "markdown",
      "metadata": {
        "id": "Dgsd2BWEw84C"
      },
      "source": [
        "Ahora necesitamos filtrar las mejores computadoras portátiles con buenas especificaciones, precio y calificación de la lista"
      ]
    },
    {
      "cell_type": "markdown",
      "metadata": {
        "id": "HmyBjnFUw84C"
      },
      "source": [
        "Muestra los siguientes resultados:\n",
        " * Laptops en rating <= 4\n",
        " * Laptops con rating >= 3.5 y un precio entre 30 y 40 mil $"
      ]
    },
    {
      "cell_type": "code",
      "metadata": {
        "id": "KxMh2D4Qw84C",
        "colab": {
          "base_uri": "https://localhost:8080/",
          "height": 168
        },
        "outputId": "c31f2765-e3f8-4515-c688-90c131fb5e4c"
      },
      "source": [
        "less = laptop_df[laptop_df['rating'] <= 4]\n",
        "less"
      ],
      "execution_count": 30,
      "outputs": [
        {
          "output_type": "execute_result",
          "data": {
            "text/html": [
              "<div>\n",
              "<style scoped>\n",
              "    .dataframe tbody tr th:only-of-type {\n",
              "        vertical-align: middle;\n",
              "    }\n",
              "\n",
              "    .dataframe tbody tr th {\n",
              "        vertical-align: top;\n",
              "    }\n",
              "\n",
              "    .dataframe thead th {\n",
              "        text-align: right;\n",
              "    }\n",
              "</style>\n",
              "<table border=\"1\" class=\"dataframe\">\n",
              "  <thead>\n",
              "    <tr style=\"text-align: right;\">\n",
              "      <th></th>\n",
              "      <th>rating</th>\n",
              "      <th>price</th>\n",
              "      <th>model</th>\n",
              "      <th>RAM</th>\n",
              "      <th>Storage</th>\n",
              "      <th>OS</th>\n",
              "      <th>Other_Info</th>\n",
              "    </tr>\n",
              "  </thead>\n",
              "  <tbody>\n",
              "    <tr>\n",
              "      <th>0</th>\n",
              "      <td>4.0</td>\n",
              "      <td>62990</td>\n",
              "      <td>Vaio SE Series Core i5 8th Gen</td>\n",
              "      <td>8 GB</td>\n",
              "      <td>512 GB SSD</td>\n",
              "      <td>Windows 10 Home</td>\n",
              "      <td>NP14V1IN004P Thin and Light Laptop nan</td>\n",
              "    </tr>\n",
              "    <tr>\n",
              "      <th>2</th>\n",
              "      <td>4.0</td>\n",
              "      <td>27990</td>\n",
              "      <td>Lenovo Ideapad S145 Ryzen 3 Dual Core 3200U</td>\n",
              "      <td>4 GB</td>\n",
              "      <td>1 TB HDD</td>\n",
              "      <td>Windows 10 Home</td>\n",
              "      <td>S145-15API Laptop nan</td>\n",
              "    </tr>\n",
              "    <tr>\n",
              "      <th>6</th>\n",
              "      <td>4.0</td>\n",
              "      <td>23990</td>\n",
              "      <td>HP 15s Celeron Dual Core</td>\n",
              "      <td>4 GB</td>\n",
              "      <td>1 TB HDD</td>\n",
              "      <td>Windows 10 Home</td>\n",
              "      <td>15s-du1044tu Thin and Light Laptop nan</td>\n",
              "    </tr>\n",
              "    <tr>\n",
              "      <th>20</th>\n",
              "      <td>4.0</td>\n",
              "      <td>23990</td>\n",
              "      <td>HP 15s Dual Core 3020e</td>\n",
              "      <td>4 GB</td>\n",
              "      <td>1 TB HDD</td>\n",
              "      <td>Windows 10 Home</td>\n",
              "      <td>15s-GY0003AU Thin and Light Laptop nan</td>\n",
              "    </tr>\n",
              "  </tbody>\n",
              "</table>\n",
              "</div>"
            ],
            "text/plain": [
              "    rating  price  ...               OS                               Other_Info\n",
              "0      4.0  62990  ...  Windows 10 Home   NP14V1IN004P Thin and Light Laptop nan\n",
              "2      4.0  27990  ...  Windows 10 Home                    S145-15API Laptop nan\n",
              "6      4.0  23990  ...  Windows 10 Home   15s-du1044tu Thin and Light Laptop nan\n",
              "20     4.0  23990  ...  Windows 10 Home   15s-GY0003AU Thin and Light Laptop nan\n",
              "\n",
              "[4 rows x 7 columns]"
            ]
          },
          "metadata": {
            "tags": []
          },
          "execution_count": 30
        }
      ]
    },
    {
      "cell_type": "code",
      "metadata": {
        "id": "bCpmdPBtw84C",
        "colab": {
          "base_uri": "https://localhost:8080/",
          "height": 198
        },
        "outputId": "21035919-03af-4123-b533-1e090fa6ac0c"
      },
      "source": [
        "more = laptop_df[laptop_df['rating'] >= 3.5]\n",
        "more = laptop_df[laptop_df['price'] >= 30000]\n",
        "more = laptop_df[laptop_df['price'] <= 40000]\n",
        "more"
      ],
      "execution_count": 31,
      "outputs": [
        {
          "output_type": "execute_result",
          "data": {
            "text/html": [
              "<div>\n",
              "<style scoped>\n",
              "    .dataframe tbody tr th:only-of-type {\n",
              "        vertical-align: middle;\n",
              "    }\n",
              "\n",
              "    .dataframe tbody tr th {\n",
              "        vertical-align: top;\n",
              "    }\n",
              "\n",
              "    .dataframe thead th {\n",
              "        text-align: right;\n",
              "    }\n",
              "</style>\n",
              "<table border=\"1\" class=\"dataframe\">\n",
              "  <thead>\n",
              "    <tr style=\"text-align: right;\">\n",
              "      <th></th>\n",
              "      <th>rating</th>\n",
              "      <th>price</th>\n",
              "      <th>model</th>\n",
              "      <th>RAM</th>\n",
              "      <th>Storage</th>\n",
              "      <th>OS</th>\n",
              "      <th>Other_Info</th>\n",
              "    </tr>\n",
              "  </thead>\n",
              "  <tbody>\n",
              "    <tr>\n",
              "      <th>2</th>\n",
              "      <td>4.0</td>\n",
              "      <td>27990</td>\n",
              "      <td>Lenovo Ideapad S145 Ryzen 3 Dual Core 3200U</td>\n",
              "      <td>4 GB</td>\n",
              "      <td>1 TB HDD</td>\n",
              "      <td>Windows 10 Home</td>\n",
              "      <td>S145-15API Laptop nan</td>\n",
              "    </tr>\n",
              "    <tr>\n",
              "      <th>3</th>\n",
              "      <td>4.2</td>\n",
              "      <td>36990</td>\n",
              "      <td>HP 14s Core i3 10th Gen</td>\n",
              "      <td>8 GB</td>\n",
              "      <td>256 GB SSD</td>\n",
              "      <td>Windows 10 Home</td>\n",
              "      <td>14s-cf3074TU Thin and Light Laptop nan</td>\n",
              "    </tr>\n",
              "    <tr>\n",
              "      <th>6</th>\n",
              "      <td>4.0</td>\n",
              "      <td>23990</td>\n",
              "      <td>HP 15s Celeron Dual Core</td>\n",
              "      <td>4 GB</td>\n",
              "      <td>1 TB HDD</td>\n",
              "      <td>Windows 10 Home</td>\n",
              "      <td>15s-du1044tu Thin and Light Laptop nan</td>\n",
              "    </tr>\n",
              "    <tr>\n",
              "      <th>12</th>\n",
              "      <td>4.1</td>\n",
              "      <td>33990</td>\n",
              "      <td>Lenovo Ideapad S145 Core i3 10th Gen</td>\n",
              "      <td>4 GB</td>\n",
              "      <td>256 GB SSD</td>\n",
              "      <td>Windows 10 Home</td>\n",
              "      <td>S145-15IIL Thin and Light Lap... nan</td>\n",
              "    </tr>\n",
              "    <tr>\n",
              "      <th>20</th>\n",
              "      <td>4.0</td>\n",
              "      <td>23990</td>\n",
              "      <td>HP 15s Dual Core 3020e</td>\n",
              "      <td>4 GB</td>\n",
              "      <td>1 TB HDD</td>\n",
              "      <td>Windows 10 Home</td>\n",
              "      <td>15s-GY0003AU Thin and Light Laptop nan</td>\n",
              "    </tr>\n",
              "  </tbody>\n",
              "</table>\n",
              "</div>"
            ],
            "text/plain": [
              "    rating  price  ...               OS                               Other_Info\n",
              "2      4.0  27990  ...  Windows 10 Home                    S145-15API Laptop nan\n",
              "3      4.2  36990  ...  Windows 10 Home   14s-cf3074TU Thin and Light Laptop nan\n",
              "6      4.0  23990  ...  Windows 10 Home   15s-du1044tu Thin and Light Laptop nan\n",
              "12     4.1  33990  ...  Windows 10 Home     S145-15IIL Thin and Light Lap... nan\n",
              "20     4.0  23990  ...  Windows 10 Home   15s-GY0003AU Thin and Light Laptop nan\n",
              "\n",
              "[5 rows x 7 columns]"
            ]
          },
          "metadata": {
            "tags": []
          },
          "execution_count": 31
        }
      ]
    },
    {
      "cell_type": "markdown",
      "metadata": {
        "id": "kuuyuKLgw84D"
      },
      "source": [
        "---------\n",
        "\n",
        "### Visualización de los datos"
      ]
    },
    {
      "cell_type": "code",
      "metadata": {
        "id": "7vKVZTLew84D",
        "colab": {
          "base_uri": "https://localhost:8080/",
          "height": 768
        },
        "outputId": "3add2332-8fe6-48c9-b950-0e2fc861e951"
      },
      "source": [
        "laptop_df"
      ],
      "execution_count": 32,
      "outputs": [
        {
          "output_type": "execute_result",
          "data": {
            "text/html": [
              "<div>\n",
              "<style scoped>\n",
              "    .dataframe tbody tr th:only-of-type {\n",
              "        vertical-align: middle;\n",
              "    }\n",
              "\n",
              "    .dataframe tbody tr th {\n",
              "        vertical-align: top;\n",
              "    }\n",
              "\n",
              "    .dataframe thead th {\n",
              "        text-align: right;\n",
              "    }\n",
              "</style>\n",
              "<table border=\"1\" class=\"dataframe\">\n",
              "  <thead>\n",
              "    <tr style=\"text-align: right;\">\n",
              "      <th></th>\n",
              "      <th>rating</th>\n",
              "      <th>price</th>\n",
              "      <th>model</th>\n",
              "      <th>RAM</th>\n",
              "      <th>Storage</th>\n",
              "      <th>OS</th>\n",
              "      <th>Other_Info</th>\n",
              "    </tr>\n",
              "  </thead>\n",
              "  <tbody>\n",
              "    <tr>\n",
              "      <th>0</th>\n",
              "      <td>4.0</td>\n",
              "      <td>62990</td>\n",
              "      <td>Vaio SE Series Core i5 8th Gen</td>\n",
              "      <td>8 GB</td>\n",
              "      <td>512 GB SSD</td>\n",
              "      <td>Windows 10 Home</td>\n",
              "      <td>NP14V1IN004P Thin and Light Laptop nan</td>\n",
              "    </tr>\n",
              "    <tr>\n",
              "      <th>1</th>\n",
              "      <td>4.2</td>\n",
              "      <td>51490</td>\n",
              "      <td>HP Pavilion Gaming Ryzen 5 Quad Core 3550H</td>\n",
              "      <td>8 GB</td>\n",
              "      <td>1 TB HDD</td>\n",
              "      <td>Windows 10 Home</td>\n",
              "      <td>nan 4 GB Graphics/NVIDIA GeFor...</td>\n",
              "    </tr>\n",
              "    <tr>\n",
              "      <th>2</th>\n",
              "      <td>4.0</td>\n",
              "      <td>27990</td>\n",
              "      <td>Lenovo Ideapad S145 Ryzen 3 Dual Core 3200U</td>\n",
              "      <td>4 GB</td>\n",
              "      <td>1 TB HDD</td>\n",
              "      <td>Windows 10 Home</td>\n",
              "      <td>S145-15API Laptop nan</td>\n",
              "    </tr>\n",
              "    <tr>\n",
              "      <th>3</th>\n",
              "      <td>4.2</td>\n",
              "      <td>36990</td>\n",
              "      <td>HP 14s Core i3 10th Gen</td>\n",
              "      <td>8 GB</td>\n",
              "      <td>256 GB SSD</td>\n",
              "      <td>Windows 10 Home</td>\n",
              "      <td>14s-cf3074TU Thin and Light Laptop nan</td>\n",
              "    </tr>\n",
              "    <tr>\n",
              "      <th>4</th>\n",
              "      <td>4.2</td>\n",
              "      <td>42990</td>\n",
              "      <td>Lenovo Ideapad S145 Ryzen 5 Quad Core 3500U</td>\n",
              "      <td>8 GB</td>\n",
              "      <td>512 GB SSD</td>\n",
              "      <td>Windows 10 Home</td>\n",
              "      <td>S145-15API Laptop nan</td>\n",
              "    </tr>\n",
              "    <tr>\n",
              "      <th>5</th>\n",
              "      <td>4.5</td>\n",
              "      <td>55990</td>\n",
              "      <td>acer Aspire 7 Ryzen 5 Hexa Core 5500U</td>\n",
              "      <td>8 GB</td>\n",
              "      <td>512 GB SSD</td>\n",
              "      <td>Windows 10 Home</td>\n",
              "      <td>nan 4 GB Graphics/NVIDIA GeForce ...</td>\n",
              "    </tr>\n",
              "    <tr>\n",
              "      <th>6</th>\n",
              "      <td>4.0</td>\n",
              "      <td>23990</td>\n",
              "      <td>HP 15s Celeron Dual Core</td>\n",
              "      <td>4 GB</td>\n",
              "      <td>1 TB HDD</td>\n",
              "      <td>Windows 10 Home</td>\n",
              "      <td>15s-du1044tu Thin and Light Laptop nan</td>\n",
              "    </tr>\n",
              "    <tr>\n",
              "      <th>7</th>\n",
              "      <td>4.5</td>\n",
              "      <td>54990</td>\n",
              "      <td>MSI GF63 Thin Core i5 9th Gen</td>\n",
              "      <td>8 GB</td>\n",
              "      <td>512 GB SSD</td>\n",
              "      <td>Windows 10 Home</td>\n",
              "      <td>nan 4 GB Graphics/NVIDIA GeForce GTX 1650...</td>\n",
              "    </tr>\n",
              "    <tr>\n",
              "      <th>8</th>\n",
              "      <td>4.7</td>\n",
              "      <td>116990</td>\n",
              "      <td>acer Predator Helios 300 Core i7 10th Gen</td>\n",
              "      <td>16 GB</td>\n",
              "      <td>1 TB HDD</td>\n",
              "      <td>256 GB SSD</td>\n",
              "      <td>nan Windows 10 Home/6 GB Graphics/N...</td>\n",
              "    </tr>\n",
              "    <tr>\n",
              "      <th>9</th>\n",
              "      <td>4.4</td>\n",
              "      <td>50990</td>\n",
              "      <td>acer Aspire 7 Ryzen 5 Quad Core 3550H</td>\n",
              "      <td>8 GB</td>\n",
              "      <td>512 GB SSD</td>\n",
              "      <td>Windows 10 Home</td>\n",
              "      <td>nan 4 GB Graphics/NVIDIA GeForce ...</td>\n",
              "    </tr>\n",
              "    <tr>\n",
              "      <th>10</th>\n",
              "      <td>4.6</td>\n",
              "      <td>66990</td>\n",
              "      <td>Lenovo Legion 5 Ryzen 5 Hexa Core 4600H</td>\n",
              "      <td>8 GB</td>\n",
              "      <td>512 GB SSD</td>\n",
              "      <td>Windows 10 Home</td>\n",
              "      <td>nan 4 GB Graphics/NVIDIA GeForc...</td>\n",
              "    </tr>\n",
              "    <tr>\n",
              "      <th>11</th>\n",
              "      <td>4.5</td>\n",
              "      <td>59990</td>\n",
              "      <td>Lenovo Ideapad Gaming 3 Ryzen 5 Hexa Core 4600H</td>\n",
              "      <td>8 GB</td>\n",
              "      <td>1 TB HDD</td>\n",
              "      <td>256 GB SSD</td>\n",
              "      <td>nan Windows 10 Home/4 GB Graph...</td>\n",
              "    </tr>\n",
              "    <tr>\n",
              "      <th>12</th>\n",
              "      <td>4.1</td>\n",
              "      <td>33990</td>\n",
              "      <td>Lenovo Ideapad S145 Core i3 10th Gen</td>\n",
              "      <td>4 GB</td>\n",
              "      <td>256 GB SSD</td>\n",
              "      <td>Windows 10 Home</td>\n",
              "      <td>S145-15IIL Thin and Light Lap... nan</td>\n",
              "    </tr>\n",
              "    <tr>\n",
              "      <th>13</th>\n",
              "      <td>4.5</td>\n",
              "      <td>59990</td>\n",
              "      <td>HP Pavilion Gaming Ryzen 5 Quad Core 3550H</td>\n",
              "      <td>8 GB</td>\n",
              "      <td>512 GB SSD</td>\n",
              "      <td>Windows 10 Home</td>\n",
              "      <td>nan 4 GB Graphics/NVIDIA GeF...</td>\n",
              "    </tr>\n",
              "    <tr>\n",
              "      <th>14</th>\n",
              "      <td>4.4</td>\n",
              "      <td>54990</td>\n",
              "      <td>acer Aspire 7 Core i5 9th Gen</td>\n",
              "      <td>8 GB</td>\n",
              "      <td>512 GB SSD</td>\n",
              "      <td>Windows 10 Home</td>\n",
              "      <td>nan 4 GB Graphics/NVIDIA GeForce GTX 1650...</td>\n",
              "    </tr>\n",
              "    <tr>\n",
              "      <th>15</th>\n",
              "      <td>4.4</td>\n",
              "      <td>49990</td>\n",
              "      <td>HP Pavilion x360 Core i3 10th Gen</td>\n",
              "      <td>8 GB</td>\n",
              "      <td>512 GB SSD</td>\n",
              "      <td>Windows 10 Home</td>\n",
              "      <td>14-dh1178TU 2 in 1 Laptop nan</td>\n",
              "    </tr>\n",
              "    <tr>\n",
              "      <th>16</th>\n",
              "      <td>4.7</td>\n",
              "      <td>79990</td>\n",
              "      <td>HP Pavilion Core i7 10th Gen</td>\n",
              "      <td>16 GB + 32 GB Optane</td>\n",
              "      <td>512 GB SSD</td>\n",
              "      <td>Windows 10 Home</td>\n",
              "      <td>nan 4 GB Graphics/NVIDIA G...</td>\n",
              "    </tr>\n",
              "    <tr>\n",
              "      <th>17</th>\n",
              "      <td>4.2</td>\n",
              "      <td>96990</td>\n",
              "      <td>ASUS ZenBook 14 Core i7 11th Gen</td>\n",
              "      <td>16 GB</td>\n",
              "      <td>512 GB SSD</td>\n",
              "      <td>Windows 10 Home</td>\n",
              "      <td>UX425EA-BM701TS Thin and Light L... nan</td>\n",
              "    </tr>\n",
              "    <tr>\n",
              "      <th>18</th>\n",
              "      <td>4.4</td>\n",
              "      <td>45990</td>\n",
              "      <td>HP Pavilion x360 Core i3 10th Gen</td>\n",
              "      <td>8 GB</td>\n",
              "      <td>256 GB SSD</td>\n",
              "      <td>Windows 10 Home</td>\n",
              "      <td>14-dh1181TU 2 in 1 Laptop nan</td>\n",
              "    </tr>\n",
              "    <tr>\n",
              "      <th>19</th>\n",
              "      <td>4.6</td>\n",
              "      <td>121990</td>\n",
              "      <td>HP Omen 15 Ryzen 7 Octa Core 4800H</td>\n",
              "      <td>16 GB</td>\n",
              "      <td>1 TB SSD</td>\n",
              "      <td>Windows 10 Home</td>\n",
              "      <td>nan 6 GB Graphics/NVIDIA GeForce RTX ...</td>\n",
              "    </tr>\n",
              "    <tr>\n",
              "      <th>20</th>\n",
              "      <td>4.0</td>\n",
              "      <td>23990</td>\n",
              "      <td>HP 15s Dual Core 3020e</td>\n",
              "      <td>4 GB</td>\n",
              "      <td>1 TB HDD</td>\n",
              "      <td>Windows 10 Home</td>\n",
              "      <td>15s-GY0003AU Thin and Light Laptop nan</td>\n",
              "    </tr>\n",
              "    <tr>\n",
              "      <th>21</th>\n",
              "      <td>4.3</td>\n",
              "      <td>43999</td>\n",
              "      <td>Mi Notebook 14 Core i5 10th Gen</td>\n",
              "      <td>8 GB</td>\n",
              "      <td>256 GB SSD</td>\n",
              "      <td>Windows 10 Home</td>\n",
              "      <td>JYU4298IN Thin and Light Laptop nan</td>\n",
              "    </tr>\n",
              "    <tr>\n",
              "      <th>22</th>\n",
              "      <td>4.4</td>\n",
              "      <td>49990</td>\n",
              "      <td>ASUS VivoBook 14 Ryzen 5 Hexa Core 4500U</td>\n",
              "      <td>8 GB</td>\n",
              "      <td>512 GB SSD</td>\n",
              "      <td>Windows 10 Home</td>\n",
              "      <td>M413IA-EK584T Thin and Li... nan</td>\n",
              "    </tr>\n",
              "    <tr>\n",
              "      <th>23</th>\n",
              "      <td>4.5</td>\n",
              "      <td>44990</td>\n",
              "      <td>ASUS VivoBook Ultra 14 Core i3 11th Gen</td>\n",
              "      <td>8 GB</td>\n",
              "      <td>512 GB SSD</td>\n",
              "      <td>Windows 10 Home</td>\n",
              "      <td>X413EA-EB322TS Thin and Li... nan</td>\n",
              "    </tr>\n",
              "  </tbody>\n",
              "</table>\n",
              "</div>"
            ],
            "text/plain": [
              "    rating  ...                                    Other_Info\n",
              "0      4.0  ...        NP14V1IN004P Thin and Light Laptop nan\n",
              "1      4.2  ...             nan 4 GB Graphics/NVIDIA GeFor...\n",
              "2      4.0  ...                         S145-15API Laptop nan\n",
              "3      4.2  ...        14s-cf3074TU Thin and Light Laptop nan\n",
              "4      4.2  ...                         S145-15API Laptop nan\n",
              "5      4.5  ...          nan 4 GB Graphics/NVIDIA GeForce ...\n",
              "6      4.0  ...        15s-du1044tu Thin and Light Laptop nan\n",
              "7      4.5  ...  nan 4 GB Graphics/NVIDIA GeForce GTX 1650...\n",
              "8      4.7  ...        nan Windows 10 Home/6 GB Graphics/N...\n",
              "9      4.4  ...          nan 4 GB Graphics/NVIDIA GeForce ...\n",
              "10     4.6  ...            nan 4 GB Graphics/NVIDIA GeForc...\n",
              "11     4.5  ...             nan Windows 10 Home/4 GB Graph...\n",
              "12     4.1  ...          S145-15IIL Thin and Light Lap... nan\n",
              "13     4.5  ...               nan 4 GB Graphics/NVIDIA GeF...\n",
              "14     4.4  ...  nan 4 GB Graphics/NVIDIA GeForce GTX 1650...\n",
              "15     4.4  ...                 14-dh1178TU 2 in 1 Laptop nan\n",
              "16     4.7  ...                 nan 4 GB Graphics/NVIDIA G...\n",
              "17     4.2  ...       UX425EA-BM701TS Thin and Light L... nan\n",
              "18     4.4  ...                 14-dh1181TU 2 in 1 Laptop nan\n",
              "19     4.6  ...      nan 6 GB Graphics/NVIDIA GeForce RTX ...\n",
              "20     4.0  ...        15s-GY0003AU Thin and Light Laptop nan\n",
              "21     4.3  ...           JYU4298IN Thin and Light Laptop nan\n",
              "22     4.4  ...              M413IA-EK584T Thin and Li... nan\n",
              "23     4.5  ...             X413EA-EB322TS Thin and Li... nan\n",
              "\n",
              "[24 rows x 7 columns]"
            ]
          },
          "metadata": {
            "tags": []
          },
          "execution_count": 32
        }
      ]
    },
    {
      "cell_type": "markdown",
      "metadata": {
        "id": "UJ9VeEGxw84D"
      },
      "source": [
        "Realizaremos una gráfica de barras de precio vs rating"
      ]
    },
    {
      "cell_type": "code",
      "metadata": {
        "id": "LM70laUVw84D",
        "colab": {
          "base_uri": "https://localhost:8080/",
          "height": 645
        },
        "outputId": "134a3c85-6b12-4961-80d3-309c637b3f1a"
      },
      "source": [
        "laptop_df.plot.bar('rating', 'price', title='Calificación vs Precio', figsize=(20, 10))"
      ],
      "execution_count": 33,
      "outputs": [
        {
          "output_type": "execute_result",
          "data": {
            "text/plain": [
              "<matplotlib.axes._subplots.AxesSubplot at 0x7efca1def910>"
            ]
          },
          "metadata": {
            "tags": []
          },
          "execution_count": 33
        },
        {
          "output_type": "display_data",
          "data": {
            "image/png": "[encoded data removed]",
            "text/plain": [
              "<Figure size 1440x720 with 1 Axes>"
            ]
          },
          "metadata": {
            "tags": [],
            "needs_background": "light"
          }
        }
      ]
    },
    {
      "cell_type": "markdown",
      "metadata": {
        "id": "c1fJ4NlZw84E"
      },
      "source": [
        "Podemos concluir a partir de aquí que los productos con precios más altos tienen calificaciones más altas hasta cierto punto."
      ]
    },
    {
      "cell_type": "code",
      "metadata": {
        "id": "PBaXPbj4w84D",
        "colab": {
          "base_uri": "https://localhost:8080/",
          "height": 299
        },
        "outputId": "43498e94-31ec-4f4f-ab7b-8af2f9f5a39a"
      },
      "source": [
        "laptop_df.plot.box(x='rating', title='Box plot', vert=False)"
      ],
      "execution_count": 34,
      "outputs": [
        {
          "output_type": "execute_result",
          "data": {
            "text/plain": [
              "<matplotlib.axes._subplots.AxesSubplot at 0x7efc9a7a0d10>"
            ]
          },
          "metadata": {
            "tags": []
          },
          "execution_count": 34
        },
        {
          "output_type": "display_data",
          "data": {
            "image/png": "[encoded data removed]",
            "text/plain": [
              "<Figure size 432x288 with 1 Axes>"
            ]
          },
          "metadata": {
            "tags": [],
            "needs_background": "light"
          }
        }
      ]
    },
    {
      "cell_type": "markdown",
      "metadata": {
        "id": "SjelsjHMw84E"
      },
      "source": [
        "## ¿Les ha salido algún discordante visual a ustedes?"
      ]
    },
    {
      "cell_type": "code",
      "metadata": {
        "id": "N3XhUZLVw84E",
        "colab": {
          "base_uri": "https://localhost:8080/",
          "height": 108
        },
        "outputId": "69738ed8-0107-4c9f-c60d-4a86241a9e73"
      },
      "source": [
        "laptop_df[laptop_df['OS'].str.contains('SSD')]"
      ],
      "execution_count": 35,
      "outputs": [
        {
          "output_type": "execute_result",
          "data": {
            "text/html": [
              "<div>\n",
              "<style scoped>\n",
              "    .dataframe tbody tr th:only-of-type {\n",
              "        vertical-align: middle;\n",
              "    }\n",
              "\n",
              "    .dataframe tbody tr th {\n",
              "        vertical-align: top;\n",
              "    }\n",
              "\n",
              "    .dataframe thead th {\n",
              "        text-align: right;\n",
              "    }\n",
              "</style>\n",
              "<table border=\"1\" class=\"dataframe\">\n",
              "  <thead>\n",
              "    <tr style=\"text-align: right;\">\n",
              "      <th></th>\n",
              "      <th>rating</th>\n",
              "      <th>price</th>\n",
              "      <th>model</th>\n",
              "      <th>RAM</th>\n",
              "      <th>Storage</th>\n",
              "      <th>OS</th>\n",
              "      <th>Other_Info</th>\n",
              "    </tr>\n",
              "  </thead>\n",
              "  <tbody>\n",
              "    <tr>\n",
              "      <th>8</th>\n",
              "      <td>4.7</td>\n",
              "      <td>116990</td>\n",
              "      <td>acer Predator Helios 300 Core i7 10th Gen</td>\n",
              "      <td>16 GB</td>\n",
              "      <td>1 TB HDD</td>\n",
              "      <td>256 GB SSD</td>\n",
              "      <td>nan Windows 10 Home/6 GB Graphics/N...</td>\n",
              "    </tr>\n",
              "    <tr>\n",
              "      <th>11</th>\n",
              "      <td>4.5</td>\n",
              "      <td>59990</td>\n",
              "      <td>Lenovo Ideapad Gaming 3 Ryzen 5 Hexa Core 4600H</td>\n",
              "      <td>8 GB</td>\n",
              "      <td>1 TB HDD</td>\n",
              "      <td>256 GB SSD</td>\n",
              "      <td>nan Windows 10 Home/4 GB Graph...</td>\n",
              "    </tr>\n",
              "  </tbody>\n",
              "</table>\n",
              "</div>"
            ],
            "text/plain": [
              "    rating   price  ...          OS                              Other_Info\n",
              "8      4.7  116990  ...  256 GB SSD  nan Windows 10 Home/6 GB Graphics/N...\n",
              "11     4.5   59990  ...  256 GB SSD       nan Windows 10 Home/4 GB Graph...\n",
              "\n",
              "[2 rows x 7 columns]"
            ]
          },
          "metadata": {
            "tags": []
          },
          "execution_count": 35
        }
      ]
    },
    {
      "cell_type": "markdown",
      "metadata": {
        "id": "hAFSSZlTw84E"
      },
      "source": [
        "### ¿Para ustedes, cuáles fueron las computadoras más caras?"
      ]
    },
    {
      "cell_type": "code",
      "metadata": {
        "id": "rTSYNNiWw84F",
        "colab": {
          "base_uri": "https://localhost:8080/",
          "height": 768
        },
        "outputId": "07b40c38-3414-4c81-aa7b-6043507a62f2"
      },
      "source": [
        "laptop_df.sort_values('price', ascending=False)"
      ],
      "execution_count": 36,
      "outputs": [
        {
          "output_type": "execute_result",
          "data": {
            "text/html": [
              "<div>\n",
              "<style scoped>\n",
              "    .dataframe tbody tr th:only-of-type {\n",
              "        vertical-align: middle;\n",
              "    }\n",
              "\n",
              "    .dataframe tbody tr th {\n",
              "        vertical-align: top;\n",
              "    }\n",
              "\n",
              "    .dataframe thead th {\n",
              "        text-align: right;\n",
              "    }\n",
              "</style>\n",
              "<table border=\"1\" class=\"dataframe\">\n",
              "  <thead>\n",
              "    <tr style=\"text-align: right;\">\n",
              "      <th></th>\n",
              "      <th>rating</th>\n",
              "      <th>price</th>\n",
              "      <th>model</th>\n",
              "      <th>RAM</th>\n",
              "      <th>Storage</th>\n",
              "      <th>OS</th>\n",
              "      <th>Other_Info</th>\n",
              "    </tr>\n",
              "  </thead>\n",
              "  <tbody>\n",
              "    <tr>\n",
              "      <th>19</th>\n",
              "      <td>4.6</td>\n",
              "      <td>121990</td>\n",
              "      <td>HP Omen 15 Ryzen 7 Octa Core 4800H</td>\n",
              "      <td>16 GB</td>\n",
              "      <td>1 TB SSD</td>\n",
              "      <td>Windows 10 Home</td>\n",
              "      <td>nan 6 GB Graphics/NVIDIA GeForce RTX ...</td>\n",
              "    </tr>\n",
              "    <tr>\n",
              "      <th>8</th>\n",
              "      <td>4.7</td>\n",
              "      <td>116990</td>\n",
              "      <td>acer Predator Helios 300 Core i7 10th Gen</td>\n",
              "      <td>16 GB</td>\n",
              "      <td>1 TB HDD</td>\n",
              "      <td>256 GB SSD</td>\n",
              "      <td>nan Windows 10 Home/6 GB Graphics/N...</td>\n",
              "    </tr>\n",
              "    <tr>\n",
              "      <th>17</th>\n",
              "      <td>4.2</td>\n",
              "      <td>96990</td>\n",
              "      <td>ASUS ZenBook 14 Core i7 11th Gen</td>\n",
              "      <td>16 GB</td>\n",
              "      <td>512 GB SSD</td>\n",
              "      <td>Windows 10 Home</td>\n",
              "      <td>UX425EA-BM701TS Thin and Light L... nan</td>\n",
              "    </tr>\n",
              "    <tr>\n",
              "      <th>16</th>\n",
              "      <td>4.7</td>\n",
              "      <td>79990</td>\n",
              "      <td>HP Pavilion Core i7 10th Gen</td>\n",
              "      <td>16 GB + 32 GB Optane</td>\n",
              "      <td>512 GB SSD</td>\n",
              "      <td>Windows 10 Home</td>\n",
              "      <td>nan 4 GB Graphics/NVIDIA G...</td>\n",
              "    </tr>\n",
              "    <tr>\n",
              "      <th>10</th>\n",
              "      <td>4.6</td>\n",
              "      <td>66990</td>\n",
              "      <td>Lenovo Legion 5 Ryzen 5 Hexa Core 4600H</td>\n",
              "      <td>8 GB</td>\n",
              "      <td>512 GB SSD</td>\n",
              "      <td>Windows 10 Home</td>\n",
              "      <td>nan 4 GB Graphics/NVIDIA GeForc...</td>\n",
              "    </tr>\n",
              "    <tr>\n",
              "      <th>0</th>\n",
              "      <td>4.0</td>\n",
              "      <td>62990</td>\n",
              "      <td>Vaio SE Series Core i5 8th Gen</td>\n",
              "      <td>8 GB</td>\n",
              "      <td>512 GB SSD</td>\n",
              "      <td>Windows 10 Home</td>\n",
              "      <td>NP14V1IN004P Thin and Light Laptop nan</td>\n",
              "    </tr>\n",
              "    <tr>\n",
              "      <th>11</th>\n",
              "      <td>4.5</td>\n",
              "      <td>59990</td>\n",
              "      <td>Lenovo Ideapad Gaming 3 Ryzen 5 Hexa Core 4600H</td>\n",
              "      <td>8 GB</td>\n",
              "      <td>1 TB HDD</td>\n",
              "      <td>256 GB SSD</td>\n",
              "      <td>nan Windows 10 Home/4 GB Graph...</td>\n",
              "    </tr>\n",
              "    <tr>\n",
              "      <th>13</th>\n",
              "      <td>4.5</td>\n",
              "      <td>59990</td>\n",
              "      <td>HP Pavilion Gaming Ryzen 5 Quad Core 3550H</td>\n",
              "      <td>8 GB</td>\n",
              "      <td>512 GB SSD</td>\n",
              "      <td>Windows 10 Home</td>\n",
              "      <td>nan 4 GB Graphics/NVIDIA GeF...</td>\n",
              "    </tr>\n",
              "    <tr>\n",
              "      <th>5</th>\n",
              "      <td>4.5</td>\n",
              "      <td>55990</td>\n",
              "      <td>acer Aspire 7 Ryzen 5 Hexa Core 5500U</td>\n",
              "      <td>8 GB</td>\n",
              "      <td>512 GB SSD</td>\n",
              "      <td>Windows 10 Home</td>\n",
              "      <td>nan 4 GB Graphics/NVIDIA GeForce ...</td>\n",
              "    </tr>\n",
              "    <tr>\n",
              "      <th>7</th>\n",
              "      <td>4.5</td>\n",
              "      <td>54990</td>\n",
              "      <td>MSI GF63 Thin Core i5 9th Gen</td>\n",
              "      <td>8 GB</td>\n",
              "      <td>512 GB SSD</td>\n",
              "      <td>Windows 10 Home</td>\n",
              "      <td>nan 4 GB Graphics/NVIDIA GeForce GTX 1650...</td>\n",
              "    </tr>\n",
              "    <tr>\n",
              "      <th>14</th>\n",
              "      <td>4.4</td>\n",
              "      <td>54990</td>\n",
              "      <td>acer Aspire 7 Core i5 9th Gen</td>\n",
              "      <td>8 GB</td>\n",
              "      <td>512 GB SSD</td>\n",
              "      <td>Windows 10 Home</td>\n",
              "      <td>nan 4 GB Graphics/NVIDIA GeForce GTX 1650...</td>\n",
              "    </tr>\n",
              "    <tr>\n",
              "      <th>1</th>\n",
              "      <td>4.2</td>\n",
              "      <td>51490</td>\n",
              "      <td>HP Pavilion Gaming Ryzen 5 Quad Core 3550H</td>\n",
              "      <td>8 GB</td>\n",
              "      <td>1 TB HDD</td>\n",
              "      <td>Windows 10 Home</td>\n",
              "      <td>nan 4 GB Graphics/NVIDIA GeFor...</td>\n",
              "    </tr>\n",
              "    <tr>\n",
              "      <th>9</th>\n",
              "      <td>4.4</td>\n",
              "      <td>50990</td>\n",
              "      <td>acer Aspire 7 Ryzen 5 Quad Core 3550H</td>\n",
              "      <td>8 GB</td>\n",
              "      <td>512 GB SSD</td>\n",
              "      <td>Windows 10 Home</td>\n",
              "      <td>nan 4 GB Graphics/NVIDIA GeForce ...</td>\n",
              "    </tr>\n",
              "    <tr>\n",
              "      <th>22</th>\n",
              "      <td>4.4</td>\n",
              "      <td>49990</td>\n",
              "      <td>ASUS VivoBook 14 Ryzen 5 Hexa Core 4500U</td>\n",
              "      <td>8 GB</td>\n",
              "      <td>512 GB SSD</td>\n",
              "      <td>Windows 10 Home</td>\n",
              "      <td>M413IA-EK584T Thin and Li... nan</td>\n",
              "    </tr>\n",
              "    <tr>\n",
              "      <th>15</th>\n",
              "      <td>4.4</td>\n",
              "      <td>49990</td>\n",
              "      <td>HP Pavilion x360 Core i3 10th Gen</td>\n",
              "      <td>8 GB</td>\n",
              "      <td>512 GB SSD</td>\n",
              "      <td>Windows 10 Home</td>\n",
              "      <td>14-dh1178TU 2 in 1 Laptop nan</td>\n",
              "    </tr>\n",
              "    <tr>\n",
              "      <th>18</th>\n",
              "      <td>4.4</td>\n",
              "      <td>45990</td>\n",
              "      <td>HP Pavilion x360 Core i3 10th Gen</td>\n",
              "      <td>8 GB</td>\n",
              "      <td>256 GB SSD</td>\n",
              "      <td>Windows 10 Home</td>\n",
              "      <td>14-dh1181TU 2 in 1 Laptop nan</td>\n",
              "    </tr>\n",
              "    <tr>\n",
              "      <th>23</th>\n",
              "      <td>4.5</td>\n",
              "      <td>44990</td>\n",
              "      <td>ASUS VivoBook Ultra 14 Core i3 11th Gen</td>\n",
              "      <td>8 GB</td>\n",
              "      <td>512 GB SSD</td>\n",
              "      <td>Windows 10 Home</td>\n",
              "      <td>X413EA-EB322TS Thin and Li... nan</td>\n",
              "    </tr>\n",
              "    <tr>\n",
              "      <th>21</th>\n",
              "      <td>4.3</td>\n",
              "      <td>43999</td>\n",
              "      <td>Mi Notebook 14 Core i5 10th Gen</td>\n",
              "      <td>8 GB</td>\n",
              "      <td>256 GB SSD</td>\n",
              "      <td>Windows 10 Home</td>\n",
              "      <td>JYU4298IN Thin and Light Laptop nan</td>\n",
              "    </tr>\n",
              "    <tr>\n",
              "      <th>4</th>\n",
              "      <td>4.2</td>\n",
              "      <td>42990</td>\n",
              "      <td>Lenovo Ideapad S145 Ryzen 5 Quad Core 3500U</td>\n",
              "      <td>8 GB</td>\n",
              "      <td>512 GB SSD</td>\n",
              "      <td>Windows 10 Home</td>\n",
              "      <td>S145-15API Laptop nan</td>\n",
              "    </tr>\n",
              "    <tr>\n",
              "      <th>3</th>\n",
              "      <td>4.2</td>\n",
              "      <td>36990</td>\n",
              "      <td>HP 14s Core i3 10th Gen</td>\n",
              "      <td>8 GB</td>\n",
              "      <td>256 GB SSD</td>\n",
              "      <td>Windows 10 Home</td>\n",
              "      <td>14s-cf3074TU Thin and Light Laptop nan</td>\n",
              "    </tr>\n",
              "    <tr>\n",
              "      <th>12</th>\n",
              "      <td>4.1</td>\n",
              "      <td>33990</td>\n",
              "      <td>Lenovo Ideapad S145 Core i3 10th Gen</td>\n",
              "      <td>4 GB</td>\n",
              "      <td>256 GB SSD</td>\n",
              "      <td>Windows 10 Home</td>\n",
              "      <td>S145-15IIL Thin and Light Lap... nan</td>\n",
              "    </tr>\n",
              "    <tr>\n",
              "      <th>2</th>\n",
              "      <td>4.0</td>\n",
              "      <td>27990</td>\n",
              "      <td>Lenovo Ideapad S145 Ryzen 3 Dual Core 3200U</td>\n",
              "      <td>4 GB</td>\n",
              "      <td>1 TB HDD</td>\n",
              "      <td>Windows 10 Home</td>\n",
              "      <td>S145-15API Laptop nan</td>\n",
              "    </tr>\n",
              "    <tr>\n",
              "      <th>6</th>\n",
              "      <td>4.0</td>\n",
              "      <td>23990</td>\n",
              "      <td>HP 15s Celeron Dual Core</td>\n",
              "      <td>4 GB</td>\n",
              "      <td>1 TB HDD</td>\n",
              "      <td>Windows 10 Home</td>\n",
              "      <td>15s-du1044tu Thin and Light Laptop nan</td>\n",
              "    </tr>\n",
              "    <tr>\n",
              "      <th>20</th>\n",
              "      <td>4.0</td>\n",
              "      <td>23990</td>\n",
              "      <td>HP 15s Dual Core 3020e</td>\n",
              "      <td>4 GB</td>\n",
              "      <td>1 TB HDD</td>\n",
              "      <td>Windows 10 Home</td>\n",
              "      <td>15s-GY0003AU Thin and Light Laptop nan</td>\n",
              "    </tr>\n",
              "  </tbody>\n",
              "</table>\n",
              "</div>"
            ],
            "text/plain": [
              "    rating  ...                                    Other_Info\n",
              "19     4.6  ...      nan 6 GB Graphics/NVIDIA GeForce RTX ...\n",
              "8      4.7  ...        nan Windows 10 Home/6 GB Graphics/N...\n",
              "17     4.2  ...       UX425EA-BM701TS Thin and Light L... nan\n",
              "16     4.7  ...                 nan 4 GB Graphics/NVIDIA G...\n",
              "10     4.6  ...            nan 4 GB Graphics/NVIDIA GeForc...\n",
              "0      4.0  ...        NP14V1IN004P Thin and Light Laptop nan\n",
              "11     4.5  ...             nan Windows 10 Home/4 GB Graph...\n",
              "13     4.5  ...               nan 4 GB Graphics/NVIDIA GeF...\n",
              "5      4.5  ...          nan 4 GB Graphics/NVIDIA GeForce ...\n",
              "7      4.5  ...  nan 4 GB Graphics/NVIDIA GeForce GTX 1650...\n",
              "14     4.4  ...  nan 4 GB Graphics/NVIDIA GeForce GTX 1650...\n",
              "1      4.2  ...             nan 4 GB Graphics/NVIDIA GeFor...\n",
              "9      4.4  ...          nan 4 GB Graphics/NVIDIA GeForce ...\n",
              "22     4.4  ...              M413IA-EK584T Thin and Li... nan\n",
              "15     4.4  ...                 14-dh1178TU 2 in 1 Laptop nan\n",
              "18     4.4  ...                 14-dh1181TU 2 in 1 Laptop nan\n",
              "23     4.5  ...             X413EA-EB322TS Thin and Li... nan\n",
              "21     4.3  ...           JYU4298IN Thin and Light Laptop nan\n",
              "4      4.2  ...                         S145-15API Laptop nan\n",
              "3      4.2  ...        14s-cf3074TU Thin and Light Laptop nan\n",
              "12     4.1  ...          S145-15IIL Thin and Light Lap... nan\n",
              "2      4.0  ...                         S145-15API Laptop nan\n",
              "6      4.0  ...        15s-du1044tu Thin and Light Laptop nan\n",
              "20     4.0  ...        15s-GY0003AU Thin and Light Laptop nan\n",
              "\n",
              "[24 rows x 7 columns]"
            ]
          },
          "metadata": {
            "tags": []
          },
          "execution_count": 36
        }
      ]
    },
    {
      "cell_type": "markdown",
      "metadata": {
        "id": "PLnS3pCWw84F"
      },
      "source": [
        "----\n",
        "----\n",
        "----\n",
        "\n",
        "<h1><center>Monte Carlo</center><h1>\n",
        "\n",
        "## ¿Por qué la casa siempre gana?\n",
        "\n",
        "¿Cómo ganan dinero los casinos? El truco es sencillo: \"Cuanto más juegas, más ganan\". Echemos un vistazo a cómo funciona esto con un ejemplo simple de simulación de Monte Carlo.\n",
        "\n",
        "----\n",
        "\n",
        "Considere un juego imaginario en el que un jugador tiene que elegir una ficha de una bolsa de fichas.\n",
        "\n",
        "Reglas:\n",
        " * Hay fichas que contienen números que van del 1 al 100 en una bolsa.\n",
        " * Los usuarios pueden apostar en fichas pares o impares.\n",
        " * En este juego, el 10 y el 11 son números especiales. Si apostamos a pares, entonces 10 se contará como un número impar, y si apostamos a las probabilidades, entonces 11 se contará como un número par.\n",
        " * Si apostamos a números pares y obtenemos 10, perdemos.\n",
        " * Si apostamos a números impares y obtenemos 11, perdemos."
      ]
    },
    {
      "cell_type": "markdown",
      "metadata": {
        "id": "93DNz-Ozw84F"
      },
      "source": [
        "Si apostamos por las probabilidades, la probabilidad de que ganemos es de 49/100. \n",
        "\n",
        "---\n",
        "\n",
        "La probabilidad de que la casa gane es de 51/100. \n",
        "\n",
        "---"
      ]
    },
    {
      "cell_type": "markdown",
      "metadata": {
        "id": "lxX6BUmRw84F"
      },
      "source": [
        "### Importamos librerías"
      ]
    },
    {
      "cell_type": "code",
      "metadata": {
        "id": "84RF5U2Rw84F"
      },
      "source": [
        "import random\n",
        "import matplotlib.pyplot as plt"
      ],
      "execution_count": 37,
      "outputs": []
    },
    {
      "cell_type": "markdown",
      "metadata": {
        "id": "NhBg9i2kw84G"
      },
      "source": [
        "### Creación de las apuestas del jugador"
      ]
    },
    {
      "cell_type": "code",
      "metadata": {
        "id": "rD2u8RM2w84G",
        "colab": {
          "base_uri": "https://localhost:8080/"
        },
        "outputId": "528a7cfa-5545-4cec-8ebf-66015309a2a6"
      },
      "source": [
        "#Player bet\n",
        "choice = input(\"Deseas apostar a pares o impares? \\n\")\n",
        "\n",
        "#Pares\n",
        "if choice == \"Par\":\n",
        "    def pickNote():\n",
        "        note = random.randint(1,100)\n",
        "        if (note % 2 == 1) or (note == 10):\n",
        "            return False\n",
        "        else:\n",
        "            return True\n",
        "\n",
        "elif choice == \"Odd\":\n",
        "    def pickNote():\n",
        "        if (note % 2 == 0) or (note == 11):\n",
        "            return False\n",
        "        else:\n",
        "            return True"
      ],
      "execution_count": 38,
      "outputs": [
        {
          "output_type": "stream",
          "text": [
            "Deseas apostar a pares o impares? \n",
            "Par\n"
          ],
          "name": "stdout"
        }
      ]
    },
    {
      "cell_type": "markdown",
      "metadata": {
        "id": "qkcWaqQWw84G"
      },
      "source": [
        "### Función principal"
      ]
    },
    {
      "cell_type": "code",
      "metadata": {
        "id": "m6p7qdXdw84G"
      },
      "source": [
        "def play(total_money, bet_money, total_plays):\n",
        "    num_plays=[]\n",
        "    money=[]\n",
        "\n",
        "    play = 1\n",
        "    \n",
        "    for play in range(total_plays):\n",
        "        if pickNote():\n",
        "            total_money = total_money + bet_money\n",
        "            num_plays.append(play)\n",
        "            money.append(total_money)\n",
        "            \n",
        "        else:\n",
        "            total_money = total_money - bet_money\n",
        "            num_plays.append(play)\n",
        "            money.append(total_money)\n",
        "    \n",
        "    plt.ylabel(\"Dinero en $\")\n",
        "    plt.xlabel(\"Numero de apuestas\")\n",
        "    plt.plot(num_plays, money)\n",
        "    \n",
        "    final_funds.append(money[-1])\n",
        "    return(final_funds)"
      ],
      "execution_count": 39,
      "outputs": []
    },
    {
      "cell_type": "markdown",
      "metadata": {
        "id": "IlfECONbw84H"
      },
      "source": [
        "### Resultado final"
      ]
    },
    {
      "cell_type": "code",
      "metadata": {
        "id": "iHFqe8Ivw84H",
        "colab": {
          "base_uri": "https://localhost:8080/",
          "height": 352
        },
        "outputId": "3599e591-a83d-4f59-b5c6-66eda1c84e39"
      },
      "source": [
        "final_funds = []\n",
        "for i in range(10):\n",
        "    ending_fund = play(10000, 100, 50)\n",
        "    \n",
        "print(ending_fund)\n",
        "print(sum(ending_fund))\n",
        "\n",
        "print(\"El jugador empezó con $10,000\")\n",
        "print(\"El jugador se fue con $\", str(sum(ending_fund)/len(ending_fund)))"
      ],
      "execution_count": 40,
      "outputs": [
        {
          "output_type": "stream",
          "text": [
            "[10200, 9400, 9400, 11600, 9400, 8400, 9600, 10800, 9800, 8800]\n",
            "97400\n",
            "El jugador empezó con $10,000\n",
            "El jugador se fue con $ 9740.0\n"
          ],
          "name": "stdout"
        },
        {
          "output_type": "display_data",
          "data": {
            "image/png": "[encoded data removed]",
            "text/plain": [
              "<Figure size 432x288 with 1 Axes>"
            ]
          },
          "metadata": {
            "tags": [],
            "needs_background": "light"
          }
        }
      ]
    },
    {
      "cell_type": "markdown",
      "metadata": {
        "id": "VrRcKK45w84I"
      },
      "source": [
        "## Ahora, para un total de apuestas de 5, 10 y 1000...."
      ]
    },
    {
      "cell_type": "markdown",
      "metadata": {
        "id": "hGT4-XOqw84I"
      },
      "source": [
        "### Ahora para mil iteraciones"
      ]
    },
    {
      "cell_type": "code",
      "metadata": {
        "id": "nWmhrrhPw84J",
        "colab": {
          "base_uri": "https://localhost:8080/",
          "height": 372
        },
        "outputId": "debedf93-3846-4866-9041-f17b25c5b743"
      },
      "source": [
        "final_funds = []\n",
        "for i in range(1000):\n",
        "    ending_fund = play(10000, 100, 5)\n",
        "    \n",
        "print(ending_fund)\n",
        "print(sum(ending_fund))\n",
        "\n",
        "print(\"El jugador empezó con $10,000\")\n",
        "print(\"El jugador se fue con $\", str(sum(ending_fund)/len(ending_fund)))"
      ],
      "execution_count": 41,
      "outputs": [
        {
          "output_type": "stream",
          "text": [
            "[10300, 10300, 9900, 9500, 10100, 9500, 10100, 10300, 9700, 9900, 10300, 10100, 10100, 10100, 10300, 10100, 9700, 9700, 9900, 9900, 10100, 10100, 10100, 9700, 10100, 10100, 10300, 9700, 10100, 9900, 9900, 10100, 10100, 10100, 10100, 9900, 10100, 9900, 9700, 9700, 10300, 9700, 9900, 10100, 9700, 9900, 10100, 10100, 10100, 9700, 9700, 10300, 10100, 10100, 9700, 9900, 10100, 10100, 10300, 10100, 10100, 10100, 9500, 9900, 9900, 9900, 9700, 10300, 10100, 10100, 9900, 10300, 9500, 10100, 9900, 9500, 10500, 10100, 9900, 9900, 10500, 9900, 9900, 10100, 9900, 10100, 9900, 9500, 10100, 10100, 10100, 9900, 10100, 9700, 9700, 10100, 10100, 10100, 10100, 10100, 9900, 9700, 9700, 9900, 9700, 9900, 9700, 9900, 9700, 10300, 9900, 9900, 9700, 9900, 10100, 9700, 9900, 9500, 9900, 10100, 9900, 9700, 10100, 10100, 10300, 9900, 9500, 9900, 9900, 9900, 10300, 9900, 10100, 9700, 9900, 10300, 9900, 9700, 10300, 9900, 10100, 10100, 10500, 9900, 9700, 9700, 10100, 10500, 10300, 9900, 9700, 9900, 10300, 9900, 10100, 10100, 9700, 10100, 9900, 9900, 9900, 9900, 9900, 10300, 10300, 9900, 9900, 9900, 10100, 10100, 10300, 10300, 10100, 9900, 10300, 9900, 9900, 10100, 10100, 9700, 10500, 9700, 9700, 10100, 9900, 9900, 10100, 9700, 10300, 9700, 10500, 9700, 10500, 9700, 9900, 9900, 10100, 9900, 10100, 9700, 9900, 9700, 9700, 10300, 10100, 9700, 10100, 10100, 10100, 9900, 9700, 10100, 10100, 9500, 9700, 10300, 9700, 9900, 9900, 10300, 9700, 9900, 9700, 10100, 10100, 9900, 10100, 9900, 10100, 10100, 9900, 9900, 9900, 10500, 9700, 9900, 9900, 9900, 10100, 10100, 9700, 10300, 9900, 9900, 9900, 10300, 10100, 9700, 9700, 10300, 9900, 9700, 10100, 10300, 10100, 10100, 9700, 9900, 9700, 9700, 10100, 9700, 9900, 9900, 10100, 9900, 9700, 9900, 9700, 9700, 10300, 10300, 10100, 9900, 10300, 10100, 10100, 10300, 10300, 10300, 10100, 10100, 10100, 9700, 10100, 9700, 10100, 10300, 9900, 10300, 10100, 9900, 9900, 9500, 9700, 9500, 10100, 9900, 10100, 9700, 10100, 10100, 10100, 10300, 9900, 10500, 9500, 9900, 9700, 9900, 10100, 9900, 10300, 10100, 10100, 10300, 10300, 10300, 9500, 9900, 9700, 10100, 9700, 10100, 9700, 9900, 9900, 10100, 10100, 9700, 9700, 9700, 9700, 10100, 9700, 10500, 10100, 10500, 10300, 9900, 10300, 10100, 10100, 10100, 10300, 9500, 9900, 10300, 9900, 9900, 10100, 9700, 9700, 10100, 9700, 9900, 10300, 10100, 10100, 10300, 9900, 9500, 10100, 9700, 9900, 10100, 10300, 10300, 10100, 10300, 9900, 10100, 10100, 9900, 9700, 9900, 9700, 9900, 9900, 10100, 10100, 10100, 9700, 9900, 9900, 10300, 10300, 10100, 10300, 10100, 9500, 9900, 9700, 10100, 10100, 10100, 9900, 9900, 9700, 10100, 9500, 10100, 9700, 9700, 9700, 10300, 9700, 10300, 9900, 9900, 9900, 9900, 9700, 10300, 9500, 10300, 9900, 9700, 10100, 9700, 10100, 9700, 10100, 10100, 10300, 10100, 9700, 10500, 9700, 10100, 9700, 10100, 10100, 9900, 9900, 10300, 9900, 9700, 9700, 10100, 9500, 9900, 9900, 9900, 10100, 9700, 9900, 10100, 10500, 9700, 10300, 9900, 10500, 9500, 10300, 10300, 10300, 9900, 10100, 10100, 9900, 10100, 9700, 9700, 9900, 10100, 9900, 9900, 9700, 9900, 9900, 10300, 10300, 9700, 10100, 9900, 9500, 10100, 9700, 10300, 10100, 9500, 9900, 10300, 10100, 9900, 9900, 10300, 9900, 9700, 10300, 9900, 9900, 9700, 10100, 10500, 10300, 9700, 10100, 10100, 10100, 9900, 9700, 10100, 10100, 10300, 10100, 10100, 10100, 10100, 9900, 9700, 9900, 9900, 9900, 9900, 10300, 9900, 9900, 10300, 9900, 10100, 10300, 10100, 10100, 9900, 10300, 9700, 10300, 9700, 10100, 9900, 10100, 9900, 9900, 10100, 9900, 9900, 9900, 9900, 9700, 9700, 10500, 10100, 10100, 9900, 10100, 10100, 9700, 9900, 10100, 10100, 9900, 9900, 10100, 9900, 10100, 10300, 10500, 9900, 10100, 10300, 10100, 9900, 10100, 10300, 10500, 9500, 9900, 9700, 9700, 10300, 9900, 9900, 10100, 9900, 10300, 9700, 9700, 9700, 10100, 10100, 10100, 9900, 10300, 10100, 10300, 9500, 9500, 10100, 10300, 9900, 9700, 9700, 10300, 10300, 9700, 10300, 9900, 9900, 10100, 9900, 10300, 9900, 10100, 9900, 9900, 10100, 10100, 9900, 10300, 10300, 10100, 10300, 9900, 9900, 9700, 9500, 10100, 9900, 10100, 9900, 10100, 9900, 9900, 9900, 10100, 10100, 9900, 10300, 10100, 9900, 9700, 9700, 9700, 10100, 10300, 10300, 10100, 9700, 10100, 9900, 9900, 10100, 10300, 9700, 9900, 10100, 9500, 9700, 9900, 9900, 9900, 10100, 10300, 10100, 9700, 9900, 10300, 10100, 9700, 9700, 10100, 10100, 10300, 10300, 10100, 10100, 10300, 10500, 9900, 10100, 10100, 9500, 9900, 10100, 10100, 10300, 10100, 9700, 10100, 9500, 10500, 10100, 9700, 10300, 10300, 9500, 9900, 10100, 9700, 10300, 10300, 9700, 9700, 10100, 9700, 9900, 9700, 9500, 9700, 10100, 9700, 9500, 9700, 10300, 10100, 10100, 10300, 10100, 9900, 9900, 10100, 9900, 10100, 9700, 9900, 10100, 10100, 10100, 9900, 10100, 9700, 10300, 10100, 9900, 9900, 9900, 10100, 9700, 9500, 10100, 10300, 9900, 10100, 9700, 10300, 9900, 10100, 10100, 10100, 9500, 10100, 10100, 9900, 9900, 10100, 10100, 9500, 10100, 10100, 10100, 9900, 10100, 10100, 10100, 9700, 9700, 9900, 10300, 10100, 9500, 10300, 10300, 9900, 10100, 9700, 9700, 9900, 9500, 9900, 10100, 10100, 10100, 9900, 9900, 10100, 9700, 10300, 10100, 9700, 9900, 9700, 9700, 10100, 9900, 10100, 10100, 10100, 10100, 10500, 9500, 10300, 10500, 10300, 10100, 10100, 9900, 9700, 9900, 9700, 9900, 10300, 10100, 10100, 9900, 10300, 10100, 9900, 10100, 9900, 10100, 10100, 9900, 9500, 10100, 10100, 9900, 10300, 9900, 10500, 10100, 9900, 9900, 10300, 10300, 10100, 10300, 9900, 9700, 9700, 9900, 10100, 10300, 10100, 10300, 10100, 10100, 10100, 9700, 9900, 10100, 9700, 10300, 9500, 10300, 10300, 10300, 9700, 9900, 10100, 10300, 10100, 9900, 9900, 9700, 10300, 9900, 10100, 10100, 9700, 10300, 9700, 10300, 10300, 9900, 9700, 9900, 10100, 9900, 10100, 10100, 9700, 9900, 9700, 10500, 10300, 9700, 10100, 10100, 9500, 10300, 9700, 9900, 10100, 10100, 9700, 9900, 9700, 10100, 10100, 9900, 10100, 10100, 9700, 9500, 10100, 10100, 9700, 9700, 10100, 10100, 10100, 9900, 10300, 9900, 9900, 10100, 10300, 9900, 9700, 10100, 10100, 10100, 9700, 10300, 9500, 9500, 10300, 9700, 10100, 9900, 10300, 9900, 9700, 9900, 10300, 10300, 9900, 10100, 10100, 10300, 10100, 9900, 9900, 10100, 9700, 10100, 9700, 9700, 9900, 9900, 9700, 10100, 9500, 9900, 10300, 9700, 10100, 9900, 9900, 10100, 9900, 9900, 10100, 9900, 9900, 9700, 10300, 9700, 10100, 9900, 9900, 10100, 9900, 10100, 10300, 9900, 10100, 10500, 10100, 10300, 10300, 9900, 9900, 9900, 10100, 10100, 9900, 10100, 10300, 9900, 10100, 10300, 9900, 9700, 9900, 9900, 10300, 9900, 9500, 9900, 9900, 10100, 10300, 10100, 9700, 9900, 9700, 9900]\n",
            "9984600\n",
            "El jugador empezó con $10,000\n",
            "El jugador se fue con $ 9984.6\n"
          ],
          "name": "stdout"
        },
        {
          "output_type": "display_data",
          "data": {
            "image/png": "[encoded data removed]",
            "text/plain": [
              "<Figure size 432x288 with 1 Axes>"
            ]
          },
          "metadata": {
            "tags": [],
            "needs_background": "light"
          }
        }
      ]
    },
    {
      "cell_type": "code",
      "metadata": {
        "id": "4jlvbJ7iw84J",
        "colab": {
          "base_uri": "https://localhost:8080/",
          "height": 372
        },
        "outputId": "4f285d46-0aff-46af-b07e-f3374204fc5d"
      },
      "source": [
        "final_funds = []\n",
        "for i in range(1000):\n",
        "    ending_fund = play(10000, 100, 10)\n",
        "    \n",
        "print(ending_fund)\n",
        "print(sum(ending_fund))\n",
        "\n",
        "print(\"El jugador empezó con $10,000\")\n",
        "print(\"El jugador se fue con $\", str(sum(ending_fund)/len(ending_fund)))"
      ],
      "execution_count": 42,
      "outputs": [
        {
          "output_type": "stream",
          "text": [
            "[10200, 10200, 9800, 9800, 10000, 10000, 10000, 9800, 10400, 9400, 10000, 10400, 9800, 10200, 9600, 10200, 10200, 10000, 9600, 10000, 10400, 9800, 9800, 10400, 10000, 10000, 9600, 9400, 9800, 10200, 10400, 9200, 9800, 10200, 9400, 9800, 10200, 10000, 10200, 9800, 9400, 10400, 9600, 10800, 9600, 9600, 10200, 10400, 10000, 9600, 9600, 9600, 10200, 10000, 10200, 9800, 9600, 10200, 9400, 9800, 9800, 9400, 10400, 10000, 9800, 9800, 10200, 10200, 9800, 10400, 10600, 10200, 10000, 10200, 9600, 10000, 10200, 10200, 10600, 10200, 10000, 10000, 9800, 10000, 10000, 10000, 9800, 9800, 9800, 10200, 9800, 10000, 9800, 9400, 9600, 9600, 10000, 9800, 10200, 9400, 10000, 10200, 10000, 9800, 10000, 9600, 10000, 9600, 10000, 9600, 10200, 10000, 9600, 10600, 10600, 10200, 10200, 9600, 10000, 9600, 10000, 9800, 10000, 9800, 9800, 9600, 10200, 9600, 10000, 9600, 9600, 9400, 9800, 10000, 9800, 10000, 10200, 9800, 9400, 10000, 10200, 10200, 9800, 9800, 10400, 9800, 10200, 10200, 9800, 10000, 10200, 10000, 10000, 9200, 9600, 9800, 10000, 10000, 9800, 10800, 9600, 9600, 9600, 10200, 9800, 10200, 10400, 10400, 9800, 10200, 9600, 10200, 10000, 9800, 10000, 9600, 10000, 10000, 10600, 10200, 10800, 9600, 10000, 9200, 10000, 9600, 10000, 9800, 9600, 10600, 9600, 10400, 10200, 9600, 10000, 10200, 10400, 10000, 10000, 9400, 10800, 10400, 9800, 9800, 10200, 9800, 10000, 10200, 9800, 9800, 9800, 9400, 10200, 10200, 10400, 9600, 9600, 9600, 10000, 10200, 10000, 10000, 9800, 9600, 9800, 10200, 10200, 9800, 10200, 10600, 9200, 9600, 10400, 9800, 10400, 9800, 9800, 10200, 10000, 10200, 9600, 10000, 10200, 10400, 10000, 10600, 10200, 10000, 10200, 10400, 9600, 10000, 10200, 10000, 10000, 9800, 9400, 10200, 10000, 9800, 10200, 10000, 10000, 10200, 9600, 10200, 10200, 9800, 10000, 10400, 10200, 10200, 10200, 9800, 10800, 9800, 10000, 10400, 9600, 10000, 10000, 10200, 10000, 9800, 10200, 9200, 9800, 10000, 9800, 10000, 9600, 9800, 10200, 9800, 10200, 9600, 10400, 10200, 9600, 10000, 10200, 9800, 9400, 10200, 10000, 9400, 10200, 9800, 10200, 10000, 9800, 9600, 10000, 9600, 9600, 9600, 10000, 9800, 9600, 10400, 10600, 10000, 10200, 9800, 10200, 9600, 10600, 10000, 10200, 10000, 10000, 9800, 10400, 10000, 9800, 10000, 9600, 9800, 9800, 10000, 10000, 10200, 10400, 9800, 10400, 9800, 10000, 10400, 10000, 10200, 10400, 9800, 9600, 10000, 10200, 9800, 10000, 10000, 9800, 10000, 9600, 10000, 9800, 9800, 9400, 9600, 9400, 10400, 9600, 10200, 10400, 10200, 10400, 9800, 10000, 9800, 10000, 9600, 10000, 9800, 9400, 10000, 9800, 10200, 9400, 10000, 10000, 10400, 10200, 9600, 10200, 10000, 9800, 9200, 9600, 9800, 9400, 9800, 10400, 10000, 10200, 9800, 9800, 10400, 10000, 9400, 9800, 9800, 10400, 9800, 10600, 9600, 10200, 10400, 9400, 9600, 9800, 10400, 9200, 10200, 9600, 10600, 10400, 9800, 10400, 9400, 9600, 9800, 10000, 10200, 10000, 10600, 10000, 10200, 9800, 10200, 10600, 9800, 10200, 9400, 10000, 10400, 10000, 10600, 9800, 9600, 10000, 10200, 10000, 9800, 9800, 10200, 9800, 9800, 10600, 10200, 10000, 10600, 9800, 9800, 9600, 9400, 9600, 10000, 10000, 9600, 10000, 9600, 9600, 10200, 10400, 10000, 10000, 10400, 10400, 10000, 10200, 10400, 10000, 10000, 10000, 10000, 10200, 10600, 10600, 10200, 10200, 9800, 9600, 9600, 10600, 10000, 10400, 10000, 10600, 10600, 9800, 10200, 10000, 10000, 10400, 9600, 10400, 9600, 10000, 9400, 9800, 10200, 9600, 10200, 10000, 9800, 10000, 10400, 10200, 10000, 10200, 10400, 10400, 10200, 10200, 9600, 9800, 9800, 10000, 10600, 10000, 10000, 10400, 10000, 9600, 9600, 10000, 9800, 9800, 10000, 9800, 9800, 10000, 10400, 10200, 9800, 10800, 10000, 10400, 10200, 9800, 10000, 9600, 10000, 9800, 10600, 9800, 10000, 10400, 9600, 9200, 10000, 9800, 9800, 9600, 9800, 9600, 10400, 9800, 10000, 9600, 9800, 10000, 9600, 10000, 9800, 9800, 9800, 9600, 9800, 9800, 10000, 10200, 9400, 9800, 9800, 10000, 10000, 9800, 9600, 10400, 9600, 9800, 9600, 10000, 10000, 10200, 10400, 10800, 10400, 9800, 9600, 10600, 9600, 10200, 9800, 10000, 10000, 9800, 9600, 10000, 9800, 10200, 10200, 10000, 10200, 10200, 10400, 10000, 10200, 9800, 10200, 9800, 10000, 10000, 9800, 10200, 9800, 10400, 10200, 10000, 9400, 10000, 10400, 10400, 10600, 10400, 10400, 10000, 10600, 10000, 10000, 10000, 10000, 10600, 10400, 10200, 10400, 10200, 9600, 10200, 10000, 9800, 9600, 10400, 10200, 10000, 9800, 10000, 9400, 10400, 10200, 9400, 9800, 10200, 10000, 10000, 10000, 10000, 9400, 10200, 9800, 10400, 10000, 10200, 9800, 10200, 9600, 10400, 9800, 9800, 10000, 9800, 9400, 9200, 9400, 10200, 10200, 9600, 10400, 9400, 10200, 10400, 10200, 10200, 10200, 9800, 9600, 10000, 10000, 10000, 10000, 10200, 10200, 10400, 9600, 10400, 9600, 10000, 10400, 10400, 10000, 10200, 10000, 10000, 10000, 10000, 10000, 10200, 10400, 9400, 9600, 9600, 10400, 10200, 9800, 10200, 10200, 10000, 9600, 9800, 9800, 9800, 9600, 9600, 10200, 10400, 10000, 10000, 10200, 10400, 10000, 9600, 10000, 9400, 10000, 9600, 10600, 10400, 9800, 10200, 10000, 9800, 10000, 9600, 10000, 10000, 10200, 10200, 10000, 10200, 10200, 9800, 10000, 10000, 10400, 10200, 9600, 9800, 10000, 9800, 10200, 10200, 9800, 9800, 9600, 9800, 9800, 10000, 10200, 10000, 10600, 10200, 10000, 10600, 10000, 9800, 9800, 10000, 9800, 10000, 9600, 10200, 9800, 10000, 10000, 10400, 9400, 9800, 10200, 10200, 9600, 10200, 9400, 9400, 10000, 9600, 9800, 10200, 9800, 10400, 9600, 10200, 9800, 10200, 10000, 9400, 10200, 10000, 10000, 9600, 10200, 9600, 9800, 10200, 9800, 10000, 9800, 10200, 10000, 9600, 9600, 10600, 10200, 9800, 10000, 10200, 10600, 9800, 9400, 10000, 10200, 10400, 10000, 10400, 10200, 10200, 10200, 10200, 9800, 10400, 10000, 10000, 9800, 10200, 10000, 9600, 10200, 10200, 10200, 10200, 9800, 9800, 10000, 11000, 9800, 9800, 9800, 10000, 9400, 10000, 9800, 10200, 9800, 10200, 9600, 9800, 10200, 9600, 10200, 9400, 10600, 9600, 10600, 9800, 10200, 10200, 9800, 10200, 10400, 9600, 9800, 9800, 10600, 10000, 10000, 10000, 9600, 9800, 9600, 9800, 10800, 10000, 10000, 9800, 10000, 10000, 9800, 10000, 10000, 10000, 9600, 10000, 10200, 9800, 9600, 10200, 10000, 9600, 10400, 10000, 9600, 10200, 10400, 9800, 9600, 10400, 9800, 10200, 10400, 9800, 9600, 10200, 10400, 9800, 10200, 10600, 10400, 10000, 9600, 9800, 9600, 10000, 10000, 10200, 9400, 10000, 10200, 9800, 9800, 10000, 10400, 10400, 10000, 10200, 10200, 10400, 10000, 9800, 9600, 10000, 9200, 10000, 9800, 10400, 10200, 9800, 10000, 9400, 10000, 10000, 9800, 9800, 10000, 10000, 10000, 9600, 10200, 9800, 9800, 9600, 9400, 10000, 10200, 9800, 10000, 10400, 9400, 10000, 10200, 10000, 9600, 10000, 10400, 10000, 9800, 10600, 10200, 9800, 10200, 9600, 10000, 10400, 10400]\n",
            "9978400\n",
            "El jugador empezó con $10,000\n",
            "El jugador se fue con $ 9978.4\n"
          ],
          "name": "stdout"
        },
        {
          "output_type": "display_data",
          "data": {
            "image/png": "[encoded data removed]",
            "text/plain": [
              "<Figure size 432x288 with 1 Axes>"
            ]
          },
          "metadata": {
            "tags": [],
            "needs_background": "light"
          }
        }
      ]
    },
    {
      "cell_type": "code",
      "metadata": {
        "id": "-wOjGMqAw84K",
        "colab": {
          "base_uri": "https://localhost:8080/",
          "height": 374
        },
        "outputId": "2e113f56-ad95-41cd-a94a-e393c8582416"
      },
      "source": [
        "final_funds = []\n",
        "for i in range(1000):\n",
        "    ending_fund = play(10000, 100, 1000)\n",
        "    \n",
        "print(ending_fund)\n",
        "print(sum(ending_fund))\n",
        "\n",
        "print(\"El jugador empezó con $10,000\")\n",
        "print(\"El jugador se fue con $\", str(sum(ending_fund)/len(ending_fund)))"
      ],
      "execution_count": 43,
      "outputs": [
        {
          "output_type": "stream",
          "text": [
            "[3800, 9400, 6800, 6800, 7000, 12600, 8800, 6800, 6400, 12000, 9400, 7200, 16400, 8200, 9000, 4000, 16000, 9200, 11000, 5000, 9600, 3800, 9600, 6600, 14600, 5800, 6600, 5400, 11000, 9600, 8600, 6000, 5000, 9800, 9400, 7400, 7600, 4800, 5800, 7800, 12600, 15000, 13000, 5000, 4600, 7400, 1600, 6800, 600, 7400, 6000, 4600, 13600, 5800, 3200, 7800, 7400, 8400, 10800, 12600, 14800, 6000, 5600, 10400, 8200, 2400, 4400, 2200, 7800, 12000, 4400, 9800, 6600, 9600, 5200, 9600, 8000, 7200, 9000, 8000, 11000, 9600, 6800, 8600, 4600, 5800, 10800, 11000, 6000, 8200, 8000, 5000, 11000, 5400, 6200, 7200, 3000, 6800, 5600, 8200, 10000, 3600, 2200, 7600, 1000, 8000, 11600, 10600, 9800, 6000, 10000, 8800, 14600, 10800, 6600, 7600, 3600, 10200, 10800, 8600, 6400, 8600, 9000, 9400, 9600, 8400, 9400, 12200, 10000, 800, 12400, 8400, 7400, 8600, 7600, 7200, 9000, 9800, 7800, 11600, 6600, 4800, 9400, 200, 1600, 7000, 12800, 4400, 6200, 10000, 5800, 9400, 8800, 8800, 16600, 4000, 7400, 7400, 5400, 5000, 9400, 7800, 9200, 7400, 11200, 3600, 5800, 5600, 6800, 6000, 7000, 9600, 8800, 12200, 6000, 5200, 7400, 11000, 9800, 8800, 13400, 7600, 10200, 11400, 12400, 4200, 3000, 7200, 4400, 5000, 4200, 2000, 5200, 3000, 11200, 8000, 10600, 4400, 10000, 4200, 4600, 11600, 9800, 800, 10400, 8000, 4400, 3400, 10200, 7800, 2600, 10800, 6800, 13200, 4200, 3200, 8200, 14800, 600, 11600, 2200, 10800, 7400, 9200, 5000, 10200, 13400, 6200, 10000, 5400, 5200, 5400, 5200, 5400, 12800, 6600, 11400, 11800, 9400, 11400, 7200, 10800, 3200, 9400, 6800, 13000, 6400, 10600, 3600, 7400, 9200, 10000, 8200, 1600, 5000, 8000, 5200, 5800, 11200, 7200, 3400, 8200, 8800, 14800, 10600, 4800, 8400, 10200, 3400, 10000, 4800, 11000, 6400, 9600, 5600, 12200, 9800, 6800, 10000, 10000, 9800, 5800, 11400, 12600, 4200, 11200, 9400, 5800, 13200, 5000, 11200, 9200, 13400, 3400, 5600, 6600, 1600, 9000, 8600, 9000, 11600, 8600, 5800, 11000, 5000, 7200, 7400, 9600, 5800, 10000, 11200, 10800, 6600, 5600, 8800, 10400, 9400, 10200, 8000, 14000, 9200, 2000, 11600, 15400, 8000, 5200, 9000, 12600, 11000, 7800, 5200, 8600, 8000, 14000, 9000, 4000, 8800, 3600, 9000, 8000, 5200, 7800, 5800, 2800, 7600, 9400, 7400, 8200, 8000, 5400, 8600, 7400, 2400, 5000, 9400, 1400, 6600, 3400, 9400, 13200, 6800, 3000, 8400, 6400, 5600, 5400, 8000, 7200, 9600, 9000, 5600, 4200, 14400, 6200, 8000, 9600, 2400, 18800, 10800, 9200, 10200, 8000, 4600, 12600, 8200, 5600, 8600, 10600, 10600, 6400, 5000, 8600, 9400, 12600, 5800, 7800, 6000, 6600, 7400, 7000, 10600, 13000, 10000, 8200, 8000, 10800, 11000, 8800, 8200, 10000, 4000, 4400, 4200, 9400, 8600, 6400, 8200, 6600, 8000, 5400, 4400, 6400, 4600, 6200, 7200, 5000, 11600, 4600, 8200, 6600, 6200, 9000, 12600, 5800, 12000, 6000, 4600, 5600, 2600, 10200, 8000, 8400, 5800, 7400, 8600, 10600, 10200, 9600, 7600, 4800, 8200, 9400, 4400, 2600, 10200, 8000, 8000, 10800, 6600, 7200, 600, 6600, 5600, 8000, 8200, 10600, 11600, 16400, 9600, 8400, 10400, 9800, 8800, 4400, 11200, 7600, 3600, 10800, 11200, 7800, 2800, 10200, 4200, 7000, 6400, 11400, 8600, 1000, 1200, 8200, 6000, 6200, 6600, 4600, 5400, 14000, 11400, 11400, 9000, 4200, 8000, 7800, 8400, 4600, 6400, 9200, 15200, 9000, 10400, 8600, 5800, 6800, 9600, 11400, 8400, 7800, 5800, 9000, 9200, 9000, 10200, 9000, 11200, 10600, 11800, 12000, 9400, 10600, 4200, 12600, 9200, 8800, 12800, 7600, 3800, 8600, 12600, 6200, 5400, 8200, 11400, 11800, 12800, 9600, 2200, 9800, 12600, 4200, 2400, 3600, 10800, 7800, 10200, 7400, 9800, 8400, 7400, 11000, 8400, 7600, 10200, 14000, 4600, 8400, 4800, 12000, 4800, 8400, 15800, 3400, 7600, 13400, 4000, 4000, 6200, 6000, 7200, 5200, 3200, 5600, 7000, 6400, 8800, 10000, 6400, 10400, 3200, 6200, 2200, 8200, 8600, 9600, 7400, 7000, 3400, 14000, 4400, 11000, 8800, 4600, 13400, 9600, 5000, 7400, 11200, 8400, 6800, 4600, 5400, 9400, 6200, 4800, 7600, 4800, 14800, 2400, 9000, 7000, 9200, 9800, 5800, 5800, 9800, 11400, 8800, 11000, 2000, 12200, 4600, 6000, 9000, 5000, 6000, 6600, 9200, 5400, 6800, 11800, 8600, 5400, 12000, 5800, 1800, 8400, 9400, 10800, 2000, 8400, 10600, 5200, 12000, 8800, 5400, 5800, 10200, 4200, 8600, 9600, 1800, 9000, 9600, 5200, 4600, 11200, 8800, 13400, 10400, 10600, 5800, 5800, 6400, 5400, 2400, 5600, 6400, 11400, 6200, 8000, 5800, 3600, 9800, 10200, 3800, 3800, 12000, 11800, 8600, 8200, 7000, 8200, 10200, 3000, 14400, 5000, 5600, 7200, 7400, 15600, 10200, 7800, 8400, 9000, 10600, 8000, 6800, 12200, 6800, 4200, 10000, 9200, 4800, 1800, 13000, 1600, 9600, 5800, 6600, 14800, 1600, 10000, 3600, 2000, 3400, 12800, 8800, 6600, 11800, 5200, 13600, 10800, 7000, 8800, 2600, 3800, 18000, 9600, 7200, 7800, 9600, 14600, 5600, 9000, 8600, 10000, 14800, 7000, 9600, 4400, 9800, 8800, 9600, 6600, 13200, 5600, 11800, 6800, 5000, 9600, 5800, 11600, 13000, 9800, 9400, 12000, 10000, 3000, 9200, 3200, 9600, 4800, 10800, 2800, 7000, 11000, 5800, 3200, 8200, 7400, 7800, 12200, 8800, 9600, 15600, 4800, 6800, 7200, 8200, 8200, 6800, 8400, 7000, 8200, 6600, 10200, 11600, 2800, 14600, 4600, 6800, 7200, 7000, 8400, 7600, 7400, 4400, 5600, 8800, 3400, 10000, 6400, 2400, 7200, 5800, 7000, 10200, 5800, 13400, 6000, 4200, 8000, 12000, 9600, 9800, 5600, 7400, 9600, 12000, 8600, 8800, 12400, 6200, 11600, 10200, 11400, 1000, 10800, 16400, 8600, 8600, 4800, 9000, 13400, 3000, 10400, 5800, 7600, 8200, 4800, 600, 9800, 10400, 9800, 8800, 4200, 9000, 9400, 5800, 6400, 15800, 9800, 6800, 9000, 8400, 11400, 7400, 2800, 11000, 7800, 10200, 13400, -800, 15800, 9800, 8600, 9400, 8400, 8400, 11600, 9600, 6600, 8200, 9800, 13200, 7600, 10600, 4800, 4200, 9800, 8200, 12000, 10800, 8600, 8600, 8400, 5600, 8800, 8200, 12600, 1800, 4400, 8000, 3400, 9400, 12000, 10600, 8800, 9200, 6000, 9800, 4800, 7800, 11600, 8200, 12600, 7400, 8400, 5200, 5600, 9600, 5800, 8200, 4000, 8200, 10000, 6400, 7800, 3000, 3000, 6000, 13600, 10000, 7800, 8400, 7600, 3400, 15400, 12000, 8800, 8200, 3800, 9600, 4800, 8200, 11200, 7600, 11600, 3000, 8000, 7400, 9400, 8200, 10400, 10400, 2800, 6400, 12600, 2400, 11000, 7000, 2800, 6400, 10400, 4400, 9600, 6000, 8000, 10200, 5200, 4000, 16800, 10000, 10000, 11400, 1400, 14800, 9000, 4200, 8600, 9600, 6600, 12200, 6000, 10000, 5400, 8000, 8800, 2200, 6400, 7000, 16000, 8400, 14600, 8800, 9200, 12200, 4800, 13000, 5600, 9000, 6400]\n",
            "7988600\n",
            "El jugador empezó con $10,000\n",
            "El jugador se fue con $ 7988.6\n"
          ],
          "name": "stdout"
        },
        {
          "output_type": "display_data",
          "data": {
            "image/png": "[encoded data removed]",
            "text/plain": [
              "<Figure size 432x288 with 1 Axes>"
            ]
          },
          "metadata": {
            "tags": [],
            "needs_background": "light"
          }
        }
      ]
    },
    {
      "cell_type": "markdown",
      "metadata": {
        "id": "ogRXi5jTw84K"
      },
      "source": [
        "### ¿Qué conclusiones puedes inferir a partir del ejercicio anterior?"
      ]
    },
    {
      "cell_type": "markdown",
      "metadata": {
        "id": "374lX4WVbacR"
      },
      "source": [
        "La casa siempre gana :( o casi siempre :( la mayoría del tiempo ':D"
      ]
    },
    {
      "cell_type": "markdown",
      "metadata": {
        "id": "jYJLMx5Vw84L"
      },
      "source": [
        "----\n",
        "\n",
        "Tenga en cuenta que estos porcentajes son para nuestro juego figurativo y pueden modificarse....\n",
        "\n",
        "\n",
        "-------\n",
        "\n",
        "Al igual que con cualquier modelo de pronóstico, la simulación solo será tan buena como las estimaciones que hagamos. Es importante recordar que la simulación de Monte Carlo solo representa probabilidades y no certeza. Sin embargo, la simulación de Monte Carlo puede ser una herramienta valiosa a la hora de pronosticar un futuro desconocido."
      ]
    }
  ]
}